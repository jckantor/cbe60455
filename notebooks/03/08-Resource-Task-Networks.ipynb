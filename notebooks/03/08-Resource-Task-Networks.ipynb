{
 "cells": [
  {
   "cell_type": "markdown",
   "id": "2ad8a1f6-4f66-475f-91f7-4edeeab49199",
   "metadata": {},
   "source": [
    "# Resource Task Networks\n",
    "\n",
    "http://egon.cheme.cmu.edu/ewo/docs/CMU_EWO_Sep_08.pdf\n",
    "\n",
    "https://www.sciencedirect.com/science/article/pii/S0098135411000123\n",
    "\n",
    "https://pubs.acs.org/doi/pdf/10.1021/ie401044q\n",
    "\n",
    "https://pubs.acs.org/doi/10.1021/ie401044q"
   ]
  },
  {
   "cell_type": "markdown",
   "id": "cc0d7c87-fd8f-49f7-bd57-6f7f3641c28b",
   "metadata": {},
   "source": [
    "**Tasks**\n",
    "\n",
    "* A **Task** models the execution of a discrete operation that a is component of a larger process. The task is allocated and releases one or more unit resources while performing the operation. A continuous variable determines the extent of task. The amount of state resources consumed or produced by the task scales in proportion to the extent, and may be subject to bounds imposed by the size of the unit resources assigned to the task. The bounds may be task dependent.\n",
    "\n",
    "**Resources**\n",
    "\n",
    "* A **State Resource** models the consumption and production of homogeneous, undifferentiated bulk goods. The goods can represent material or energy resources. The resources may be characterized by thermodynamic state. The amount of material consumed or produced scales with the size of the task. \n",
    "* A **Unit Resource** models the allocation and release of discrete resources used to perform process tasks. An known integer number of unit resources are allocated or released for each instance of a task. The unit resource will have a minimum and maximum capacity that may depend on the task being performed.\n",
    "\n",
    "**Arcs**\n",
    "\n",
    "* The relationship between a task and resource are is characterized by a directed **Arc**. An arc drawn from a resource to task indicates consumption or allocation of a resource. An arc drawn from a task to a resource indicates the production or release of resource. Each arc is labeled by a positive parameter $a_{k, r, \\theta}$ that denotes the amount of resource $r$ consumed or produced by task $k$ at time $\\theta$ relative to the start of the task.\n"
   ]
  },
  {
   "cell_type": "markdown",
   "id": "fb568d00-24bf-4522-9e90-9a398ee23e4d",
   "metadata": {},
   "source": [
    "![Screen%20Shot%202017-09-16%20at%209.45.36%20PM.png](https://jckantor.github.io/CBE30338/figures/Kondili_1993.png)"
   ]
  },
  {
   "cell_type": "code",
   "execution_count": 142,
   "id": "9ba1c6b2-6159-4c1f-bfc4-6f1db6f84d27",
   "metadata": {},
   "outputs": [],
   "source": [
    "class State():\n",
    "    def __init__(self, name):\n",
    "        self.name = name\n",
    "        \n",
    "class Unit():\n",
    "    def __init__(self, name):\n",
    "        self.name = name\n",
    "    \n",
    "class Task():\n",
    "    def __init__(self, name):\n",
    "        self.name = name\n",
    "\n",
    "class RTN():\n",
    "    def __init__(self, name=\"\"):\n",
    "        self.name = name\n",
    "        self.states = {}\n",
    "        self.units = {}\n",
    "        self.tasks = {}\n",
    "        \n",
    "    def add_state(self, name):\n",
    "        pass\n",
    "        \n",
    "    def add_unit(self, name):\n",
    "        self.units[name] = Unit(name)\n",
    "\n",
    "    def add_task(self, name):\n",
    "        self.tasks[name] = Task(name)\n",
    "        "
   ]
  },
  {
   "cell_type": "code",
   "execution_count": 143,
   "id": "ba3299dc-0a62-40aa-b7aa-6c2277f2f7c9",
   "metadata": {},
   "outputs": [
    {
     "data": {
      "text/plain": [
       "<__main__.RTN at 0x7fa8548f8400>"
      ]
     },
     "metadata": {},
     "output_type": "display_data"
    }
   ],
   "source": [
    "rtn = RTN(\"Kondili\")\n",
    "\n",
    "rtn.add_state('feed A', capacity=500, initial=500)\n",
    "rtn.add_state('feed B', capacity=500, initial=500)\n",
    "rtn.add_state('feed C', capacity=500, initial=500)\n",
    "rtn.add_state('hot A', capacity=100)\n",
    "rtn.add_state('int AB', capacity=200)\n",
    "rtn.add_state('int BC', capacity=150)\n",
    "rtn.add_state('impure E', capacity=100)\n",
    "rtn.add_state('product 1', capacity=500)\n",
    "rtn.add_state('product 2', capacity=500)\n",
    "\n",
    "rtn.add_task('heating')\n",
    "rtn.aad_task('reaction 1')\n",
    "rtn.add_task('reaction 2')\n",
    "rtn.add_task('reaction 3')\n",
    "rtn.add_task('separation')\n",
    "\n",
    "\n",
    "display(rtn)\n"
   ]
  },
  {
   "cell_type": "code",
   "execution_count": 54,
   "id": "2c454f45-4b30-47be-9cc4-a44d11973d82",
   "metadata": {},
   "outputs": [],
   "source": [
    "# STN Data Structure\n",
    "stn = {\n",
    "    # states\n",
    "    'states': {\n",
    "        'feed A'   : {'capacity': 500, 'initial': 500, 'price':   0},\n",
    "        'feed B'   : {'capacity': 500, 'initial': 500, 'price':   0},\n",
    "        'feed C'   : {'capacity': 500, 'initial': 500, 'price':   0},\n",
    "        'hot A'    : {'capacity': 100, 'initial':   0, 'price': -10},\n",
    "        'int AB'   : {'capacity': 200, 'initial':   0, 'price': -10},\n",
    "        'int BC'   : {'capacity': 150, 'initial':   0, 'price': -10},\n",
    "        'impure E' : {'capacity': 100, 'initial':   0, 'price': -10},\n",
    "        'product 1': {'capacity': 500, 'initial':   0, 'price':  10},\n",
    "        'product 2': {'capacity': 500, 'initial':   0, 'price':  1000},\n",
    "    },\n",
    "    \n",
    "    # state to task arcs indexed by (state, task)\n",
    "    'sta': {\n",
    "        ('feed A',   'heating')   : {'rho': 1.0},\n",
    "        ('feed B',   'reaction 1'): {'rho': 0.5},\n",
    "        ('feed C',   'reaction 1'): {'rho': 0.5},\n",
    "        ('feed C',   'reaction 3'): {'rho': 0.2},\n",
    "        ('hot A',    'reaction 2'): {'rho': 0.4},\n",
    "        ('int AB',   'reaction 3'): {'rho': 0.8},\n",
    "        ('int BC',   'reaction 2'): {'rho': 0.6},\n",
    "        ('impure E', 'separation'): {'rho': 1.0},\n",
    "    },\n",
    "    \n",
    "    # task to state arcs indexed by (task, state)\n",
    "    'tsa': {\n",
    "        ('heating',    'hot A')    : {'dur': 1, 'rho': 1.0},\n",
    "        ('reaction 2', 'product 1'): {'dur': 2, 'rho': 0.4},\n",
    "        ('reaction 2', 'int AB')   : {'dur': 2, 'rho': 0.6},\n",
    "        ('reaction 1', 'int BC')   : {'dur': 2, 'rho': 1.0},\n",
    "        ('reaction 3', 'impure E') : {'dur': 1, 'rho': 1.0},\n",
    "        ('separation', 'int AB')   : {'dur': 2, 'rho': 0.1},\n",
    "        ('separation', 'product 2'): {'dur': 1, 'rho': 0.9},\n",
    "    },\n",
    "    \n",
    "    # unit data indexed by (unit, task)\n",
    "    'units': {\n",
    "        ('heater',    'heating')   : {'Vmin': 0, 'Vmax': 100},\n",
    "        ('reactor 1', 'reaction 1'): {'Vmin': 0, 'Vmax':  80},\n",
    "        ('reactor 1', 'reaction 2'): {'Vmin': 0, 'Vmax':  80},\n",
    "        ('reactor 1', 'reaction 3'): {'Vmin': 0, 'Vmax':  80},\n",
    "        ('reactor 2', 'reaction 1'): {'Vmin': 0, 'Vmax':  80},\n",
    "        ('reactor 2', 'reaction 2'): {'Vmin': 0, 'Vmax':  80},\n",
    "        ('reactor 2', 'reaction 3'): {'Vmin': 0, 'Vmax':  80},\n",
    "        ('still',     'separation'): {'Vmin': 0, 'Vmax': 200},\n",
    "    },\n",
    "}"
   ]
  },
  {
   "cell_type": "markdown",
   "id": "b0c4fdf6-95fc-4a03-8f67-751711e9e5ec",
   "metadata": {},
   "source": [
    "> \"Consider, for instance, an exothermic batch reactor reaction task $k$ with a duration of 5 hours converting raw material $A$ to material $B$. The reaction can be carried out in 10$te$ glass-lined reactor vessels. It uses 0.25 kg/s of steam per tonne of material being processed during the first hour of its operation. After this initial period, the reaction reaches normal operating temperature, and is kept there for the rest of the processing time by external cooling requiring 2 kg/s of cooling water per tonne of material being processed.\""
   ]
  },
  {
   "cell_type": "code",
   "execution_count": 147,
   "id": "9b8fdb7c-8a98-4e31-b8c2-bff62cf6b05f",
   "metadata": {},
   "outputs": [],
   "source": [
    "rtn = RTN(\"Pantelides 1994\")\n",
    "\n",
    "# resources\n",
    "rtn.add_resource(\"A\")\n",
    "rtn.add_resource(\"B\")\n",
    "rtn.add_resource(\"steam\")\n",
    "rtn.add_resource(\"cooling water\")\n",
    "\n",
    "# units\n",
    "rtn.add_unit(\"10te glass-lined reactor\")\n",
    "\n",
    "# tasks\n",
    "rtn.add_task(\"reaction task k\")\n",
    "\n",
    "# task inputs\n",
    "rtn.task[\"reaction task k\"].input(\"10te glass-lined reactor\"], 0, Vmax=10000)\n",
    "rtn.task[\"reaction task k\"].input(\"A\", 0, 1.0)\n",
    "rtn.task[\"reaction task k\"].input(\"steam\", 0, 900.0)\n",
    "rtn.task[\"reaction task k\"].input(\"cooling water\", [1, 2, 3, 4], 5600.0)\n",
    "\n",
    "# task outputs\n",
    "rtn.task[\"reaction task k\"].output(\"B\", 5, 1.0)\n",
    "rtn.task[\"reaction task k\"].release( \"10te glass-lined reactor\", 5)"
   ]
  },
  {
   "cell_type": "code",
   "execution_count": 95,
   "id": "ba873273-b532-4063-a6e9-4f74d75239e6",
   "metadata": {},
   "outputs": [
    {
     "data": {
      "image/png": "[encoded data removed]",
      "text/plain": [
       "<Figure size 1080x288 with 1 Axes>"
      ]
     },
     "metadata": {},
     "output_type": "display_data"
    }
   ],
   "source": [
    "import matplotlib.pyplot as plt\n",
    "import networkx as nx\n",
    "from networkx.algorithms import bipartite\n",
    "\n",
    "states = list(stn['states'].keys())\n",
    "tasks = sorted(list(set(t for s, t in stn['sta'].keys())))\n",
    "sta = stn['sta']\n",
    "tsa = stn['tsa']\n",
    "\n",
    "dg = nx.DiGraph()\n",
    "\n",
    "for s in states:\n",
    "    dg.add_node(s, node_color='b', node_shape='o', bipartite=0)\n",
    "    \n",
    "for t in tasks:\n",
    "    dg.add_node(t, node_color='r', node_shape='s', bipartite=1)\n",
    "    \n",
    "for s, t in sta.keys():\n",
    "    dg.add_edge(s, t)\n",
    "    \n",
    "for t, s in tsa.keys():\n",
    "    dg.add_edge(t, s)\n",
    "\n",
    "\n",
    "pos = {}\n",
    "for k, s in enumerate(states):\n",
    "    pos[s] = [k/len(states), 1]\n",
    "    \n",
    "for k, t in enumerate(tasks):\n",
    "    pos[t] = [k/len(tasks), -1]\n",
    "    \n",
    "fig, ax = plt.subplots(1, 1, figsize=(15, 4))\n",
    "nx.draw(dg, pos,\n",
    "        with_labels=True,\n",
    "        node_color=[dg.nodes[node][\"node_color\"] for node in dg.nodes()],\n",
    "        alpha=0.5,\n",
    "        node_shape='s',\n",
    "        node_size=3000)"
   ]
  },
  {
   "cell_type": "code",
   "execution_count": 87,
   "id": "2cb976ed-e259-446d-ab45-6549125ab7e9",
   "metadata": {},
   "outputs": [
    {
     "data": {
      "text/plain": [
       "{'reaction 3': array([-0.58333333, -1.        ]),\n",
       " 'separation': array([-0.29166667, -1.        ]),\n",
       " 'heating': array([ 0., -1.]),\n",
       " 'reaction 2': array([ 0.29166667, -1.        ]),\n",
       " 'reaction 1': array([ 0.58333333, -1.        ]),\n",
       " 'product 2': array([-0.58333333,  0.55555556]),\n",
       " 'product 1': array([-0.4375    ,  0.55555556]),\n",
       " 'feed B': array([-0.29166667,  0.55555556]),\n",
       " 'feed C': array([-0.14583333,  0.55555556]),\n",
       " 'int BC': array([0.        , 0.55555556]),\n",
       " 'impure E': array([0.14583333, 0.55555556]),\n",
       " 'hot A': array([0.29166667, 0.55555556]),\n",
       " 'int AB': array([0.4375    , 0.55555556]),\n",
       " 'feed A': array([0.58333333, 0.55555556])}"
      ]
     },
     "execution_count": 87,
     "metadata": {},
     "output_type": "execute_result"
    }
   ],
   "source": []
  },
  {
   "cell_type": "code",
   "execution_count": null,
   "id": "2d4cc2e7-fc5a-42ba-a779-133d47008017",
   "metadata": {},
   "outputs": [],
   "source": []
  },
  {
   "cell_type": "code",
   "execution_count": null,
   "id": "4c3e435f-5359-44b5-bd26-9003af4fdd2f",
   "metadata": {},
   "outputs": [],
   "source": []
  }
 ],
 "metadata": {
  "kernelspec": {
   "display_name": "Python 3 (ipykernel)",
   "language": "python",
   "name": "python3"
  },
  "language_info": {
   "codemirror_mode": {
    "name": "ipython",
    "version": 3
   },
   "file_extension": ".py",
   "mimetype": "text/x-python",
   "name": "python",
   "nbconvert_exporter": "python",
   "pygments_lexer": "ipython3",
   "version": "3.9.7"
  }
 },
 "nbformat": 4,
 "nbformat_minor": 5
}
