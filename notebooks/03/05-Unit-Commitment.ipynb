{
 "cells": [
  {
   "cell_type": "markdown",
   "metadata": {
    "colab_type": "text",
    "id": "eh0-fke71Hno"
   },
   "source": [
    "# Unit Commitment\n",
    "\n",
    "The production of electrical power to meet the demands of a regional power grid is among the most complex and important applications of mathematical optimization. A full treatment of the problem would consider the dispatch of mulitiple generating units and storage systems and the allocation of transportation resources to meet the projected demands of users.\n",
    "\n",
    "The scope of this notebook is an elementary introduction to the models used for unit commitment and closely follows [Unit Commitment](https://yalmip.github.io/example/unitcommitment/).  A more comprehensive discussion and implemenation can be found in the open source [Dispa-Set](http://www.dispaset.eu/en/latest/) package."
   ]
  },
  {
   "cell_type": "markdown",
   "metadata": {
    "colab_type": "text",
    "id": "SULnfFaYpXIQ"
   },
   "source": [
    "## Install Pyomo and Solvers for Google Colaboratory"
   ]
  },
  {
   "cell_type": "markdown",
   "metadata": {
    "colab_type": "text",
    "id": "4AAkdrrjrfdC"
   },
   "source": [
    "### Install and Import Pyomo"
   ]
  },
  {
   "cell_type": "code",
   "execution_count": null,
   "metadata": {
    "colab": {},
    "colab_type": "code",
    "id": "owz_lt6S-uAH"
   },
   "outputs": [],
   "source": [
    "!pip install -q pyomo\n",
    "import pyomo.environ as pyo"
   ]
  },
  {
   "cell_type": "markdown",
   "metadata": {
    "colab_type": "text",
    "id": "j7ABANpRpktv"
   },
   "source": [
    "### Install COIN-OR BONMIN and Create Solver"
   ]
  },
  {
   "cell_type": "code",
   "execution_count": null,
   "metadata": {
    "colab": {},
    "colab_type": "code",
    "id": "Vs8V6FbgdyK2"
   },
   "outputs": [],
   "source": [
    "!wget -N -q \"https://ampl.com/dl/open/bonmin/bonmin-linux64.zip\"\n",
    "!unzip -o -q bonmin-linux64\n",
    "bonmin = pyo.SolverFactory('bonmin', executable='/content/bonmin')"
   ]
  },
  {
   "cell_type": "markdown",
   "metadata": {
    "colab_type": "text",
    "id": "axFsSMlQp1qS"
   },
   "source": [
    "## Unit Specifications"
   ]
  },
  {
   "cell_type": "code",
   "execution_count": null,
   "metadata": {
    "colab": {
     "base_uri": "https://localhost:8080/",
     "height": 295
    },
    "colab_type": "code",
    "executionInfo": {
     "elapsed": 6631,
     "status": "ok",
     "timestamp": 1557426367466,
     "user": {
      "displayName": "Jeffrey Kantor",
      "photoUrl": "https://lh5.googleusercontent.com/-8zK5aAW5RMQ/AAAAAAAAAAI/AAAAAAAAKB0/kssUQyz8DTQ/s64/photo.jpg",
      "userId": "09038942003589296665"
     },
     "user_tz": 240
    },
    "id": "b6Ur0rQC0_1q",
    "outputId": "51854313-74eb-490f-d7cf-932c9d90e6cd"
   },
   "outputs": [
    {
     "data": {
      "image/png": "[encoded data removed]",
      "text/plain": [
       "<Figure size 432x288 with 1 Axes>"
      ]
     },
     "metadata": {
      "tags": []
     },
     "output_type": "display_data"
    }
   ],
   "source": [
    "import numpy as np\n",
    "import matplotlib.pyplot as plt\n",
    "\n",
    "units = {\n",
    "    'A': {'Pmin': 20, 'Pmax': 100, 'Q': 0.04, 'C': 10, 'min_up':  6, 'min_down': 3},\n",
    "    'B': {'Pmin': 40, 'Pmax':  50, 'Q': 0.01, 'C': 20, 'min_up': 30, 'min_down': 6},\n",
    "    'C': {'Pmin':  1, 'Pmax':  25, 'Q': 0.02, 'C': 20, 'min_up':  1, 'min_down': 3},\n",
    "    'U': {'Pmin':  1, 'Pmax': 200, 'Q': 0.00, 'C': 60, 'min_up':  0, 'min_down': 0}\n",
    "}\n",
    "\n",
    "for key,unit in units.items():\n",
    "    P = np.linspace(unit['Pmin'], unit['Pmax'])\n",
    "    C = unit['Q']*P**2 + unit['C']*P\n",
    "    plt.plot(P, C, label=key)\n",
    "\n",
    "plt.title('individual unit characteristics')\n",
    "plt.xlabel('power / mw')\n",
    "plt.ylabel('cost / $/hr')\n",
    "plt.legend()\n",
    "plt.grid(True)"
   ]
  },
  {
   "cell_type": "code",
   "execution_count": null,
   "metadata": {
    "colab": {
     "base_uri": "https://localhost:8080/",
     "height": 283
    },
    "colab_type": "code",
    "executionInfo": {
     "elapsed": 6857,
     "status": "ok",
     "timestamp": 1557426367702,
     "user": {
      "displayName": "Jeffrey Kantor",
      "photoUrl": "https://lh5.googleusercontent.com/-8zK5aAW5RMQ/AAAAAAAAAAI/AAAAAAAAKB0/kssUQyz8DTQ/s64/photo.jpg",
      "userId": "09038942003589296665"
     },
     "user_tz": 240
    },
    "id": "v1CtCrb0xq1E",
    "outputId": "7d479c97-233d-4f46-c2b0-b25735c1be68"
   },
   "outputs": [
    {
     "data": {
      "text/plain": [
       "<matplotlib.axes._subplots.AxesSubplot at 0x7eff9ff2f630>"
      ]
     },
     "execution_count": 4,
     "metadata": {
      "tags": []
     },
     "output_type": "execute_result"
    },
    {
     "data": {
      "image/png": "[encoded data removed]",
      "text/plain": [
       "<Figure size 432x288 with 1 Axes>"
      ]
     },
     "metadata": {
      "tags": []
     },
     "output_type": "display_data"
    }
   ],
   "source": [
    "import pandas as pd\n",
    "\n",
    "df = pd.DataFrame(units).T\n",
    "df[['min_up','min_down']].plot(kind='bar', grid=True)"
   ]
  },
  {
   "cell_type": "markdown",
   "metadata": {
    "colab_type": "text",
    "id": "wDbFg8hy4O70"
   },
   "source": [
    "## Unit Commitment Model 1.  Constant Demand without Uptime or Downtime Constraints\n",
    "\n",
    "The model is created with a mutable parameter so that the model can be solved for multiple parameters without having to reconstruct the model from scratch for every value."
   ]
  },
  {
   "cell_type": "code",
   "execution_count": null,
   "metadata": {
    "colab": {},
    "colab_type": "code",
    "id": "PUaZ7kYWGnDv"
   },
   "outputs": [],
   "source": [
    "def unit_commitment(units, Pforecast):\n",
    "    m = pyo.ConcreteModel()\n",
    "    \n",
    "    m.units = pyo.Set(initialize = units.keys())\n",
    "    m.P = pyo.Var(m.units, domain=pyo.NonNegativeReals)\n",
    "    m.x = pyo.Var(m.units, domain=pyo.Binary)\n",
    "\n",
    "    m.cost = pyo.Objective(expr=sum(units[k]['Q']*m.P[k]**2 + units[k]['C']*m.P[k] for k in m.units), sense=pyo.minimize)\n",
    "\n",
    "    m.a = pyo.Constraint(m.units, rule=lambda m, k: m.x[k]*units[k]['Pmin'] <= m.P[k])\n",
    "    m.b = pyo.Constraint(m.units, rule=lambda m, k: m.x[k]*units[k]['Pmax'] >= m.P[k])\n",
    "    m.c = pyo.Constraint(expr=sum([m.P[k] for k in m.units]) >= Pforecast)\n",
    "    \n",
    "    results = bonmin.solve(m)\n",
    "    return m\n",
    "  \n",
    "c = []\n",
    "P = []\n",
    "\n",
    "Pforecast = np.linspace(0, 175, 176)\n",
    "for p in Pforecast:\n",
    "  m = unit_commitment(units, p)\n",
    "  c.append(m.cost())\n",
    "  P.append([m.P[k]() for k in units.keys()])"
   ]
  },
  {
   "cell_type": "markdown",
   "metadata": {
    "colab_type": "text",
    "id": "PoqKM3o6pgmE"
   },
   "source": [
    "### Cost"
   ]
  },
  {
   "cell_type": "code",
   "execution_count": null,
   "metadata": {
    "colab": {
     "base_uri": "https://localhost:8080/",
     "height": 295
    },
    "colab_type": "code",
    "executionInfo": {
     "elapsed": 18112,
     "status": "ok",
     "timestamp": 1557426378978,
     "user": {
      "displayName": "Jeffrey Kantor",
      "photoUrl": "https://lh5.googleusercontent.com/-8zK5aAW5RMQ/AAAAAAAAAAI/AAAAAAAAKB0/kssUQyz8DTQ/s64/photo.jpg",
      "userId": "09038942003589296665"
     },
     "user_tz": 240
    },
    "id": "bww8J5Qs8e9o",
    "outputId": "cc2c85e4-f8f1-4e72-d33c-6f974d3aa9ac"
   },
   "outputs": [
    {
     "data": {
      "image/png": "[encoded data removed]",
      "text/plain": [
       "<Figure size 432x288 with 1 Axes>"
      ]
     },
     "metadata": {
      "tags": []
     },
     "output_type": "display_data"
    }
   ],
   "source": [
    "plt.plot(Pforecast, c)\n",
    "plt.title('cost as function of total power')\n",
    "plt.xlabel('total power / mw')\n",
    "plt.ylabel('cost / $ per hr')\n",
    "plt.grid(True)"
   ]
  },
  {
   "cell_type": "markdown",
   "metadata": {
    "colab_type": "text",
    "id": "RhCKiKKZpkSj"
   },
   "source": [
    "### Unit Commitment Strategy"
   ]
  },
  {
   "cell_type": "code",
   "execution_count": null,
   "metadata": {
    "colab": {
     "base_uri": "https://localhost:8080/",
     "height": 295
    },
    "colab_type": "code",
    "executionInfo": {
     "elapsed": 18586,
     "status": "ok",
     "timestamp": 1557426379464,
     "user": {
      "displayName": "Jeffrey Kantor",
      "photoUrl": "https://lh5.googleusercontent.com/-8zK5aAW5RMQ/AAAAAAAAAAI/AAAAAAAAKB0/kssUQyz8DTQ/s64/photo.jpg",
      "userId": "09038942003589296665"
     },
     "user_tz": 240
    },
    "id": "jdjLAcg-Ran3",
    "outputId": "d3f3efed-e2e1-47f7-9983-fab7e3cae58d"
   },
   "outputs": [
    {
     "data": {
      "image/png": "[encoded data removed]",
      "text/plain": [
       "<Figure size 432x288 with 1 Axes>"
      ]
     },
     "metadata": {
      "tags": []
     },
     "output_type": "display_data"
    }
   ],
   "source": [
    "fig, ax = plt.subplots(1,1)\n",
    "P = np.array(P)\n",
    "base = 0\n",
    "for k in range(len(P[0,:])):\n",
    "    ax.fill_between(Pforecast, base, base + P[:,k])\n",
    "    base += P[:,k]\n",
    "ax.set_title('unit commitment as function of total power')\n",
    "ax.set_xlabel('total power / mw')\n",
    "ax.set_ylabel('total power / mw')\n",
    "ax.legend(units.keys(), loc='upper left')\n",
    "ax.axis('equal')\n",
    "ax.axis('square')\n",
    "ax.grid(True)"
   ]
  },
  {
   "cell_type": "markdown",
   "metadata": {
    "colab_type": "text",
    "id": "LIBtve-6BqAC"
   },
   "source": [
    "## Unit Commitment Model 2. Variable Demand without Uptime or Downtime Constraints"
   ]
  },
  {
   "cell_type": "code",
   "execution_count": null,
   "metadata": {
    "colab": {
     "base_uri": "https://localhost:8080/",
     "height": 295
    },
    "colab_type": "code",
    "executionInfo": {
     "elapsed": 18851,
     "status": "ok",
     "timestamp": 1557426379742,
     "user": {
      "displayName": "Jeffrey Kantor",
      "photoUrl": "https://lh5.googleusercontent.com/-8zK5aAW5RMQ/AAAAAAAAAAI/AAAAAAAAKB0/kssUQyz8DTQ/s64/photo.jpg",
      "userId": "09038942003589296665"
     },
     "user_tz": 240
    },
    "id": "VUYhhdwB1NiG",
    "outputId": "062e3b6e-853f-41f5-b2d7-98e91780e0c5"
   },
   "outputs": [
    {
     "data": {
      "image/png": "[encoded data removed]",
      "text/plain": [
       "<Figure size 432x288 with 1 Axes>"
      ]
     },
     "metadata": {
      "tags": []
     },
     "output_type": "display_data"
    }
   ],
   "source": [
    "horizon = 48\n",
    "t = np.linspace(1, horizon, horizon)\n",
    "Pforecast = {t:100.0 + 50*np.sin(t*2*np.pi/24) for t in t}\n",
    "\n",
    "def poststep(x, y):\n",
    "  xstep = np.array([x[0]-(x[1]-x[0]), x[0]])\n",
    "  ystep = np.array([y[0], y[0]])\n",
    "  for k in range(1, len(x)):\n",
    "      xstep = np.append(xstep, [x[k-1], x[k]])\n",
    "      ystep = np.append(ystep, [y[k], y[k]])\n",
    "  return xstep, ystep\n",
    "\n",
    "fig, ax = plt.subplots(1,1)\n",
    "ts, ps = poststep(t, np.array([Pforecast[t] for t in t]))\n",
    "ax.fill_between(ts, 0, ps)\n",
    "ax.set_title('power forecast')\n",
    "ax.set_xlabel('hour')\n",
    "ax.set_ylabel('power')\n",
    "ax.grid(True)"
   ]
  },
  {
   "cell_type": "code",
   "execution_count": null,
   "metadata": {
    "colab": {},
    "colab_type": "code",
    "id": "-Yl1PKso2rwN"
   },
   "outputs": [],
   "source": [
    "def unit_commitment(units, horizon, Pforecast):\n",
    "    m = pyo.ConcreteModel()\n",
    "    m.t = pyo.RangeSet(1, horizon)\n",
    "    \n",
    "    m.units = pyo.Set(initialize = units.keys())\n",
    "    m.P = pyo.Var(m.units, m.t, domain=pyo.NonNegativeReals)\n",
    "    m.x = pyo.Var(m.units, m.t, domain=pyo.Binary)\n",
    "\n",
    "    m.cost = pyo.Objective(expr=sum(units[k]['Q']*m.P[k,t]**2 + units[k]['C']*m.P[k,t] for k in m.units for t in m.t), sense=pyo.minimize)\n",
    "\n",
    "    m.a = pyo.Constraint(m.units, m.t, rule=lambda m, k, t: m.x[k,t]*units[k]['Pmin'] <= m.P[k,t])\n",
    "    m.b = pyo.Constraint(m.units, m.t, rule=lambda m, k, t: m.x[k,t]*units[k]['Pmax'] >= m.P[k,t])\n",
    "    m.c = pyo.Constraint(m.t, rule=lambda m, t: sum([m.P[k,t] for k in m.units]) >= Pforecast[t])\n",
    "    \n",
    "    results = bonmin.solve(m)\n",
    "    return m\n",
    "\n",
    "m = unit_commitment(units, horizon, Pforecast)"
   ]
  },
  {
   "cell_type": "markdown",
   "metadata": {
    "colab_type": "text",
    "id": "WKwHYDrVyfLw"
   },
   "source": []
  },
  {
   "cell_type": "code",
   "execution_count": null,
   "metadata": {
    "colab": {
     "base_uri": "https://localhost:8080/",
     "height": 295
    },
    "colab_type": "code",
    "executionInfo": {
     "elapsed": 26537,
     "status": "ok",
     "timestamp": 1557426387444,
     "user": {
      "displayName": "Jeffrey Kantor",
      "photoUrl": "https://lh5.googleusercontent.com/-8zK5aAW5RMQ/AAAAAAAAAAI/AAAAAAAAKB0/kssUQyz8DTQ/s64/photo.jpg",
      "userId": "09038942003589296665"
     },
     "user_tz": 240
    },
    "id": "-XvJPS8N4qdp",
    "outputId": "8a6c84de-b9d7-4857-bce5-d7c0e486f5ca"
   },
   "outputs": [
    {
     "data": {
      "image/png": "[encoded data removed]",
      "text/plain": [
       "<Figure size 432x288 with 1 Axes>"
      ]
     },
     "metadata": {
      "tags": []
     },
     "output_type": "display_data"
    }
   ],
   "source": [
    "t = np.array([t for t in m.t])\n",
    "P = {k:np.array([m.P[k,t]() for t in m.t]) for k in units.keys()}\n",
    "\n",
    "base = 0\n",
    "fig, ax = plt.subplots(1,1)\n",
    "for k in P.keys():\n",
    "  ts, ps = poststep(t, P[k])\n",
    "  ax.fill_between(ts, base, base + ps, label=k)\n",
    "  base += ps\n",
    "ax.legend()\n",
    "ax.set_title('power generation')\n",
    "ax.set_xlabel('hour')\n",
    "ax.set_ylabel('power')\n",
    "ax.grid(True)"
   ]
  },
  {
   "cell_type": "markdown",
   "metadata": {
    "colab_type": "text",
    "id": "LL8SzA6T77QV"
   },
   "source": [
    "## Unit Commitment Model 3. Variable Demand with Uptime and Downtime Constraints"
   ]
  },
  {
   "cell_type": "code",
   "execution_count": null,
   "metadata": {
    "colab": {},
    "colab_type": "code",
    "id": "C5zaG28dt14e"
   },
   "outputs": [],
   "source": [
    "def unit_commitment(units, horizon, Pforecast):\n",
    "    m = pyo.ConcreteModel()\n",
    "    m.t = pyo.RangeSet(1, horizon)\n",
    "    \n",
    "    m.units = pyo.Set(initialize = units.keys())\n",
    "    m.P = pyo.Var(m.units, m.t, domain=pyo.NonNegativeReals)\n",
    "    m.x = pyo.Var(m.units, m.t, domain=pyo.Binary)\n",
    "    m.y = pyo.Var(m.units, m.t, domain=pyo.Binary)\n",
    "    m.z = pyo.Var(m.units, m.t, domain=pyo.Binary)\n",
    "\n",
    "    m.cost = pyo.Objective(expr=sum(units[k]['Q']*m.P[k,t]**2 + units[k]['C']*m.P[k,t] for k in m.units for t in m.t), sense=pyo.minimize)\n",
    "\n",
    "    m.a = pyo.Constraint(m.units, m.t, rule=lambda m, k, t: m.x[k,t]*units[k]['Pmin'] <= m.P[k,t])\n",
    "    m.b = pyo.Constraint(m.units, m.t, rule=lambda m, k, t: m.x[k,t]*units[k]['Pmax'] >= m.P[k,t])\n",
    "    m.c = pyo.Constraint(m.t, rule=lambda m, t: sum([m.P[k,t] for k in m.units]) >= Pforecast[t])\n",
    "    \n",
    "    def _d(m, k, t):\n",
    "        if t <= 1:\n",
    "            return pyo.Constraint.Skip\n",
    "        else:\n",
    "            return m.x[k,t] == m.x[k,t-1] + m.y[k,t] - m.z[k,t]\n",
    "    m.d = pyo.Constraint(m.units, m.t, rule=_d)\n",
    "    \n",
    "    def _e(m, k, t):\n",
    "        if units[k]['min_up'] == 0:\n",
    "            return pyo.Constraint.Skip\n",
    "        else:\n",
    "            return units[k]['min_up']*m.y[k,t] <= sum(m.x[k,s] for s in range(t, min(t+units[k]['min_up'], horizon)))\n",
    "    m.e = pyo.Constraint(m.units, m.t, rule=_e)\n",
    "    \n",
    "    def _f(m, k, t):\n",
    "        if units[k]['min_down'] == 0:\n",
    "            return pyo.Constraint.Skip\n",
    "        else:\n",
    "            return units[k]['min_down']*(1-m.z[k,t]) >= sum(m.x[k,s] for s in range(t, min(t+units[k]['min_down'], horizon)))\n",
    "    m.f = pyo.Constraint(m.units, m.t, rule=_f)\n",
    "    \n",
    "    results = bonmin.solve(m)\n",
    "    return m\n",
    "\n",
    "m = unit_commitment(units, horizon, Pforecast)"
   ]
  },
  {
   "cell_type": "code",
   "execution_count": null,
   "metadata": {
    "colab": {
     "base_uri": "https://localhost:8080/",
     "height": 295
    },
    "colab_type": "code",
    "executionInfo": {
     "elapsed": 465140,
     "status": "ok",
     "timestamp": 1557426826062,
     "user": {
      "displayName": "Jeffrey Kantor",
      "photoUrl": "https://lh5.googleusercontent.com/-8zK5aAW5RMQ/AAAAAAAAAAI/AAAAAAAAKB0/kssUQyz8DTQ/s64/photo.jpg",
      "userId": "09038942003589296665"
     },
     "user_tz": 240
    },
    "id": "522ur2fd7aaY",
    "outputId": "b22c9921-fcf1-4966-fb05-e4465ba24ac5"
   },
   "outputs": [
    {
     "data": {
      "image/png": "[encoded data removed]",
      "text/plain": [
       "<Figure size 432x288 with 1 Axes>"
      ]
     },
     "metadata": {
      "tags": []
     },
     "output_type": "display_data"
    }
   ],
   "source": [
    "t = np.array([t for t in m.t])\n",
    "P = {k:np.array([m.P[k,t]() for t in m.t]) for k in units.keys()}\n",
    "\n",
    "base = 0\n",
    "fig, ax = plt.subplots(1,1)\n",
    "for k in P.keys():\n",
    "    ts, ps = poststep(t, P[k])\n",
    "    ax.fill_between(ts, base, base + ps, label=k)\n",
    "    base += ps\n",
    "ax.legend()\n",
    "ax.set_title('power generation')\n",
    "ax.set_xlabel('hour')\n",
    "ax.set_ylabel('power')\n",
    "ax.grid(True)"
   ]
  },
  {
   "cell_type": "code",
   "execution_count": null,
   "metadata": {
    "colab": {
     "base_uri": "https://localhost:8080/",
     "height": 441
    },
    "colab_type": "code",
    "executionInfo": {
     "elapsed": 465879,
     "status": "ok",
     "timestamp": 1557426826809,
     "user": {
      "displayName": "Jeffrey Kantor",
      "photoUrl": "https://lh5.googleusercontent.com/-8zK5aAW5RMQ/AAAAAAAAAAI/AAAAAAAAKB0/kssUQyz8DTQ/s64/photo.jpg",
      "userId": "09038942003589296665"
     },
     "user_tz": 240
    },
    "id": "wA7tCijD74bO",
    "outputId": "3571da02-7caa-443a-9963-eaae858d41ac"
   },
   "outputs": [
    {
     "data": {
      "image/png": "[encoded data removed]",
      "text/plain": [
       "<Figure size 576x432 with 4 Axes>"
      ]
     },
     "metadata": {
      "tags": []
     },
     "output_type": "display_data"
    }
   ],
   "source": [
    "fig, ax = plt.subplots(len(P), 1, figsize=(8, 1.5*len(P)))\n",
    "keys = [k for k in P.keys()]\n",
    "\n",
    "for k in range(0, len(P)):\n",
    "    ts, ps = poststep(t, P[keys[k]])\n",
    "    ax[k].plot(ts, ps)\n",
    "    ax[k].set_title('power generation unit ' + str(keys[k]))\n",
    "    ax[k].grid()\n",
    "    \n",
    "plt.tight_layout()"
   ]
  },
  {
   "cell_type": "code",
   "execution_count": null,
   "metadata": {
    "colab": {},
    "colab_type": "code",
    "id": "3iDYtaWvGJte"
   },
   "outputs": [],
   "source": []
  }
 ],
 "metadata": {
  "colab": {
   "collapsed_sections": [],
   "name": "04.05-Unit-Commitment.ipynb",
   "provenance": [],
   "version": "0.3.2"
  },
  "kernelspec": {
   "display_name": "Python 3 (ipykernel)",
   "language": "python",
   "name": "python3"
  },
  "language_info": {
   "codemirror_mode": {
    "name": "ipython",
    "version": 3
   },
   "file_extension": ".py",
   "mimetype": "text/x-python",
   "name": "python",
   "nbconvert_exporter": "python",
   "pygments_lexer": "ipython3",
   "version": "3.9.7"
  }
 },
 "nbformat": 4,
 "nbformat_minor": 4
}
