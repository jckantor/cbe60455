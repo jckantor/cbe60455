{
 "cells": [
  {
   "cell_type": "markdown",
   "metadata": {
    "pycharm": {}
   },
   "source": [
    "# Scenario Analysis for a Plant Expansion"
   ]
  },
  {
   "cell_type": "code",
   "execution_count": 54,
   "metadata": {
    "collapsed": false,
    "jupyter": {
     "outputs_hidden": false
    },
    "pycharm": {}
   },
   "outputs": [
    {
     "name": "stdout",
     "output_type": "stream",
     "text": [
      "Overwriting tmp/PlantExpansion.mod\n"
     ]
    }
   ],
   "source": [
    "%%writefile tmp/PlantExpansion.mod\n",
    "\n",
    "set PLANTS;                            # Set of plant types\n",
    "set DEMAND;                            # Demand Segments\n",
    "set SCENARIOS;                         # Planning Scenarios\n",
    "\n",
    "param e{PLANTS};                       # Current Plant Capacity\n",
    "param C{PLANTS};                       # Capital Cost per unit Expansion\n",
    "param O{PLANTS};                       # Operating Cost [k$/GWh]\n",
    "\n",
    "param T{DEMAND};                       # Time Periods for Demand Segments\n",
    "param D{DEMAND,SCENARIOS};             # Demand Scenarios\n",
    "\n",
    "var x {PLANTS} >= 0;                   # Plant Expansion\n",
    "var y {PLANTS,DEMAND,SCENARIOS} >= 0;  # Operating Schedule\n",
    "var v {SCENARIOS};                     # Variable Cost\n",
    "var capcost;                           # Capital Cost\n",
    "\n",
    "minimize COST: capcost + sum {s in SCENARIOS} 0.25*v[s];\n",
    "\n",
    "s.t. CAPCOST: capcost = sum{p in PLANTS} C[p]*(e[p]+x[p]);\n",
    "s.t. VARCOST {s in SCENARIOS}:\n",
    "   v[s] = sum {p in PLANTS, d in DEMAND} T[d]*O[p]*y[p,d,s];\n",
    "s.t. DEMANDS {p in PLANTS, s in SCENARIOS}: \n",
    "   e[p] + x[p] >= sum {d in DEMAND} y[p,d,s];\n",
    "s.t. C4 {d in DEMAND, s in SCENARIOS} :\n",
    "   D[d,s] = sum {p in PLANTS} y[p,d,s];\n",
    "   \n",
    "solve;\n",
    "\n",
    "table results {p in PLANTS} OUT \"CSV\" \"tmp/PlantExpansion.csv\" \"Table\" :\n",
    "    p~Plant,\n",
    "    O[p]~Unit_Cost,\n",
    "    e[p]~Current_Cap,\n",
    "    x[p]~Exp_Cap,\n",
    "    x[p]+e[p]~Total_Cap;\n",
    "\n",
    "end;\n"
   ]
  },
  {
   "cell_type": "code",
   "execution_count": 55,
   "metadata": {
    "collapsed": false,
    "jupyter": {
     "outputs_hidden": false
    },
    "pycharm": {}
   },
   "outputs": [],
   "source": [
    "%%script glpsol -m tmp/PlantExpansion.mod -d /dev/stdin -y tmp/PlantExpansion.txt --out output\n",
    "\n",
    "set SCENARIOS := S1 S2 S3 S4;\n",
    "\n",
    "param: DEMAND: T :=\n",
    "    Base      24\n",
    "    Peak       6 ;\n",
    "\n",
    "param: PLANTS:     e     C     O:=\n",
    "    Coal        1.75   200    30\n",
    "    Hydro       2.00   500    10\n",
    "    Nuclear     0.00   300    20\n",
    "    Grid        0.00     0   200 ;\n",
    "\n",
    "param D :   S1     S2    S3    S4 :=\n",
    "    Base   8.25   10.0  7.50  9.00\n",
    "    Peak   2.50   2.00  2.50  1.50 ;\n",
    "\n",
    "end;"
   ]
  },
  {
   "cell_type": "code",
   "execution_count": 56,
   "metadata": {
    "collapsed": false,
    "jupyter": {
     "outputs_hidden": false
    },
    "pycharm": {}
   },
   "outputs": [
    {
     "name": "stdout",
     "output_type": "stream",
     "text": [
      "GLPSOL: GLPK LP/MIP Solver, v4.52\n",
      "Parameter(s) specified in the command line:\n",
      " -m tmp/PlantExpansion.mod -d /dev/stdin -y tmp/PlantExpansion.txt\n",
      "Reading model section from tmp/PlantExpansion.mod...\n",
      "tmp/PlantExpansion.mod:37: warning: final NL missing before end of file\n",
      "37 lines were read\n",
      "Reading data section from /dev/stdin...\n",
      "18 lines were read\n",
      "Generating COST...\n",
      "Generating CAPCOST...\n",
      "Generating VARCOST...\n",
      "Generating DEMANDS...\n",
      "Generating C4...\n",
      "Model has been successfully generated\n",
      "GLPK Simplex Optimizer, v4.52\n",
      "30 rows, 41 columns, 125 non-zeros\n",
      "Preprocessing...\n",
      "24 rows, 36 columns, 80 non-zeros\n",
      "Scaling...\n",
      " A: min|aij| =  1.000e+00  max|aij| =  1.000e+00  ratio =  1.000e+00\n",
      "Problem data seem to be well scaled\n",
      "Constructing initial basis...\n",
      "Size of triangular part is 24\n",
      "      0: obj =   4.560000000e+04  infeas =  4.325e+01 (0)\n",
      "*     4: obj =   4.560000000e+04  infeas =  0.000e+00 (0)\n",
      "*    28: obj =   7.573750000e+03  infeas =  0.000e+00 (0)\n",
      "OPTIMAL LP SOLUTION FOUND\n",
      "Time used:   0.0 secs\n",
      "Memory used: 0.2 Mb (178597 bytes)\n",
      "Writing results...\n",
      "Model has been successfully processed\n",
      "\n"
     ]
    }
   ],
   "source": [
    "print output"
   ]
  },
  {
   "cell_type": "code",
   "execution_count": 57,
   "metadata": {
    "collapsed": false,
    "jupyter": {
     "outputs_hidden": false
    },
    "pycharm": {}
   },
   "outputs": [
    {
     "data": {
      "text/html": [
       "<div>\n",
       "<table border=\"1\" class=\"dataframe\">\n",
       "  <thead>\n",
       "    <tr style=\"text-align: right;\">\n",
       "      <th></th>\n",
       "      <th>Plant</th>\n",
       "      <th>Unit_Cost</th>\n",
       "      <th>Current_Cap</th>\n",
       "      <th>Exp_Cap</th>\n",
       "      <th>Total_Cap</th>\n",
       "    </tr>\n",
       "  </thead>\n",
       "  <tbody>\n",
       "    <tr>\n",
       "      <th>0</th>\n",
       "      <td>Coal</td>\n",
       "      <td>30</td>\n",
       "      <td>1.75</td>\n",
       "      <td>0.25</td>\n",
       "      <td>2.0</td>\n",
       "    </tr>\n",
       "    <tr>\n",
       "      <th>1</th>\n",
       "      <td>Hydro</td>\n",
       "      <td>10</td>\n",
       "      <td>2.00</td>\n",
       "      <td>5.50</td>\n",
       "      <td>7.5</td>\n",
       "    </tr>\n",
       "    <tr>\n",
       "      <th>2</th>\n",
       "      <td>Nuclear</td>\n",
       "      <td>20</td>\n",
       "      <td>0.00</td>\n",
       "      <td>2.50</td>\n",
       "      <td>2.5</td>\n",
       "    </tr>\n",
       "    <tr>\n",
       "      <th>3</th>\n",
       "      <td>Grid</td>\n",
       "      <td>200</td>\n",
       "      <td>0.00</td>\n",
       "      <td>0.00</td>\n",
       "      <td>0.0</td>\n",
       "    </tr>\n",
       "  </tbody>\n",
       "</table>\n",
       "</div>"
      ],
      "text/plain": [
       "     Plant  Unit_Cost  Current_Cap  Exp_Cap  Total_Cap\n",
       "0     Coal         30         1.75     0.25        2.0\n",
       "1    Hydro         10         2.00     5.50        7.5\n",
       "2  Nuclear         20         0.00     2.50        2.5\n",
       "3     Grid        200         0.00     0.00        0.0"
      ]
     },
     "execution_count": 57,
     "metadata": {},
     "output_type": "execute_result"
    }
   ],
   "source": [
    "import pandas\n",
    "\n",
    "results = pandas.read_csv(\"tmp/PlantExpansion.csv\")\n",
    "results"
   ]
  },
  {
   "cell_type": "code",
   "execution_count": null,
   "metadata": {
    "collapsed": true,
    "jupyter": {
     "outputs_hidden": true
    },
    "pycharm": {}
   },
   "outputs": [],
   "source": []
  },
  {
   "cell_type": "code",
   "execution_count": null,
   "metadata": {
    "collapsed": true,
    "jupyter": {
     "outputs_hidden": true
    },
    "pycharm": {}
   },
   "outputs": [],
   "source": []
  },
  {
   "cell_type": "markdown",
   "metadata": {
    "pycharm": {}
   },
   "source": [
    "<!--NAVIGATION-->\n",
    "< [Newsvendor Problem](http://nbviewer.jupyter.org/github/jckantor/CBE40455/blob/master/notebooks/06.01-Newsvendor-Problem.ipynb) | [Contents](toc.ipynb) | [Risk Neutral Gambler](http://nbviewer.jupyter.org/github/jckantor/CBE40455/blob/master/notebooks/06.03-Risk-Neutral-Gambler.ipynb) ><p><a href=\"https://colab.research.google.com/github/jckantor/CBE40455/blob/master/notebooks/06.02-Scenario-Analysis-for-a-Plant-Expansion.ipynb\"><img align=\"left\" src=\"https://colab.research.google.com/assets/colab-badge.svg\" alt=\"Open in Colab\" title=\"Open in Google Colaboratory\"></a><p><a href=\"https://raw.githubusercontent.com/jckantor/CBE40455/master/notebooks/06.02-Scenario-Analysis-for-a-Plant-Expansion.ipynb\"><img align=\"left\" src=\"https://img.shields.io/badge/Github-Download-blue.svg\" alt=\"Download\" title=\"Download Notebook\"></a>"
   ]
  }
 ],
 "metadata": {
  "kernelspec": {
   "display_name": "Python 3 (ipykernel)",
   "language": "python",
   "name": "python3"
  },
  "language_info": {
   "codemirror_mode": {
    "name": "ipython",
    "version": 3
   },
   "file_extension": ".py",
   "mimetype": "text/x-python",
   "name": "python",
   "nbconvert_exporter": "python",
   "pygments_lexer": "ipython3",
   "version": "3.9.7"
  }
 },
 "nbformat": 4,
 "nbformat_minor": 4
}
