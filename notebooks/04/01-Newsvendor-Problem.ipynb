{
 "cells": [
  {
   "cell_type": "markdown",
   "metadata": {
    "pycharm": {}
   },
   "source": [
    "# Newsvendor Problem"
   ]
  },
  {
   "cell_type": "markdown",
   "metadata": {
    "pycharm": {}
   },
   "source": [
    "## Background\n",
    "\n",
    "The classic [newsvendor problem or newsvendor model](https://en.wikipedia.org/wiki/Newsvendor_model) is a well-known example of a two stage decision problem. It is a more general problem than the name might suggest with application to situations where a decision is made \"here and now\" regarding the purchase of perishable goods that will be sold later in a market with uncertain demand. If the vendor buys too much then there will be leftover goods that will be sold for salvage value. Buy too little and the vendor leaves \"money on the table.\" The problem is find the right amount of goods to purchase that balances economic risk and reward.\n",
    "\n",
    "The newsvendor model is found in range of applications, including in media at [Time Magazine](https://pubsonline.informs.org/doi/abs/10.1287/inte.33.3.72.16010?journalCode=inte) and the [Yedioth Group](https://pubsonline.informs.org/doi/abs/10.1287/inte.2014.0759?journalCode=inte), manufacturing at [Intel](https://pubsonline.informs.org/doi/abs/10.1287/inte.1070.0339?journalCode=inte) and [Hitachi](https://pubsonline.informs.org/doi/abs/10.1287/inte.1070.0299?journalCode=inte), [supply chain optimization in online fashion e-commerce](https://arxiv.org/pdf/2007.02510.pdf), and [recycling/remanufacturing operations](https://econpapers.repec.org/bookchap/sprisochp/978-1-4614-3600-3_5f10.htm).\n",
    "\n",
    "Recent reviews of the literature can be found at\n",
    "\n",
    "* Petruzzi, N. C., & Dada, M. (1999). Pricing and the newsvendor problem: A review with extensions. Operations research, 47(2), 183-194. [doi](https://pubsonline.informs.org/doi/10.1287/opre.47.2.183)\n",
    "\n",
    "* Qin, Y., Wang, R., Vakharia, A. J., Chen, Y., & Seref, M. M. (2011). The newsvendor problem: Review and directions for future research. European Journal of Operational Research, 213(2), 361-374. [doi](https://doi.org/10.1016/j.ejor.2010.11.024)\n",
    "\n",
    "* Choi, T. M. (Ed.). (2012). Handbook of Newsvendor problems: Models, extensions and applications (Vol. 176). Springer Science & Business Media. [Springer](https://link.springer.com/book/10.1007/978-1-4614-3600-3)\n",
    "\n",
    "Daily life is replete with examples of the newsvendor problem. Stop a moment and think of a few before moving on."
   ]
  },
  {
   "cell_type": "markdown",
   "metadata": {
    "pycharm": {},
    "tags": []
   },
   "source": [
    "## Problem Data"
   ]
  },
  {
   "cell_type": "markdown",
   "metadata": {
    "pycharm": {}
   },
   "source": [
    "The vendor needs to decide how much inventory to order here and now to fulfill an uncertain demand that won't be known until later. The data includes the purchase cost $c$, the retail selling price $r$, and salvage/waste value $w$. The problem has meaning when these prices satisfy relationships\n",
    "\n",
    "$$ r \\geq c \\geq w$$\n",
    "\n",
    "The difference $(r - c)$ is the net profit earned per unit when there is sufficient customer demand, $(c - w)$ is the loss per unit for goods sold as waste or salvage.\n",
    "\n",
    "| | Symbol | Value |\n",
    "| :-- | :--: | :--: |\n",
    "| Retail price | $r$ | 5.00 | \n",
    "| Purchase cost | $c$ | 2.00 |\n",
    "| Waste/Salvage value | $w$ | 1.25 |\n",
    "\n",
    "A probabilistic forecast for demand is specified as a set of scenarios.\n",
    "\n",
    "| Scenario | Probability | Demand |\n",
    "| :--: | :--: | :--: |\n",
    "| A | 0.7 | 2000 |\n",
    "| B | 0.3 | 1000 |\n"
   ]
  },
  {
   "cell_type": "code",
   "execution_count": 120,
   "metadata": {},
   "outputs": [
    {
     "data": {
      "text/html": [
       "<div>\n",
       "<style scoped>\n",
       "    .dataframe tbody tr th:only-of-type {\n",
       "        vertical-align: middle;\n",
       "    }\n",
       "\n",
       "    .dataframe tbody tr th {\n",
       "        vertical-align: top;\n",
       "    }\n",
       "\n",
       "    .dataframe thead th {\n",
       "        text-align: right;\n",
       "    }\n",
       "</style>\n",
       "<table border=\"1\" class=\"dataframe\">\n",
       "  <thead>\n",
       "    <tr style=\"text-align: right;\">\n",
       "      <th></th>\n",
       "      <th>probability</th>\n",
       "      <th>demand</th>\n",
       "    </tr>\n",
       "  </thead>\n",
       "  <tbody>\n",
       "    <tr>\n",
       "      <th>A</th>\n",
       "      <td>0.6</td>\n",
       "      <td>2000.0</td>\n",
       "    </tr>\n",
       "    <tr>\n",
       "      <th>B</th>\n",
       "      <td>0.4</td>\n",
       "      <td>1000.0</td>\n",
       "    </tr>\n",
       "  </tbody>\n",
       "</table>\n",
       "</div>"
      ],
      "text/plain": [
       "   probability  demand\n",
       "A          0.6  2000.0\n",
       "B          0.4  1000.0"
      ]
     },
     "metadata": {},
     "output_type": "display_data"
    }
   ],
   "source": [
    "import numpy as np\n",
    "import pandas as pd\n",
    "\n",
    "r = 5\n",
    "c = 2\n",
    "w = 1.25\n",
    "\n",
    "scenarios = pd.DataFrame({\n",
    "    \"A\": {\"probability\": 0.6, \"demand\": 2000},\n",
    "    \"B\": {\"probability\": 0.4, \"demand\": 1000},\n",
    "}).T\n",
    "\n",
    "display(scenarios)"
   ]
  },
  {
   "cell_type": "markdown",
   "metadata": {},
   "source": [
    "## Preliminary Calculations"
   ]
  },
  {
   "cell_type": "markdown",
   "metadata": {},
   "source": [
    "### Expected Value with Perfect Information (EV|PI)\n",
    "\n",
    "Imagine a situation where one could forecast future demand perfectly. Then for each scenario $s \\in S$, the order size would match demand $D_s$ producing a net profit $(r - c)D_s$ with probability $p_s$. The computing expected value then gives the **expected value of perfect information (EV|PI)**\n",
    "\n",
    "$$\n",
    "\\begin{align*}\n",
    "\\mathbb{E}[P|PI] & = \\sum_{s\\in S} p_s (r-c) D_s \\\\\n",
    "& = (r - c) \\sum_{s\\in S} p_s D_s \\\\\n",
    "\\\\\n",
    "\\implies \\mathbb{E}[P|PI] & = (r - c) \\mathbb{E}[D] \\\\\n",
    "\\end{align*}\n",
    "$$\n",
    "\n",
    "EVPI establishes an upper bound on the expected return."
   ]
  },
  {
   "cell_type": "code",
   "execution_count": 121,
   "metadata": {},
   "outputs": [
    {
     "name": "stdout",
     "output_type": "stream",
     "text": [
      "Expected Value of Perfect Information = 4800.00\n"
     ]
    }
   ],
   "source": [
    "evpi = (r - c) * sum(scenarios[\"probability\"] * scenarios[\"demand\"])\n",
    "print(f\"Expected Value of Perfect Information = {evpi:0.2f}\")"
   ]
  },
  {
   "cell_type": "markdown",
   "metadata": {},
   "source": [
    "### Computing the Expected Value for fixed Order Size\n",
    "\n",
    "The key characteristic of the newsvendor problem is that one determines the order size $x$ without advance knowledge of which scenario will transpire. For scenarios $s\\in S$, the number of units sold at retail value is given by the smaller of the order size and demand.\n",
    "\n",
    "$$\n",
    "\\begin{align*}\n",
    "y_s & = \\min(x, D_s)\\\\\n",
    "\\end{align*}\n",
    "$$\n",
    "\n",
    "The salvage is the left over amount $x - y_s$ which be non-negative. The expected profit is then\n",
    "\n",
    "$$\n",
    "\\begin{align*}\n",
    "\\mathbb{E}[P|x] & = \\sum_{s\\in S} p_s \\left[ (r-c) y_s - (c - w) (x - y_s) \\right] \\\\\n",
    "& = \\sum_{s\\in S} p_s \\left[ (r-c) y_s + (c - w) y_s - (c - w) x \\right] \\\\\n",
    "& = (r - w) \\sum_{s\\in S} p_s y_s  - (c - w) x \\\\\n",
    "\\\\\n",
    "\\implies \\mathbb{E}[P|x] & = (r - w) \\mathbb{E}[y] - (c - w) x \\\\\n",
    "\\\\\n",
    "\\implies \\mathbb{E}[P|x] & = (r - w) \\mathbb{E}[\\min(x, D)] - (c - w) x \\\\\n",
    "\\end{align*}\n",
    "$$"
   ]
  },
  {
   "cell_type": "code",
   "execution_count": 122,
   "metadata": {},
   "outputs": [],
   "source": [
    "def expected_profit(x):\n",
    "    D = scenarios[\"demand\"]\n",
    "    p = scenarios[\"probability\"]\n",
    "    y = np.minimum(x, D)    \n",
    "    return  (r - w)*sum(p*y) - (c - w)*x"
   ]
  },
  {
   "cell_type": "markdown",
   "metadata": {},
   "source": [
    "### Expected Value of the Mean Demand\n",
    "\n",
    "A common answer to the question of how much to order is to order the expected demand. \n",
    "\n",
    "$$\\bar{D} = \\mathbb{E}[D] = \\sum_{s\\in S} p_s D_s$$\n",
    "\n",
    "The is call the **expected value for the mean demand (EV|MD)** which\n",
    "\n",
    "$$\\mathbb{E}[P|x = \\bar{D}] = (r - w) \\mathbb{E}[\\min(\\bar{D}, D)] - (c - w) \\bar{D} $$"
   ]
  },
  {
   "cell_type": "code",
   "execution_count": 123,
   "metadata": {},
   "outputs": [
    {
     "name": "stdout",
     "output_type": "stream",
     "text": [
      "mean demand = 1600.0\n",
      "expected profit for the mean demand = 3900.0\n"
     ]
    }
   ],
   "source": [
    "D = sum(scenarios[\"probability\"] * scenarios[\"demand\"])\n",
    "print(f\"mean demand = {D}\")\n",
    "\n",
    "evmd = expected_profit(D)\n",
    "print(f\"expected profit for the mean demand = {evmd}\")"
   ]
  },
  {
   "cell_type": "markdown",
   "metadata": {},
   "source": [
    "## Stochastic Solution for Maximum Expected Value\n",
    "\n",
    "The objective is to maximize expected profit. Let's plot the expected value as a function of the decision variable $x$."
   ]
  },
  {
   "cell_type": "code",
   "execution_count": 126,
   "metadata": {},
   "outputs": [
    {
     "data": {
      "image/png": "[encoded data removed]",
      "text/plain": [
       "<Figure size 864x360 with 1 Axes>"
      ]
     },
     "metadata": {
      "needs_background": "light"
     },
     "output_type": "display_data"
    }
   ],
   "source": [
    "import matplotlib.pyplot as plt\n",
    "\n",
    "def nv_plot():\n",
    "\n",
    "    x = np.linspace(0, 1.5 * scenarios[\"demand\"].max(), 1000)\n",
    "    ev = [expected_profit(x) for x in x]\n",
    "\n",
    "    fig, ax = plt.subplots(1, 1, figsize=(12, 5))\n",
    "\n",
    "    ax.plot(x, ev, lw=3, label=\"expected value\")\n",
    "    ax.plot([0, 3000], [evpi, evpi], 'k--', label=\"evpi: perfect information\")\n",
    "    ax.plot([0, 3000], [evmd, evmd], 'g--', label=\"evmd: mean demand\")\n",
    "    ax.plot([D, D], [0, 6000], 'g--', label=\"mean demand\")\n",
    "    \n",
    "    ax.set_xlabel(\"Order Size\")\n",
    "    ax.set_ylabel(\"Expected Profit\")\n",
    "    ax.grid(True)\n",
    "    ax.legend()\n",
    "    \n",
    "    return ax\n",
    "\n",
    "nv_plot();"
   ]
  },
  {
   "cell_type": "code",
   "execution_count": 127,
   "metadata": {},
   "outputs": [
    {
     "name": "stdout",
     "output_type": "stream",
     "text": [
      "expected_profit_obj : Size=1, Index=None, Active=True\n",
      "    Key  : Active : Value\n",
      "    None :   True : 4500.0\n",
      "x : Size=1, Index=None\n",
      "    Key  : Lower : Value  : Upper : Fixed : Stale : Domain\n",
      "    None :     0 : 2000.0 :  None : False : False : NonNegativeReals\n",
      "y : Size=2, Index=S\n",
      "    Key : Lower : Value  : Upper : Fixed : Stale : Domain\n",
      "      A :     0 : 2000.0 :  None : False : False : NonNegativeReals\n",
      "      B :     0 : 1000.0 :  None : False : False : NonNegativeReals\n"
     ]
    }
   ],
   "source": [
    "import pyomo.environ as pyo\n",
    "\n",
    "m = pyo.ConcreteModel()\n",
    "\n",
    "# price parameters\n",
    "m.r = pyo.Param(domain=pyo.NonNegativeReals, initialize=r)\n",
    "m.c = pyo.Param(domain=pyo.NonNegativeReals, initialize=c)\n",
    "m.w = pyo.Param(domain=pyo.NonNegativeReals, initialize=w)\n",
    "\n",
    "assert m.c <= m.r\n",
    "assert m.w <= m.c\n",
    "\n",
    "# scenario information\n",
    "m.S = pyo.Set(initialize=scenarios.index)\n",
    "m.d = pyo.Param(m.S, initialize=scenarios[\"demand\"])\n",
    "m.p = pyo.Param(m.S, initialize=scenarios[\"probability\"])\n",
    "\n",
    "assert sum(m.p[s] for s in m.S) == 1\n",
    "\n",
    "# decision variables\n",
    "m.x = pyo.Var(domain=pyo.NonNegativeReals)\n",
    "m.y = pyo.Var(m.S, domain=pyo.NonNegativeReals)\n",
    "\n",
    "# Objective\n",
    "@m.Objective(sense=pyo.maximize)\n",
    "def expected_profit_obj(m):\n",
    "    return (m.r - m.w)*sum(m.p[s]*m.y[s] for s in m.S) - (m.c - m.w)*m.x \n",
    "\n",
    "@m.Constraint(m.S)\n",
    "def demand_bound(m, s):\n",
    "    return m.y[s] <= m.d[s]\n",
    "\n",
    "@m.Constraint(m.S)\n",
    "def sales_bound(m, s):\n",
    "    return m.y[s] <= m.x\n",
    "\n",
    "pyo.SolverFactory('cbc').solve(m)\n",
    "\n",
    "m.expected_profit_obj.display()\n",
    "m.x.display()\n",
    "m.y.display()\n"
   ]
  },
  {
   "cell_type": "code",
   "execution_count": 128,
   "metadata": {},
   "outputs": [
    {
     "data": {
      "text/plain": [
       "<matplotlib.legend.Legend at 0x7fe69121c5b0>"
      ]
     },
     "execution_count": 128,
     "metadata": {},
     "output_type": "execute_result"
    },
    {
     "data": {
      "image/png": "[encoded data removed]",
      "text/plain": [
       "<Figure size 864x360 with 1 Axes>"
      ]
     },
     "metadata": {
      "needs_background": "light"
     },
     "output_type": "display_data"
    }
   ],
   "source": [
    "ax = nv_plot()\n",
    "ax.plot(m.x(), m.expected_profit_obj(), 'r.', ms=20, label=\"stochastic solution\")\n",
    "ax.legend()"
   ]
  },
  {
   "cell_type": "markdown",
   "metadata": {},
   "source": [
    "### Maximum Expected Value for Continuous Distributions\n",
    "\n",
    "For continuous probability distributions\n",
    "\n",
    "$$\n",
    "\\begin{align*}\n",
    "\\mathbb{E}[P|x] & = (r - w) \\mathbb{E}[\\min(x, D)] - (c - w) x \\\\\n",
    "& = (r - w)\\int_0^\\infty p(D) \\min(x, D)\\,dD - (c - w)x \\\\\n",
    "& = (r - w)\\int_0^x p(D) D\\,dD + (r - w) x \\int_x^\\infty p(D) \\,dD - (c - w)x \n",
    "\\end{align*}\n",
    "$$\n",
    "\n",
    "Solving for an unconstrained maximum\n",
    "\n",
    "$$\n",
    "\\begin{align*}\n",
    "\\left.\\frac{\\partial \\mathbb{E}[P|x]}{\\partial x}\\right|_{x^{opt}} & = (r - w) \\int_{x^{opt}}^\\infty p(D) \\,dD - (c - w) = 0\n",
    "\\end{align*}\n",
    "$$\n",
    "\n",
    "Letting $F(x) = \\int_0^x p(D)\\,dD$ be the cumulative distribution function and solving for a root\n",
    "\n",
    "$$\n",
    "\\begin{align*}\n",
    "(r - w)(1 - F(x^{opt})) - (c - w) & = 0\n",
    "\\end{align*}\n",
    "$$\n",
    "\n",
    "$$\n",
    "\\begin{align*}\n",
    "(r - c) & = (r - w) F(x^{opt}) \\\\\n",
    "\\\\\n",
    "\\implies x^{opt} = F^{-1}\\left(\\frac{r-c}{r-w}\\right)\n",
    "\\end{align*}\n",
    "$$"
   ]
  },
  {
   "cell_type": "markdown",
   "metadata": {},
   "source": [
    "## Using Discrete Distribution"
   ]
  },
  {
   "cell_type": "code",
   "execution_count": 164,
   "metadata": {},
   "outputs": [
    {
     "name": "stdout",
     "output_type": "stream",
     "text": [
      "quantile = 0.8\n"
     ]
    }
   ],
   "source": [
    "q = (r - c)/(r - w)\n",
    "print(f\"quantile = {q}\")"
   ]
  },
  {
   "cell_type": "code",
   "execution_count": 165,
   "metadata": {},
   "outputs": [
    {
     "data": {
      "text/html": [
       "<div>\n",
       "<style scoped>\n",
       "    .dataframe tbody tr th:only-of-type {\n",
       "        vertical-align: middle;\n",
       "    }\n",
       "\n",
       "    .dataframe tbody tr th {\n",
       "        vertical-align: top;\n",
       "    }\n",
       "\n",
       "    .dataframe thead th {\n",
       "        text-align: right;\n",
       "    }\n",
       "</style>\n",
       "<table border=\"1\" class=\"dataframe\">\n",
       "  <thead>\n",
       "    <tr style=\"text-align: right;\">\n",
       "      <th></th>\n",
       "      <th>probability</th>\n",
       "      <th>demand</th>\n",
       "      <th>0</th>\n",
       "      <th>cdf</th>\n",
       "    </tr>\n",
       "  </thead>\n",
       "  <tbody>\n",
       "    <tr>\n",
       "      <th>0</th>\n",
       "      <td>0.0</td>\n",
       "      <td>0.0</td>\n",
       "      <td>NaN</td>\n",
       "      <td>NaN</td>\n",
       "    </tr>\n",
       "    <tr>\n",
       "      <th>B</th>\n",
       "      <td>0.4</td>\n",
       "      <td>1000.0</td>\n",
       "      <td>demand</td>\n",
       "      <td>0.4</td>\n",
       "    </tr>\n",
       "    <tr>\n",
       "      <th>A</th>\n",
       "      <td>0.6</td>\n",
       "      <td>2000.0</td>\n",
       "      <td>probability</td>\n",
       "      <td>1.0</td>\n",
       "    </tr>\n",
       "    <tr>\n",
       "      <th>1</th>\n",
       "      <td>0.0</td>\n",
       "      <td>3000.0</td>\n",
       "      <td>NaN</td>\n",
       "      <td>NaN</td>\n",
       "    </tr>\n",
       "  </tbody>\n",
       "</table>\n",
       "</div>"
      ],
      "text/plain": [
       "   probability  demand            0  cdf\n",
       "0          0.0     0.0          NaN  NaN\n",
       "B          0.4  1000.0       demand  0.4\n",
       "A          0.6  2000.0  probability  1.0\n",
       "1          0.0  3000.0          NaN  NaN"
      ]
     },
     "metadata": {},
     "output_type": "display_data"
    },
    {
     "data": {
      "text/plain": [
       "[<matplotlib.lines.Line2D at 0x7fe697cd5790>]"
      ]
     },
     "execution_count": 165,
     "metadata": {},
     "output_type": "execute_result"
    },
    {
     "data": {
      "image/png": "[encoded data removed]",
      "text/plain": [
       "<Figure size 432x288 with 1 Axes>"
      ]
     },
     "metadata": {
      "needs_background": "light"
     },
     "output_type": "display_data"
    }
   ],
   "source": [
    "scenarios.loc[\"0\", :] = {\"probability\": 0, \"demand\": 0}\n",
    "scenarios.loc[\"1\", :] = {\"probability\": 0, \"demand\": 3000}\n",
    "\n",
    "scenarios = scenarios.sort_values(\"demand\")\n",
    "display(scenarios)\n",
    "scenarios[\"cdf\"] = scenarios[\"probability\"].cumsum()\n",
    "\n",
    "ax = scenarios.plot(x=\"demand\", y=\"cdf\", drawstyle=\"steps-post\", grid=True)\n",
    "ax.plot(ax.get_xlim(), [q, q])"
   ]
  },
  {
   "cell_type": "code",
   "execution_count": 137,
   "metadata": {},
   "outputs": [
    {
     "name": "stdout",
     "output_type": "stream",
     "text": [
      "mean demand = 1600.00\n",
      "standard deviation = 489.90\n",
      "optimal order size = 2012.31\n"
     ]
    },
    {
     "data": {
      "image/png": "[encoded data removed]",
      "text/plain": [
       "<Figure size 432x288 with 1 Axes>"
      ]
     },
     "metadata": {
      "needs_background": "light"
     },
     "output_type": "display_data"
    }
   ],
   "source": [
    "# fit scenario data to normal distribution\n",
    "D = sum(scenarios[\"probability\"] * (scenarios[\"demand\"]))\n",
    "sigma = np.sqrt(sum(scenarios[\"probability\"] * (scenarios[\"demand\"]**2)) - D**2)\n",
    "print(f\"mean demand = {D:0.2f}\")\n",
    "print(f\"standard deviation = {sigma:0.2f}\")\n",
    "\n",
    "\n",
    "import matplotlib.pyplot as plt\n",
    "import numpy as np\n",
    "import scipy.stats as ss\n",
    "\n",
    "#define x and y values to use for CDF\n",
    "x = np.linspace(-4, 4, 1000)\n",
    "y = ss.norm.cdf(x)\n",
    "\n",
    "#plot normal CDF\n",
    "fig, ax = plt.subplots(1, 1)\n",
    "ax.plot(sigma*x + D, y)\n",
    "xopt = D + sigma * ss.norm.ppf((r-c)/(r-w))\n",
    "\n",
    "\n",
    "ax.plot([xopt, xopt], [0, 1])\n",
    "ax.grid(True)\n",
    "\n",
    "print(f\"optimal order size = {xopt:0.2f}\")"
   ]
  }
 ],
 "metadata": {
  "kernelspec": {
   "display_name": "Python 3 (ipykernel)",
   "language": "python",
   "name": "python3"
  },
  "language_info": {
   "codemirror_mode": {
    "name": "ipython",
    "version": 3
   },
   "file_extension": ".py",
   "mimetype": "text/x-python",
   "name": "python",
   "nbconvert_exporter": "python",
   "pygments_lexer": "ipython3",
   "version": "3.9.7"
  }
 },
 "nbformat": 4,
 "nbformat_minor": 4
}
