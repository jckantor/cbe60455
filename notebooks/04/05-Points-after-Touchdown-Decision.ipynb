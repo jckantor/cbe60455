{
 "cells": [
  {
   "cell_type": "markdown",
   "metadata": {
    "pycharm": {}
   },
   "source": [
    "<!--NOTEBOOK_HEADER-->\n",
    "*This notebook contains course material from [CBE40455](https://jckantor.github.io/CBE40455) by\n",
    "Jeffrey Kantor (jeff at nd.edu); the content is available [on Github](https://github.com/jckantor/CBE40455.git).\n",
    "The text is released under the [CC-BY-NC-ND-4.0 license](https://creativecommons.org/licenses/by-nc-nd/4.0/legalcode),\n",
    "and code is released under the [MIT license](https://opensource.org/licenses/MIT).*"
   ]
  },
  {
   "cell_type": "markdown",
   "metadata": {
    "pycharm": {}
   },
   "source": [
    "<!--NAVIGATION-->\n",
    "< [Risk Averse Gambler](http://nbviewer.jupyter.org/github/jckantor/CBE40455/blob/master/notebooks/06.04-Risk-Averse-Gambler.ipynb) | [Contents](toc.ipynb) | [Risk and Diversification](http://nbviewer.jupyter.org/github/jckantor/CBE40455/blob/master/notebooks/07.00-Risk-and-Diversification.ipynb) ><p><a href=\"https://colab.research.google.com/github/jckantor/CBE40455/blob/master/notebooks/06.05-Points-after-Touchdown-Decision.ipynb\"><img align=\"left\" src=\"https://colab.research.google.com/assets/colab-badge.svg\" alt=\"Open in Colab\" title=\"Open in Google Colaboratory\"></a><p><a href=\"https://raw.githubusercontent.com/jckantor/CBE40455/master/notebooks/06.05-Points-after-Touchdown-Decision.ipynb\"><img align=\"left\" src=\"https://img.shields.io/badge/Github-Download-blue.svg\" alt=\"Download\" title=\"Download Notebook\"></a>"
   ]
  },
  {
   "cell_type": "markdown",
   "metadata": {
    "pycharm": {}
   },
   "source": [
    "# Points after Touchdown Decision\n",
    "\n",
    "In American football, after scoring a touchdown for six points, a team runs one more play for a chance to score extra points. The team has the option to attempt to kick a field goal for one extra point or execute a touchdown play for two extra points. The one point kicking play is close to a 'sure thing' while the two point play normally succeeds on less than 50% of attempts. The lower success rate of the two point play makes it a risky option reserved for certain late game situtions.\n",
    "\n",
    "This notebook implements a multi-stage decision model to determine conditions when a team should attempt the two point conversion. This model is adapted from\n",
    "\n",
    "* Richard C. Porter, <a href=http://www.jstor.org/stable/2682653>Extra-Point Strategy in Football</a>. The American Statistician, Vol. 21, No. 5 (Dec., 1967), pp. 14-15.\n",
    "\n",
    "* Harold Sackrowitz, <a href=\"https://stat.duke.edu/~dalene/chance/chanceweb/133.sackrowitz.pdf\">Refining the Point(s)-After-Touchdown Decision</a>.  Chance, Vol. 13, pp. 29-34, 2000."
   ]
  },
  {
   "cell_type": "markdown",
   "metadata": {
    "pycharm": {}
   },
   "source": [
    "## Initializations"
   ]
  },
  {
   "cell_type": "code",
   "execution_count": 1,
   "metadata": {
    "collapsed": true,
    "pycharm": {}
   },
   "outputs": [],
   "source": [
    "import numpy as np\n",
    "import matplotlib.pyplot as plt\n",
    "import pandas as pd\n",
    "\n",
    "%matplotlib inline"
   ]
  },
  {
   "cell_type": "markdown",
   "metadata": {
    "pycharm": {}
   },
   "source": [
    "## Multi-Stage Model of the Decision Process\n",
    "\n",
    "The analysis is framed as a multi-stage decision process. Each stage corresponds to one team's possession of the football. The state of the game is monitored at the completion of each team's possession, but prior to the extra points decision. The state is modeled by three parameters:\n",
    "\n",
    "* Outcome of the prior possession (S): Touchdown ('TD'), Field Goal ('FG'), or No Score ('NS')\n",
    "* Point differential prior to extra point play (D)\n",
    "* Number of remaining possessions (T)\n",
    "\n",
    "The next cell enumerates values for each parameter. The set of possible states of the game is from as the product of these parameters which will be used as in index for subsequent calculations."
   ]
  },
  {
   "cell_type": "code",
   "execution_count": 2,
   "metadata": {
    "collapsed": true,
    "pycharm": {}
   },
   "outputs": [],
   "source": [
    "S = ['NS','FG','TD']\n",
    "D = range(-100,100)\n",
    "T = range(0,20)\n",
    "\n",
    "idx = pd.MultiIndex.from_product([S,D,T],names = ['Score','Lead','Remaing Possessions'])"
   ]
  },
  {
   "cell_type": "markdown",
   "metadata": {
    "pycharm": {}
   },
   "source": [
    "The model constructs probabilities for winning the game. For a given state (s,d,t), V[s,d,t] will represent the probability of winning following your own possession, and W[s,d,t] will represent the probability of winning following the opponent's possession."
   ]
  },
  {
   "cell_type": "code",
   "execution_count": 3,
   "metadata": {
    "collapsed": true,
    "pycharm": {}
   },
   "outputs": [],
   "source": [
    "V = pd.Series(index=idx)\n",
    "W = pd.Series(index=idx)"
   ]
  },
  {
   "cell_type": "markdown",
   "metadata": {
    "pycharm": {}
   },
   "source": [
    "To handle boundary condition it is helpful to initialize all of the probabilities prior to any calculations. We'll assume any tie results in a 50% probability of winning."
   ]
  },
  {
   "cell_type": "code",
   "execution_count": 4,
   "metadata": {
    "collapsed": true,
    "pycharm": {}
   },
   "outputs": [],
   "source": [
    "# initialize V and W for extreme values\n",
    "for s,d,t in idx:\n",
    "    if d < 0:\n",
    "        V[s,d,t] = 0.0\n",
    "        W[s,d,t] = 0.0\n",
    "    elif d == 0:\n",
    "        V[s,d,t] = 0.5\n",
    "        W[s,d,t] = 0.5\n",
    "    elif d > 0:\n",
    "        V[s,d,t] = 1.0\n",
    "        W[s,d,t] = 1.0"
   ]
  },
  {
   "cell_type": "markdown",
   "metadata": {
    "pycharm": {}
   },
   "source": [
    "Variables to record decisions"
   ]
  },
  {
   "cell_type": "code",
   "execution_count": 5,
   "metadata": {
    "collapsed": true,
    "pycharm": {}
   },
   "outputs": [],
   "source": [
    "P1 = pd.Series(index=pd.MultiIndex.from_product([D,T]))\n",
    "P2 = pd.Series(index=pd.MultiIndex.from_product([D,T]))                                                                                                "
   ]
  },
  {
   "cell_type": "markdown",
   "metadata": {
    "pycharm": {}
   },
   "source": [
    "### Transition Probabilities\n",
    "\n",
    "Each possession leads to one of the following outcomes:\n",
    "\n",
    "* Field Goal ('FG')\n",
    "* Touchdown ('TD')\n",
    "* No Score ('NS')\n",
    "\n",
    "Following a touchdown, the scoring team can choose between"
   ]
  },
  {
   "cell_type": "code",
   "execution_count": 6,
   "metadata": {
    "collapsed": true,
    "pycharm": {}
   },
   "outputs": [],
   "source": [
    "# probabilities\n",
    "p = dict() \n",
    "\n",
    "p['FG'] = 0.12   # possession results in field goal\n",
    "p['TD'] = 0.20   # possession results in touchdown\n",
    "p['NS'] = 1.0 - p['FG'] - p['TD']  # possession results in no score\n",
    "\n",
    "p['XP'] = 0.98   # extra point kick is successful\n",
    "p['2P'] = 0.43   # two point attempt is successful"
   ]
  },
  {
   "cell_type": "markdown",
   "metadata": {
    "pycharm": {}
   },
   "source": [
    "### Opponent's Decisions After the Last Possession"
   ]
  },
  {
   "cell_type": "markdown",
   "metadata": {
    "pycharm": {}
   },
   "source": [
    "We'll assume the game ends on the opponent's last possession. That possession can end with no score, a field goal, or touchdown.  W[s,d,0] is probability of a win after the opponent's possession ends with outcome s and our lead is d, but before the opponent's decision regarding the point after play.  We assume the opponent will always go for a tie and over-time win if given the choice.\n",
    "\n",
    "If the last possession ends in the opponent's touchdown to tie the game, assume the opponent will attempt an extra point for the win. If it fails then we can win in overtime with a probability of 1/2."
   ]
  },
  {
   "cell_type": "code",
   "execution_count": 7,
   "metadata": {
    "collapsed": true,
    "pycharm": {}
   },
   "outputs": [],
   "source": [
    "W['TD',0,0] = 0.5*(1.0 - p['XP'])"
   ]
  },
  {
   "cell_type": "markdown",
   "metadata": {
    "pycharm": {}
   },
   "source": [
    "If the last possession ends in the opponent's touchdown to reduce the lead to one, assume the opponent will attempt an extra point to tie and go to overtime with probability p['XP']. Our team can with the game in regulation with probability `1-p['XP']` and in overtime with probability `p['XP']/2`."
   ]
  },
  {
   "cell_type": "code",
   "execution_count": 8,
   "metadata": {
    "collapsed": true,
    "pycharm": {}
   },
   "outputs": [],
   "source": [
    "W['TD',1,0] = (1.0 - p['XP']) + p['XP']/2.0"
   ]
  },
  {
   "cell_type": "markdown",
   "metadata": {
    "pycharm": {}
   },
   "source": [
    "If the last possession ends in the opponent's touchdown to reduce the lead to two, assume the opponent will attempt a two point conversion to tie and go to overtime with probability p['2P']. Half of the time the opponent will then win the game, i.e., p['2P']/2. Thus"
   ]
  },
  {
   "cell_type": "code",
   "execution_count": 9,
   "metadata": {
    "collapsed": true,
    "pycharm": {}
   },
   "outputs": [],
   "source": [
    "W['TD',2,0] = (1.0 - p['2P']) + p['2P']/2.0"
   ]
  },
  {
   "cell_type": "markdown",
   "metadata": {
    "pycharm": {}
   },
   "source": [
    "#### Visualization\n",
    "\n",
    "For the opponent to finish the final possession with a field goal or with no score makes the game a win if $d \\geq 1$, a loss if $d \\leq 1$, and an even chance if $d = 0$. A touchdown, however, reduces the chances for a win.  If $d=0$, then the only chance of a win is for the oppenent to miss the one point conversion  putting the game into overtime. If $d=1$, then the opponent has a roughly even change of winning in overtime. If $d=2$, then chances of a win improve further because the opponent must make a successful two point conversion and win in overtime. A three point or larger lead is insurmountable."
   ]
  },
  {
   "cell_type": "code",
   "execution_count": 10,
   "metadata": {
    "pycharm": {}
   },
   "outputs": [
    {
     "data": {
      "image/png": "[encoded data removed]",
      "text/plain": [
       "<matplotlib.figure.Figure at 0x10fcbd6d8>"
      ]
     },
     "metadata": {},
     "output_type": "display_data"
    }
   ],
   "source": [
    "W['NS',:,0].plot(lw=3,label='NS',alpha=0.5)\n",
    "W['FG',:,0].plot(lw=3,label='FS',alpha=0.5)\n",
    "W['TD',:,0].plot(lw=3,label='TD',alpha=0.5)\n",
    "\n",
    "plt.xlim(-5,5)\n",
    "plt.legend()\n",
    "plt.title(\"Pr[Win] after opponent's last possession, before point after attempt.\")\n",
    "plt.xlabel('Lead')\n",
    "plt.grid()"
   ]
  },
  {
   "cell_type": "markdown",
   "metadata": {
    "pycharm": {}
   },
   "source": [
    "### Decision Prior to the Opponent's Last Possession\n",
    "\n",
    "Suppose the proponent scores a field goal or doesn't score on their last possession. The opponent will take possession, for which there will be three potential successor states. Successor states in which the opponent scores reduces our lead by the number of points scored.\n",
    "\n",
    "On the other hand, if the proponent score a touchdown then there is a chance to score zero, one, or two extra points which add to the point differential. \n",
    "\n",
    "We compute the probability of a win if we attempt a win with either a one or two point conversion attempt, then choose the decision that maximizes the chance of a win."
   ]
  },
  {
   "cell_type": "code",
   "execution_count": 11,
   "metadata": {
    "collapsed": true,
    "pycharm": {}
   },
   "outputs": [],
   "source": [
    "for d in D[6:-6]:\n",
    "    \n",
    "    # probability of winning with 0, 1, 2 extra points followed by opponent outcome\n",
    "    q0 = p['NS']*W['NS',d+0,0] + p['FG']*W['FG',d-3,0] + p['TD']*W['TD',d-6,0]\n",
    "    q1 = p['NS']*W['NS',d+1,0] + p['FG']*W['FG',d-2,0] + p['TD']*W['TD',d-5,0]\n",
    "    q2 = p['NS']*W['NS',d+2,0] + p['FG']*W['FG',d-1,0] + p['TD']*W['TD',d-4,0]\n",
    "    \n",
    "    V['NS',d,0] = q0\n",
    "    V['FG',d,0] = q0\n",
    "            \n",
    "    P1[d,0] = p['XP']*q1 + (1-p['XP'])*q0         \n",
    "    P2[d,0] = p['2P']*q2 + (1-p['2P'])*q0\n",
    "                 \n",
    "    V['TD',d,0] = max(P1[d,0],P2[d,0])"
   ]
  },
  {
   "cell_type": "markdown",
   "metadata": {
    "pycharm": {}
   },
   "source": [
    "#### Visualization\n",
    "\n",
    "Plotting the win probability shows impact of scoring a touchdown."
   ]
  },
  {
   "cell_type": "code",
   "execution_count": 12,
   "metadata": {
    "pycharm": {}
   },
   "outputs": [
    {
     "data": {
      "image/png": "[encoded data removed]",
      "text/plain": [
       "<matplotlib.figure.Figure at 0x113066cf8>"
      ]
     },
     "metadata": {},
     "output_type": "display_data"
    }
   ],
   "source": [
    "V['NS',:,0].plot(style='r',lw=3,alpha=0.5)\n",
    "V['FG',:,0].plot(style='g',lw=3,alpha=0.5)\n",
    "V['TD',:,0].plot(style='b',lw=3,alpha=0.5)\n",
    "\n",
    "plt.xlim(-5,14)\n",
    "plt.legend(S)\n",
    "plt.title('Pr[Win] after last possession, before PA decision')\n",
    "plt.xlabel('Lead')\n",
    "plt.grid()"
   ]
  },
  {
   "cell_type": "markdown",
   "metadata": {
    "pycharm": {}
   },
   "source": [
    "Subsequent stages of calculations begin with the outcome of the opponent's possession. The opponent is assumed to maximizes their probability of a win, which is equivalent to minimizing the proponent's probability of a win. \n",
    "\n",
    "The stage finishes with the outcome of the proponent's possession. If the outcome was a touchdown, the probability of wins are calculated for both the one and two point conversion attempts. These are recorded for later display. The proponent is assumed always choose the option that maximizes the propabability of a win."
   ]
  },
  {
   "cell_type": "code",
   "execution_count": 13,
   "metadata": {
    "collapsed": true,
    "pycharm": {}
   },
   "outputs": [],
   "source": [
    "for t in T[1:]:\n",
    "    \n",
    "    for d in D[6:-6]:\n",
    "        q0 = p['NS']*V['NS',d+0,t-1] + p['FG']*V['FG',d+3,t-1] + p['TD']*V['TD',d+6,t-1]\n",
    "        q1 = p['NS']*V['NS',d-1,t-1] + p['FG']*V['FG',d+2,t-1] + p['TD']*V['TD',d+5,t-1]\n",
    "        q2 = p['NS']*V['NS',d-2,t-1] + p['FG']*V['FG',d+1,t-1] + p['TD']*V['TD',d+4,t-1]\n",
    "        \n",
    "        W['NS',d,t] = q0\n",
    "        W['FG',d,t] = q0\n",
    "        W['TD',d,t] = min(p['XP']*q1 + (1-p['XP'])*q0, p['2P']*q2 + (1-p['2P'])*q2)    \n",
    "    \n",
    "    for d in D[6:-6]:\n",
    "        q0 = p['NS']*W['NS',d+0,t] + p['FG']*W['FG',d-3,t] + p['TD']*W['TD',d-6,t]\n",
    "        q1 = p['NS']*W['NS',d+1,t] + p['FG']*W['FG',d-2,t] + p['TD']*W['TD',d-5,t]\n",
    "        q2 = p['NS']*W['NS',d+2,t] + p['FG']*W['FG',d-1,t] + p['TD']*W['TD',d-4,t]\n",
    "        \n",
    "        V['NS',d,t] = q0\n",
    "        V['FG',d,t] = q0\n",
    "        P1[d,t] = (1-p['XP'])*q0 + p['XP']*q1\n",
    "        P2[d,t] = (1-p['2P'])*q0 + p['2P']*q2\n",
    "        V['TD',d,t] = max(P1[d,t],P2[d,t])"
   ]
  },
  {
   "cell_type": "code",
   "execution_count": 14,
   "metadata": {
    "pycharm": {}
   },
   "outputs": [
    {
     "data": {
      "image/png": "[encoded data removed]",
      "text/plain": [
       "<matplotlib.figure.Figure at 0x11341c0f0>"
      ]
     },
     "metadata": {},
     "output_type": "display_data"
    }
   ],
   "source": [
    "for t in T[0:]:\n",
    "    V['NS',:,t].plot()\n",
    "\n",
    "plt.xlim(-50,50)\n",
    "plt.title('Win Probability')\n",
    "plt.grid()"
   ]
  },
  {
   "cell_type": "markdown",
   "metadata": {
    "pycharm": {}
   },
   "source": [
    "## Decision Chart"
   ]
  },
  {
   "cell_type": "code",
   "execution_count": 15,
   "metadata": {
    "pycharm": {},
    "scrolled": false
   },
   "outputs": [
    {
     "name": "stdout",
     "output_type": "stream",
     "text": [
      "      Possessions Remaining ->\n",
      "Lead\n",
      "      0   1   2   3   4   5   6   7   8   9  10  11  12 \n",
      "-25               .   2   2   2   .   .   .   .   .   . \n",
      "-24               2   2   2   .   .   .   .   .   .   . \n",
      "-23               2   2   2   2   .   .   .   .   .   . \n",
      "-22               2   2   2   2   2   2   2   .   .   . \n",
      "-21               .   .   .   .   .   .   .   .   .   . \n",
      "-20               .   .   .   .   .   .   .   .   .   . \n",
      "-19               2   2   2   2   2   2   .   .   .   . \n",
      "-18           2   2   2   .   .   .   .   .   .   .   . \n",
      "-17           .   .   .   .   .   .   .   .   .   .   . \n",
      "-16           2   2   2   2   2   2   .   .   .   .   . \n",
      "-15           2   2   2   2   .   .   .   .   .   .   . \n",
      "-14           .   .   .   .   .   .   .   .   .   .   . \n",
      "-13           2   2   2   2   .   .   .   .   .   .   . \n",
      "-12           .   .   .   .   .   .   .   .   .   .   . \n",
      "-11           .   .   .   .   .   .   .   .   .   .   . \n",
      "-10       2   2   2   .   .   .   .   .   .   .   .   . \n",
      " -9       .   .   .   .   .   .   .   .   .   .   .   . \n",
      " -8       2   2   2   2   2   2   2   .   .   .   .   . \n",
      " -7       .   .   .   .   .   .   .   .   .   .   .   . \n",
      " -6       .   .   .   .   .   .   .   .   .   .   .   . \n",
      " -5       2   2   2   2   2   2   .   .   .   .   .   . \n",
      " -4       .   .   .   .   .   .   .   .   .   .   .   . \n",
      " -3       .   .   .   .   .   .   .   .   .   .   .   . \n",
      " -2   2   2   2   2   2   2   .   .   .   .   .   .   . \n",
      " -1   .   .   .   .   .   .   .   .   .   .   .   .   . \n",
      "  0   .   .   .   .   .   .   .   .   .   .   .   .   . \n",
      "  1   2   2   2   .   .   .   .   .   .   .   .   .   . \n",
      "  2   .   .   .   .   .   .   .   .   .   .   .   .   . \n",
      "  3   .   .   .   .   .   .   .   .   .   .   .   .   . \n",
      "  4   2   .   .   .   .   .   .   .   .   .   .   .   . \n",
      "  5   2   2   .   .   .   .   .   .   .   .   .   .   . \n",
      "  6   .   2   2   2   2   2   2   .   .   .   .   .   . \n",
      "  7   .   .   .   .   .   .   .   .   .   .   .   .   . \n",
      "  8   .   .   .   .   .   .   .   .   .   .   .   .   . \n",
      "  9       2   2   .   .   .   .   .   .   .   .   .   . \n",
      " 10       .   .   .   .   .   .   .   .   .   .   .   . \n",
      " 11       .   .   .   .   .   .   .   .   .   .   .   . \n",
      " 12       .   .   .   .   .   .   .   .   .   .   .   . \n",
      " 13       2   2   2   .   .   .   .   .   .   .   .   . \n",
      " 14       .   .   .   .   .   .   .   .   .   .   .   . \n",
      " 15       .   .   .   .   .   .   .   .   .   .   .   . \n",
      " 16       .   .   .   .   .   .   .   .   .   .   .   . \n",
      " 17           .   .   .   .   .   .   .   .   .   .   . \n",
      " 18           .   .   .   .   .   .   .   .   .   .   . \n",
      " 19           .   .   .   .   .   .   .   .   .   .   . \n",
      " 20           .   .   .   .   .   .   .   .   .   .   . \n"
     ]
    }
   ],
   "source": [
    "print(\"      Possessions Remaining ->\")\n",
    "print(\"Lead\")\n",
    "\n",
    "print(\"    \",end=\"\")\n",
    "for t in range(0,13):\n",
    "    print(\"{0:3.0f} \".format(t),end=\"\")\n",
    "print(\"\")\n",
    "\n",
    "for d in range(-25,21):\n",
    "    print(\"{0:3.0f} \".format(d),end=\"\")\n",
    "    for t in range(0,13):\n",
    "        if (2 + 8*t + d >= 0) & (d <= 8*(t+1)) :\n",
    "            if (P1[d,t] >= P2[d,t]):\n",
    "                print(\"  . \",end=\"\")\n",
    "            else:\n",
    "                print(\"  2 \",end=\"\")\n",
    "        else:\n",
    "            print(\"    \",end=\"\")\n",
    "    print(\"\")"
   ]
  },
  {
   "cell_type": "markdown",
   "metadata": {
    "pycharm": {}
   },
   "source": [
    "## Odds of Winning\n",
    "\n",
    "The calculations record the probability of winning for each decision assuming all subequent decisions by either team maximized their respective probabilities of a win.  "
   ]
  },
  {
   "cell_type": "code",
   "execution_count": 16,
   "metadata": {
    "pycharm": {},
    "scrolled": false
   },
   "outputs": [
    {
     "name": "stdout",
     "output_type": "stream",
     "text": [
      "Probability of a Win with Incremental Probability for 2 pt Attempt\n",
      "      Possessions Remaining ->\n",
      "Lead\n",
      "          0       1       2       3       4       5       6       7 \n",
      "-20                         1:437.5*1:148.3* 1:78.8* 1:51.2* 1:37.2*\n",
      "                            1:438.6 1:149.0  1:79.2  1:51.5  1:37.5 \n",
      "\n",
      "-19                         1:332.3 1:115.4  1:62.6  1:41.4  1:30.7 \n",
      "                            1:309.8*1:110.3* 1:60.9* 1:40.8* 1:30.4*\n",
      "\n",
      "-18                   1:inf 1:225.4  1:82.9  1:47.1* 1:32.3* 1:24.6*\n",
      "                     1:1999*1:204.3* 1:82.2* 1:47.6  1:32.8  1:24.9 \n",
      "\n",
      "-17                 1:876.6 1:136.5* 1:59.9* 1:36.3* 1:25.8* 1:20.1*\n",
      "                    1:876.6 1:140.5  1:61.3  1:37.1  1:26.3  1:20.5 \n",
      "\n",
      "-16                 1:380.6  1:94.4  1:45.9  1:29.1  1:21.2  1:16.8 \n",
      "                    1:274.6* 1:82.7* 1:43.0* 1:28.2* 1:20.9* 1:16.8*\n",
      "\n",
      "-15                 1:145.8  1:54.9  1:31.6  1:21.9  1:16.9* 1:13.8*\n",
      "                    1:144.0* 1:54.5* 1:31.5* 1:21.9* 1:16.9  1:13.9 \n",
      "\n",
      "-14                  1:79.5* 1:35.0* 1:22.3* 1:16.5* 1:13.3* 1:11.2*\n",
      "                     1:99.6  1:40.3  1:24.4  1:17.5  1:13.8  1:11.5 \n",
      "\n",
      "-13                  1:70.7  1:30.0  1:18.8  1:13.8  1:11.1*  1:9.5*\n",
      "                     1:63.4* 1:28.3* 1:18.3* 1:13.8* 1:11.2   1:9.6 \n",
      "\n",
      "-12                  1:50.6* 1:22.8* 1:14.9* 1:11.3*  1:9.3*  1:8.1*\n",
      "                     1:50.6  1:22.8  1:14.9  1:11.3   1:9.4   1:8.1 \n",
      "\n",
      "-11                  1:36.9* 1:17.3* 1:11.7*  1:9.1*  1:7.7*  1:6.8*\n",
      "                     1:37.6  1:17.6  1:11.9   1:9.3   1:7.8   1:6.9 \n",
      "\n",
      "-10           1:inf  1:28.2  1:13.6   1:9.4*  1:7.5*  1:6.4*  1:5.7*\n",
      "            1:116.0* 1:24.4* 1:13.3*  1:9.5   1:7.6   1:6.6   1:5.9 \n",
      "\n",
      " -9          1:50.3* 1:16.8* 1:10.2*  1:7.6*  1:6.3*  1:5.5*  1:5.0*\n",
      "             1:50.3  1:16.8  1:10.2   1:7.7   1:6.3   1:5.5   1:5.0 \n",
      "\n",
      " -8          1:21.3  1:10.9   1:7.7   1:6.1   1:5.2   1:4.7   1:4.3 \n",
      "             1:18.7* 1:10.0*  1:7.2*  1:5.9*  1:5.1*  1:4.6*  1:4.3*\n",
      "\n",
      " -7          1:10.0*  1:6.4*  1:5.1*  1:4.5*  1:4.1*  1:3.8*  1:3.6*\n",
      "             1:13.6   1:7.7   1:5.8   1:4.9   1:4.3   1:3.9   1:3.7 \n",
      "\n",
      " -6           1:9.1*  1:5.5*  1:4.4*  1:3.8*  1:3.5*  1:3.2*  1:3.1*\n",
      "              1:9.1   1:5.6   1:4.5   1:3.9   1:3.6   1:3.3   1:3.1 \n",
      "\n",
      " -5           1:8.2   1:4.9   1:3.9   1:3.3   1:3.0   1:2.8   1:2.7*\n",
      "              1:7.2*  1:4.4*  1:3.6*  1:3.2*  1:3.0*  1:2.8*  1:2.7 \n",
      "\n",
      " -4           1:5.6*  1:3.5*  1:2.9*  1:2.6*  1:2.5*  1:2.4*  1:2.3*\n",
      "              1:6.2   1:3.8   1:3.1   1:2.8   1:2.6   1:2.4   1:2.3 \n",
      "\n",
      " -3           1:4.5*  1:2.9*  1:2.4*  1:2.2*  1:2.1*  1:2.0*  1:2.0*\n",
      "              1:5.0   1:3.1   1:2.5   1:2.3   1:2.2   1:2.1   1:2.0 \n",
      "\n",
      " -2   1:inf   1:4.3   1:2.7   1:2.2   1:2.0   1:1.8   1:1.8*  1:1.7*\n",
      "      1:5.8*  1:2.8*  1:2.2*  1:2.0*  1:1.9*  1:1.8*  1:1.8   1:1.8 \n",
      "\n",
      " -1   1:2.0*  1:1.7*  1:1.6*  1:1.6*  1:1.6*  1:1.5*  1:1.5*  1:1.5*\n",
      "      1:2.4   1:1.9   1:1.7   1:1.6   1:1.6   1:1.6   1:1.5   1:1.5 \n",
      "\n",
      "  0   2.1:1*  1.2:1*  1:1.0*  1:1.2*  1:1.2*  1:1.3*  1:1.3*  1:1.3*\n",
      "      1:1.1   1:1.2   1:1.3   1:1.3   1:1.3   1:1.3   1:1.3   1:1.3 \n",
      "\n",
      "  1   2.1:1   1.3:1   1.1:1   1.0:1*  1:1.0*  1:1.1*  1:1.1*  1:1.1*\n",
      "      2.4:1*  1.4:1*  1.1:1*  1.0:1   1:1.1   1:1.1   1:1.1   1:1.2 \n",
      "\n",
      "  2   2.8:1*  1.7:1*  1.4:1*  1.2:1*  1.1:1*  1.1:1*  1.0:1*  1.0:1*\n",
      "      2.7:1   1.7:1   1.4:1   1.2:1   1.1:1   1.1:1   1.0:1   1:1.0 \n",
      "\n",
      "  3   4.0:1*  2.3:1*  1.8:1*  1.5:1*  1.3:1*  1.3:1*  1.2:1*  1.1:1*\n",
      "      3.3:1   2.0:1   1.6:1   1.4:1   1.3:1   1.2:1   1.2:1   1.1:1 \n",
      "\n",
      "  4   4.0:1   2.5:1*  2.0:1*  1.8:1*  1.6:1*  1.5:1*  1.4:1*  1.3:1*\n",
      "      4.0:1*  2.5:1   2.0:1   1.7:1   1.6:1   1.4:1   1.4:1   1.3:1 \n",
      "\n",
      "  5   4.0:1   2.7:1   2.3:1*  2.1:1*  1.9:1*  1.7:1*  1.6:1*  1.5:1*\n",
      "      5.4:1*  2.9:1*  2.3:1   2.0:1   1.8:1   1.7:1   1.6:1   1.5:1 \n",
      "\n",
      "  6   9.0:1*  3.7:1   2.8:1   2.4:1   2.1:1   1.9:1   1.8:1   1.7:1*\n",
      "      6.6:1   3.7:1*  2.9:1*  2.5:1*  2.2:1*  2.0:1*  1.8:1*  1.7:1 \n",
      "\n",
      "  7  21.7:1*  6.2:1*  4.0:1*  3.1:1*  2.7:1*  2.3:1*  2.1:1*  2.0:1*\n",
      "     16.9:1   5.7:1   3.8:1   3.0:1   2.6:1   2.3:1   2.1:1   1.9:1 \n",
      "\n",
      "  8  1162:1* 13.8:1*  6.6:1*  4.4:1*  3.4:1*  2.9:1*  2.5:1*  2.3:1*\n",
      "     39.8:1   8.8:1   5.2:1   3.8:1   3.2:1   2.7:1   2.5:1   2.2:1 \n",
      "\n",
      "  9          16.7:1   7.7:1   5.2:1*  4.0:1*  3.4:1*  3.0:1*  2.7:1*\n",
      "             16.7:1*  7.7:1*  5.1:1   4.0:1   3.3:1   2.9:1   2.6:1 \n",
      "\n",
      " 10          21.8:1*  9.7:1*  6.3:1*  4.8:1*  4.0:1*  3.4:1*  3.0:1*\n",
      "             21.3:1   9.5:1   6.2:1   4.7:1   3.9:1   3.4:1   3.0:1 \n",
      "\n",
      " 11          32.5:1* 13.5:1*  8.2:1*  6.0:1*  4.8:1*  4.0:1*  3.5:1*\n",
      "             26.0:1  11.5:1   7.5:1   5.6:1   4.6:1   3.9:1   3.5:1 \n",
      "\n",
      " 12          34.4:1* 15.2:1*  9.6:1*  7.1:1*  5.6:1*  4.7:1*  4.1:1*\n",
      "             34.2:1  14.9:1   9.3:1   6.8:1   5.4:1   4.6:1   4.0:1 \n",
      "\n",
      " 13          36.1:1  17.0:1  11.1:1   8.3:1*  6.6:1*  5.5:1*  4.7:1*\n",
      "             44.8:1* 18.1:1* 11.1:1*  8.1:1   6.4:1   5.3:1   4.6:1 \n",
      "\n",
      " 14          72.5:1* 23.8:1* 13.9:1*  9.8:1*  7.6:1*  6.3:1*  5.4:1*\n",
      "             55.0:1  22.5:1  13.7:1   9.8:1   7.6:1   6.3:1   5.3:1 \n",
      "\n",
      " 15         165.7:1* 38.1:1* 19.4:1* 12.7:1*  9.5:1*  7.6:1*  6.3:1*\n",
      "            130.6:1  34.7:1  18.4:1  12.3:1   9.2:1   7.4:1   6.2:1 \n",
      "\n",
      " 16          8549:1* 79.5:1* 30.5:1* 17.7:1* 12.2:1*  9.4:1*  7.6:1*\n",
      "            299.0:1  53.1:1  24.7:1  15.5:1  11.2:1   8.8:1   7.3:1 \n",
      "\n",
      " 17                 104.4:1* 37.7:1* 21.3:1* 14.5:1* 11.0:1*  8.9:1*\n",
      "                     99.4:1  36.7:1  20.8:1  14.2:1  10.7:1   8.6:1 \n",
      "\n",
      " 18                 139.8:1* 48.3:1* 26.4:1* 17.6:1* 13.0:1* 10.4:1*\n",
      "                    137.1:1  47.5:1  25.9:1  17.3:1  12.8:1  10.2:1 \n",
      "\n",
      " 19                 226.6:1* 70.8:1* 35.8:1* 22.5:1* 16.1:1* 12.4:1*\n",
      "                    173.4:1  59.2:1  31.7:1  20.8:1  15.2:1  11.9:1 \n",
      "\n",
      " 20                 249.8:1* 82.7:1* 42.7:1* 27.0:1* 19.2:1* 14.7:1*\n",
      "                    246.0:1  80.3:1  41.2:1  26.0:1  18.5:1  14.2:1 \n",
      "\n"
     ]
    },
    {
     "name": "stderr",
     "output_type": "stream",
     "text": [
      "/Users/jeff/anaconda/lib/python3.5/site-packages/ipykernel/__main__.py:3: RuntimeWarning: divide by zero encountered in double_scalars\n",
      "  app.launch_new_instance()\n"
     ]
    }
   ],
   "source": [
    "def prob2odds(p):\n",
    "    if p <= 0.001:\n",
    "        s = \"{0:>7s}\".format(\"1:{0:.0f}\".format((1-p)/p))\n",
    "    elif p <= 0.5:\n",
    "        s = \"{0:>7s}\".format(\"1:{0:.1f}\".format((1-p)/p))\n",
    "    elif p <= 0.999:\n",
    "        s = \"{0:>7s}\".format(\"{0:.1f}:1\".format(p/(1-p)))\n",
    "    else:\n",
    "        s = \"{0:>7s}\".format(\"{0:.0f}:1\".format(p/(1-p)))\n",
    "    return s\n",
    "\n",
    "\n",
    "print(\"Probability of a Win with Incremental Probability for 2 pt Attempt\")\n",
    "print(\"      Possessions Remaining ->\")\n",
    "print(\"Lead\")\n",
    "\n",
    "print(\"    \",end=\"\")\n",
    "for t in range(0,8):\n",
    "    print(\"{0:7.0f} \".format(t),end=\"\")\n",
    "print(\"\")\n",
    "\n",
    "for d in range(-20,21):\n",
    "    print(\"{0:3.0f} \".format(d),end=\"\")\n",
    "    for t in range(0,8):\n",
    "        if (2 + 8*t + d >= 0) & (d <= 8*(t+1)) :\n",
    "            P = max(P1[d,t],P2[d,t])\n",
    "            if P1[d,t] > P2[d,t]:\n",
    "                print(\"{0:>7s}*\".format(prob2odds(P1[d,t])),end=\"\")\n",
    "            else:\n",
    "                print(\"{0:>7s} \".format(prob2odds(P1[d,t])),end=\"\")\n",
    "        else:\n",
    "            print(\"        \",end=\"\")\n",
    "    print(\"\\n    \",end=\"\")\n",
    "    for t in range(0,8):\n",
    "        if (2 + 8*t + d >= 0) & (d <= 8*(t+1)) :\n",
    "            if P1[d,t] < P2[d,t]:\n",
    "                print(\"{0:>7s}*\".format(prob2odds(P2[d,t])),end=\"\")\n",
    "            else:\n",
    "                print(\"{0:>7s} \".format(prob2odds(P2[d,t])),end=\"\")\n",
    "        else:\n",
    "            print(\"        \",end=\"\")\n",
    "    print(\"\\n\")"
   ]
  },
  {
   "cell_type": "markdown",
   "metadata": {
    "pycharm": {}
   },
   "source": [
    "## Analysis of Three Cases (To be completed)"
   ]
  },
  {
   "cell_type": "markdown",
   "metadata": {
    "pycharm": {}
   },
   "source": [
    "### Northwestern at Notre Dame, 2014"
   ]
  },
  {
   "cell_type": "markdown",
   "metadata": {
    "pycharm": {}
   },
   "source": [
    "### Notre Dame at Clemson, 2015"
   ]
  },
  {
   "cell_type": "markdown",
   "metadata": {
    "pycharm": {}
   },
   "source": [
    "### Georgia Tech at Notre Dame, 2015"
   ]
  },
  {
   "cell_type": "code",
   "execution_count": null,
   "metadata": {
    "collapsed": true,
    "pycharm": {}
   },
   "outputs": [],
   "source": []
  },
  {
   "cell_type": "markdown",
   "metadata": {
    "pycharm": {}
   },
   "source": [
    "<!--NAVIGATION-->\n",
    "< [Risk Averse Gambler](http://nbviewer.jupyter.org/github/jckantor/CBE40455/blob/master/notebooks/06.04-Risk-Averse-Gambler.ipynb) | [Contents](toc.ipynb) | [Risk and Diversification](http://nbviewer.jupyter.org/github/jckantor/CBE40455/blob/master/notebooks/07.00-Risk-and-Diversification.ipynb) ><p><a href=\"https://colab.research.google.com/github/jckantor/CBE40455/blob/master/notebooks/06.05-Points-after-Touchdown-Decision.ipynb\"><img align=\"left\" src=\"https://colab.research.google.com/assets/colab-badge.svg\" alt=\"Open in Colab\" title=\"Open in Google Colaboratory\"></a><p><a href=\"https://raw.githubusercontent.com/jckantor/CBE40455/master/notebooks/06.05-Points-after-Touchdown-Decision.ipynb\"><img align=\"left\" src=\"https://img.shields.io/badge/Github-Download-blue.svg\" alt=\"Download\" title=\"Download Notebook\"></a>"
   ]
  }
 ],
 "metadata": {
  "kernelspec": {
   "display_name": "Python 3",
   "language": "python",
   "name": "python3"
  },
  "language_info": {
   "codemirror_mode": {
    "name": "ipython",
    "version": 3
   },
   "file_extension": ".py",
   "mimetype": "text/x-python",
   "name": "python",
   "nbconvert_exporter": "python",
   "pygments_lexer": "ipython3",
   "version": "3.7.3"
  }
 },
 "nbformat": 4,
 "nbformat_minor": 2
}
