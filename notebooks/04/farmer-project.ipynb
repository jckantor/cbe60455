{
 "cells": [
  {
   "cell_type": "markdown",
   "id": "8a57cf99-9019-4022-9546-4f86b1d9ca88",
   "metadata": {
    "ExecuteTime": {
     "end_time": "2022-09-30T21:49:22.516232Z",
     "start_time": "2022-09-30T21:49:22.430418Z"
    }
   },
   "source": [
    "# Solving the Farmer's problem\n",
    "\n",
    "The [Farmer's Problem](https://www.math.uh.edu/~rohop/Spring_15/Chapter1.pdf) is a teaching example presented in the well-known textbook by John Birge and Francois Louveaux.\n",
    "\n",
    "* Birge, John R., and Francois Louveaux. Introduction to stochastic programming. Springer Science & Business Media, 2011."
   ]
  },
  {
   "cell_type": "code",
   "execution_count": 1,
   "id": "9720e9d1",
   "metadata": {
    "ExecuteTime": {
     "end_time": "2022-09-30T21:49:20.540447Z",
     "start_time": "2022-09-30T21:49:20.292334Z"
    }
   },
   "outputs": [
    {
     "name": "stdout",
     "output_type": "stream",
     "text": [
      "pyomo was previously installed\n",
      "glpk was previously installed\n",
      "cbc was previously installed\n",
      "ipopt was previously installed\n"
     ]
    },
    {
     "data": {
      "text/plain": [
       "True"
      ]
     },
     "execution_count": 1,
     "metadata": {},
     "output_type": "execute_result"
    }
   ],
   "source": [
    "# install Pyomo and solvers\n",
    "import requests\n",
    "import types\n",
    "\n",
    "url = \"https://raw.githubusercontent.com/mobook/MO-book/main/python/helper.py\"\n",
    "helper = types.ModuleType(\"helper\")\n",
    "exec(requests.get(url).content, helper.__dict__)\n",
    "\n",
    "helper.install_pyomo()\n",
    "helper.install_glpk()\n",
    "helper.install_cbc()\n",
    "helper.install_ipopt()"
   ]
  },
  {
   "cell_type": "code",
   "execution_count": 2,
   "id": "330cd1f1",
   "metadata": {
    "ExecuteTime": {
     "end_time": "2022-09-30T21:49:22.291926Z",
     "start_time": "2022-09-30T21:49:20.543823Z"
    }
   },
   "outputs": [],
   "source": [
    "import pyomo.environ as pyo\n",
    "import numpy as np\n",
    "import pandas as pd\n",
    "import matplotlib.pyplot as plt"
   ]
  },
  {
   "cell_type": "markdown",
   "id": "4bdf92e9-c0b8-407e-8db3-817896abeadd",
   "metadata": {
    "ExecuteTime": {
     "end_time": "2022-09-30T21:49:22.516232Z",
     "start_time": "2022-09-30T21:49:22.430418Z"
    }
   },
   "source": [
    "## Problem Statement\n",
    "\n",
    "In the [farmer's problem](https://www.math.uh.edu/~rohop/Spring_15/Chapter1.pdf), a European farmer has to allocate 500 acres of land to three different crops (wheat, corn, and sugar beets) aiming to maximize profit. \n",
    "\n",
    "* Planting one acre of wheat, corn and beet costs \\\\$150, \\\\$230 and \\\\$260, respectively.\n",
    "\n",
    "* The mean yields are 2.5, 3.0, and 20.0 tons per acre for wheat, corn, and sugar beets, respectively. However, the yields can vary up to 25% from nominal conditions depending on weather.\n",
    "\n",
    "* At least 200 tons of wheat and 240 tons of corn are needed for cattle feed. These can be raised on the farm or purchased from a wholesaler. \n",
    "\n",
    "* Over the last decade, mean selling prices have been \\\\$170 and \\\\$150 per ton of wheat and corn, respectively. The purchase prices are 40% more due to wholesaler's margins and transportation costs.\n",
    "\n",
    "* Sugar beets are a profitable crop expected to sell at \\\\$36 per ton, but there is a quota on sugar beet production. Any amount in excess of the quota can be sold at only \\\\$10 per ton. The farmer's  quota for next year is 6,000 tons.\n",
    "\n",
    "After collecting this data, the farmer is unsure how to allocate the land among the three crops. So the farmer has hired you as a consultant to develop a model. After interviewing the farmer, you have determined you need to present three solutions for the farmer to consider:\n",
    "\n",
    "1. The first solution should represent the mean solution. How should the farmer allocate land to maximize profits under mean conditions.\n",
    "\n",
    "2. The second solution should consider the potential impact of weather. How should the farmer allocate land to maximize expected profit if the yields could go up or down by 20% due to weather conditions? What is the profit under each scenario?\n",
    "\n",
    "3. During your interview you learned the farmer needs a minimal profit each year to stay in business. How would you allocate land use to maximize the worst case profit?  \n",
    "\n",
    "4. Determine the tradeoff between risk and return by computing the mean expected profit when the minimum required profit is the worst case found in part 3, and \\\\$58,000, \\\\$56,000, \\\\$54,000, \\\\$52,000, \\\\$50,000, and \\\\$48,000. Compare these solutions to part 2 by plotting the expected loss in profit. \n",
    "\n",
    "5. What would be your advice to the farmer regarding land allocation?"
   ]
  },
  {
   "cell_type": "markdown",
   "id": "a5555bbd-5865-412a-8933-eceab4f29ceb",
   "metadata": {
    "ExecuteTime": {
     "end_time": "2022-09-30T21:49:22.516232Z",
     "start_time": "2022-09-30T21:49:22.430418Z"
    }
   },
   "source": [
    "## Data Summary\n",
    "\n",
    "| Scenario | Yield for wheat <br> (tons/acre)| Yield for corn <br> (tons/acre) | Yield for beets <br> (tons/acre) |\n",
    "| :-- | :-: | :-: | :-: |\n",
    "| Good weather | 3 | 3.6 | 24 |\n",
    "| Average weather | 2.5 | 3 | 20 |\n",
    "| Bad weather | 2 | 2.4 | 16 |\n",
    "\n",
    "We first consider the case in which all the prices are fixed and not weather-dependent. The following table summarizes the data.\n",
    "\n",
    "| Commodity | Sell Price <br> (euro/ton) | Market <br> Demand <br> (tons) | Purchase <br> Price <br> (euro/ton) | Cattle Feed <br> Required <br> (tons) | Planting <br> Cost <br> (euro/acre) |\n",
    "| :-- | :--: | :--: | :--: | :--: | :--: |\n",
    "| Wheat | 170 | - | 238 | 200 | 150 |\n",
    "| Corn | 150 | - | 210 | 240 | 230 |\n",
    "| Beets | 36 | 6000 | - | 0 | 260 | 6000 |\n",
    "| Beets extra | 10 | - | - | 0 | 260 |\n",
    "\n",
    "(a) Implement the extensive form of stochastic LP corresponding to the farmer's problem in Pyomo and solve it."
   ]
  },
  {
   "cell_type": "markdown",
   "id": "bdb1ffea-d504-49aa-b985-2974808b0dad",
   "metadata": {},
   "source": [
    "## Model Building"
   ]
  },
  {
   "cell_type": "code",
   "execution_count": 19,
   "id": "8fa14eae-41b2-4e57-8027-d7a931b0ac1a",
   "metadata": {},
   "outputs": [],
   "source": [
    "import pandas as pd\n",
    "\n",
    "M = 10000\n",
    "commodity_data = {\"wheat\": {\"sell price\": 170, \"market demand\": 10000, \"buy price\": 238, \"feed\": 200, \"cost\": 150},\n",
    "                  \"corn\": {\"sell price\": 150, \"market demand\": 10000, \"buy price\": 210, \"feed\": 240, \"cost\": 230},\n",
    "                  \"beets\": {\"sell price\": 36, \"market demand\": 6000, \"buy price\": 0, \"feed\": M, \"cost\": 260},\n",
    "                  \"more beets\": {\"sell price\": 10, \"market demand\": 10000, \"buy price\": 0, \"feed\": M, \"cost\": 260},\n",
    "                 }\n",
    "\n",
    "commodities = pd.DataFrame(commodity_data).T\n",
    "\n",
    "yield_data = {\"good\": {\"wheat\": 3, \"corn\": 3.6, \"beets\": 24, \"more beets\": 24},\n",
    "              \"average\": {\"wheat\": 2.5, \"corn\": 3.0, \"beets\": 20, \"more beets\": 20},\n",
    "              \"poor\": {\"wheat\": 2, \"corn\": 2.4, \"beets\": 16, \"more beets\": 16},\n",
    "             }\n",
    "\n",
    "yields = pd.DataFrame(yield_data).T"
   ]
  },
  {
   "cell_type": "code",
   "execution_count": 28,
   "id": "dfa74da2-c464-4fbb-a922-af97f393dea1",
   "metadata": {},
   "outputs": [
    {
     "name": "stdout",
     "output_type": "stream",
     "text": [
      "4 Set Declarations\n",
      "    CROPS : Size=1, Index=None, Ordered=Insertion\n",
      "        Key  : Dimen : Domain : Size : Members\n",
      "        None :     1 :    Any :    4 : {'wheat', 'corn', 'beets', 'more beets'}\n",
      "    SCENARIOS : Size=1, Index=None, Ordered=Insertion\n",
      "        Key  : Dimen : Domain : Size : Members\n",
      "        None :     1 :    Any :    3 : {'good', 'average', 'poor'}\n",
      "    produce_index : Size=1, Index=None, Ordered=True\n",
      "        Key  : Dimen : Domain          : Size : Members\n",
      "        None :     2 : SCENARIOS*CROPS :   12 : {('good', 'wheat'), ('good', 'corn'), ('good', 'beets'), ('good', 'more beets'), ('average', 'wheat'), ('average', 'corn'), ('average', 'beets'), ('average', 'more beets'), ('poor', 'wheat'), ('poor', 'corn'), ('poor', 'beets'), ('poor', 'more beets')}\n",
      "    production_index : Size=1, Index=None, Ordered=True\n",
      "        Key  : Dimen : Domain          : Size : Members\n",
      "        None :     2 : SCENARIOS*CROPS :   12 : {('good', 'wheat'), ('good', 'corn'), ('good', 'beets'), ('good', 'more beets'), ('average', 'wheat'), ('average', 'corn'), ('average', 'beets'), ('average', 'more beets'), ('poor', 'wheat'), ('poor', 'corn'), ('poor', 'beets'), ('poor', 'more beets')}\n",
      "\n",
      "1 Param Declarations\n",
      "    total_land : Size=1, Index=None, Domain=Any, Default=None, Mutable=True\n",
      "        Key  : Value\n",
      "        None :   500\n",
      "\n",
      "2 Var Declarations\n",
      "    L : Size=4, Index=CROPS\n",
      "        Key        : Lower : Value : Upper : Fixed : Stale : Domain\n",
      "             beets :     0 :   0.0 :   500 : False : False : NonNegativeReals\n",
      "              corn :     0 :   0.0 :   500 : False : False : NonNegativeReals\n",
      "        more beets :     0 :   0.0 :   500 : False : False : NonNegativeReals\n",
      "             wheat :     0 :   0.0 :   500 : False : False : NonNegativeReals\n",
      "    produce : Size=12, Index=produce_index\n",
      "        Key                       : Lower : Value : Upper : Fixed : Stale : Domain\n",
      "             ('average', 'beets') :     0 :   0.0 :  None : False : False : NonNegativeReals\n",
      "              ('average', 'corn') :     0 :   0.0 :  None : False : False : NonNegativeReals\n",
      "        ('average', 'more beets') :     0 :   0.0 :  None : False : False : NonNegativeReals\n",
      "             ('average', 'wheat') :     0 :   0.0 :  None : False : False : NonNegativeReals\n",
      "                ('good', 'beets') :     0 :   0.0 :  None : False : False : NonNegativeReals\n",
      "                 ('good', 'corn') :     0 :   0.0 :  None : False : False : NonNegativeReals\n",
      "           ('good', 'more beets') :     0 :   0.0 :  None : False : False : NonNegativeReals\n",
      "                ('good', 'wheat') :     0 :   0.0 :  None : False : False : NonNegativeReals\n",
      "                ('poor', 'beets') :     0 :   0.0 :  None : False : False : NonNegativeReals\n",
      "                 ('poor', 'corn') :     0 :   0.0 :  None : False : False : NonNegativeReals\n",
      "           ('poor', 'more beets') :     0 :   0.0 :  None : False : False : NonNegativeReals\n",
      "                ('poor', 'wheat') :     0 :   0.0 :  None : False : False : NonNegativeReals\n",
      "\n",
      "1 Expression Declarations\n",
      "    planting_cost : Size=1, Index=None\n",
      "        Key  : Expression\n",
      "        None : 150*L[wheat] + 230*L[corn] + 260*L[beets] + 260*L[more beets]\n",
      "\n",
      "1 Objective Declarations\n",
      "    mean_profit : Size=1, Index=None, Active=True\n",
      "        Key  : Active : Sense    : Expression\n",
      "        None :   True : maximize : - (150*L[wheat] + 230*L[corn] + 260*L[beets] + 260*L[more beets])\n",
      "\n",
      "1 Constraint Declarations\n",
      "    production : Size=12, Index=production_index, Active=True\n",
      "        Key                       : Lower : Body                                             : Upper : Active\n",
      "             ('average', 'beets') :   0.0 :           produce[average,beets] - 20.0*L[beets] :   0.0 :   True\n",
      "              ('average', 'corn') :   0.0 :              produce[average,corn] - 3.0*L[corn] :   0.0 :   True\n",
      "        ('average', 'more beets') :   0.0 : produce[average,more beets] - 20.0*L[more beets] :   0.0 :   True\n",
      "             ('average', 'wheat') :   0.0 :            produce[average,wheat] - 2.5*L[wheat] :   0.0 :   True\n",
      "                ('good', 'beets') :   0.0 :              produce[good,beets] - 24.0*L[beets] :   0.0 :   True\n",
      "                 ('good', 'corn') :   0.0 :                 produce[good,corn] - 3.6*L[corn] :   0.0 :   True\n",
      "           ('good', 'more beets') :   0.0 :    produce[good,more beets] - 24.0*L[more beets] :   0.0 :   True\n",
      "                ('good', 'wheat') :   0.0 :               produce[good,wheat] - 3.0*L[wheat] :   0.0 :   True\n",
      "                ('poor', 'beets') :   0.0 :              produce[poor,beets] - 16.0*L[beets] :   0.0 :   True\n",
      "                 ('poor', 'corn') :   0.0 :                 produce[poor,corn] - 2.4*L[corn] :   0.0 :   True\n",
      "           ('poor', 'more beets') :   0.0 :    produce[poor,more beets] - 16.0*L[more beets] :   0.0 :   True\n",
      "                ('poor', 'wheat') :   0.0 :               produce[poor,wheat] - 2.0*L[wheat] :   0.0 :   True\n",
      "\n",
      "10 Declarations: CROPS SCENARIOS total_land L produce_index produce planting_cost production_index production mean_profit\n"
     ]
    }
   ],
   "source": [
    "import pyomo.environ as pyo\n",
    "\n",
    "m = pyo.ConcreteModel(\"Farmer's Problem\")\n",
    "\n",
    "m.CROPS = pyo.Set(initialize=commodities.index)\n",
    "m.SCENARIOS = pyo.Set(initialize=yields.index)\n",
    "\n",
    "# mutable parameters\n",
    "m.total_land = pyo.Param(initialize=500, mutable=True)\n",
    "\n",
    "# here and now (first stage) decision variables\n",
    "m.L = pyo.Var(m.CROPS, domain=pyo.NonNegativeReals, bounds=(0, m.total_land))\n",
    "\n",
    "# wait and see (recourse, or second stage) decision variables\n",
    "m.produce = pyo.Var(m.SCENARIOS, m.CROPS, domain=pyo.NonNegativeReals)\n",
    "\n",
    "@m.Expression()\n",
    "def planting_cost(m):\n",
    "    return sum(m.L[c] * commodities.loc[c, \"cost\"] for c in m.CROPS)\n",
    "\n",
    "@m.Constraint(m.SCENARIOS, m.CROPS)\n",
    "def production(m, s, c):\n",
    "    return m.produce[s, c] == yields.loc[s, c] * m.L[c]\n",
    "\n",
    "@m.Objective(sense=pyo.maximize)\n",
    "def mean_profit(m):\n",
    "    return - m.planting_cost\n",
    "\n",
    "pyo.SolverFactory('cbc').solve(m)\n",
    "\n",
    "m.pprint()"
   ]
  },
  {
   "cell_type": "code",
   "execution_count": null,
   "id": "f0d83e5e-946a-428c-81d4-615cdedfc620",
   "metadata": {},
   "outputs": [],
   "source": []
  }
 ],
 "metadata": {
  "kernelspec": {
   "display_name": "Python 3 (ipykernel)",
   "language": "python",
   "name": "python3"
  },
  "language_info": {
   "codemirror_mode": {
    "name": "ipython",
    "version": 3
   },
   "file_extension": ".py",
   "mimetype": "text/x-python",
   "name": "python",
   "nbconvert_exporter": "python",
   "pygments_lexer": "ipython3",
   "version": "3.9.7"
  },
  "varInspector": {
   "cols": {
    "lenName": 16,
    "lenType": 16,
    "lenVar": 40
   },
   "kernels_config": {
    "python": {
     "delete_cmd_postfix": "",
     "delete_cmd_prefix": "del ",
     "library": "var_list.py",
     "varRefreshCmd": "print(var_dic_list())"
    },
    "r": {
     "delete_cmd_postfix": ") ",
     "delete_cmd_prefix": "rm(",
     "library": "var_list.r",
     "varRefreshCmd": "cat(var_dic_list()) "
    }
   },
   "types_to_exclude": [
    "module",
    "function",
    "builtin_function_or_method",
    "instance",
    "_Feature"
   ],
   "window_display": false
  }
 },
 "nbformat": 4,
 "nbformat_minor": 5
}
