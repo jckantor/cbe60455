{
 "cells": [
  {
   "cell_type": "code",
   "execution_count": null,
   "id": "02cfceca-b02e-4272-b244-12d6fc57ad27",
   "metadata": {},
   "outputs": [],
   "source": [
    "a = 12"
   ]
  },
  {
   "cell_type": "code",
   "execution_count": null,
   "id": "d4dfcabd-1651-4be4-81d2-b4fddd7c4986",
   "metadata": {},
   "outputs": [],
   "source": []
  }
 ],
 "metadata": {
  "kernelspec": {
   "display_name": "MicroPython upydevice kernel",
   "language": "python",
   "name": "micropython-upydevice"
  },
  "language_info": {
   "name": ""
  }
 },
 "nbformat": 4,
 "nbformat_minor": 5
}
