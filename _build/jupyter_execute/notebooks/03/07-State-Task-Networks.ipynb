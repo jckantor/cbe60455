{
 "cells": [
  {
   "cell_type": "markdown",
   "metadata": {
    "pycharm": {}
   },
   "source": [
    "# Scheduling Multipurpose Batch Processes using State-Task Networks\n",
    "\n",
    "The State-Task Network (STN) is an approach to modeling multipurpose batch process for the purpose of short term scheduling. It was first developed by Kondili, et al., in 1993, and subsequently developed and extended by others. "
   ]
  },
  {
   "cell_type": "code",
   "execution_count": 8,
   "metadata": {},
   "outputs": [],
   "source": [
    "import matplotlib.pyplot as plt\n",
    "import pandas as pd\n",
    "import numpy as np\n",
    "from pyomo.environ import *"
   ]
  },
  {
   "cell_type": "markdown",
   "metadata": {
    "pycharm": {}
   },
   "source": [
    "## Bibliographic Notes\n",
    "\n",
    "Original development --\n",
    "\n",
    "* Kondili, E., Pantelides, C. C., & Sargent, R. W. H. (1993). A general algorithm for short-term scheduling of batch operations—I. MILP formulation. Computers & Chemical Engineering, 17(2), 211-227. [[pdf](https://www.researchgate.net/profile/Roger-Sargent/publication/222159161_A_General_Algorithm_for_Short-Term_Scheduling_of_Batch_Operations-i_MILP_Formulation/links/5a19d9be0f7e9be37f9a5af1/A-General-Algorithm-for-Short-Term-Scheduling-of-Batch-Operations-i-MILP-Formulation.pdf)]\n",
    "\n",
    "* Shah, N., Pantelides, C. C., & Sargent, R. W. H. (1993). A general algorithm for short-term scheduling of batch operations—II. Computational issues. Computers & chemical engineering, 17(2), 229-244. [[pdf](https://www.sciencedirect.com/science/article/abs/pii/009813549380016G)]\n",
    "\n",
    "Process applications and further developments --\n",
    "\n",
    "* [[pdf](https://www.eq.uc.pt/~marco/eps/Edicao_2016_2017/Aulas_12_15/Pantelides_1994.pdf)]\n",
    "\n",
    "* Floudas, C. A., & Lin, X. (2005). Mixed integer linear programming in process scheduling: Modeling, algorithms, and applications. Annals of Operations Research, 139(1), 131-162.\n",
    "\n",
    "* Harjunkoski, I., Maravelias, C. T., Bongers, P., Castro, P. M., Engell, S., Grossmann, I. E., ... & Wassick, J. (2014). Scope for industrial applications of production scheduling models and solution methods. Computers & Chemical Engineering, 62, 161-193.\n",
    "\n",
    "* Méndez, C. A., Cerdá, J., Grossmann, I. E., Harjunkoski, I., & Fahl, M. (2006). State-of-the-art review of optimization methods for short-term scheduling of batch processes. Computers & Chemical Engineering, 30(6), 913-946.\n",
    "\n",
    "* Wassick, J. M., & Ferrio, J. (2011). Extending the resource task network for industrial applications. Computers & chemical engineering, 35(10), 2124-2140. [[pdf](https://reader.elsevier.com/reader/sd/pii/S0098135411000123)]\n",
    "\n",
    "Supply chain applications --\n",
    "\n",
    "* Castro, P. M., Sun, L., & Harjunkoski, I. (2013). Resource–task network formulations for industrial demand side management of a steel plant. Industrial & Engineering Chemistry Research, 52(36), 13046-13058. [[pubs.acs.org](https://pubs.acs.org/doi/full/10.1021/ie401044q)]\n",
    "\n",
    "* Ba, B. H., Prins, C., & Prodhon, C. (2018). A generic tactical planning model to supply a biorefinery with biomass. Pesquisa Operacional, 38, 1-30.Ba, B. H., Prins, C., & Prodhon, C. (2018). A generic tactical planning model to supply a biorefinery with biomass. Pesquisa Operacional, 38, 1-30. [[pdf](https://www.scielo.br/j/pope/a/wrqnhVjLs9xS34YMzwt9Hsf/abstract/?lang=enhttps://www.scielo.br/j/pope/a/wrqnhVjLs9xS34YMzwt9Hsf/abstract/?lang=en)]\n",
    "\n",
    "Python Coding Examples --\n",
    "\n",
    "* [STN-Scheduler](https://github.com/jckantor/STN-Scheduler)\n"
   ]
  },
  {
   "cell_type": "markdown",
   "metadata": {
    "pycharm": {}
   },
   "source": [
    "## Example (Kondili, et al., 1993)\n",
    "\n",
    "A state-task network is a graphical representation of the activities in a multiproduct batch process. The representation includes the minimum details needed for short term scheduling of batch operations.\n",
    "\n",
    "A well-studied example due to Kondili (1993) is shown below. Other examples are available in the references cited above.\n",
    "\n",
    "![Screen%20Shot%202017-09-16%20at%209.45.36%20PM.png](https://jckantor.github.io/CBE30338/figures/Kondili_1993.png)\n",
    "\n",
    "Each circular node in the diagram designates material in a particular state.  The materials are generally held in suitable vessels with a known capacity. The relevant information for each state is the initial inventory, storage capacity, and the unit price of the material in each state. The price of materials in intermediate states may be assigned penalities in order to minimize the amount of work in progress.\n",
    "\n",
    "The rectangular nodes denote process tasks. When scheduled for execution, each task is assigned an appropriate piece of equipment, and assigned a batch of material according to the incoming arcs. Each incoming arc begins at a state where the associated label indicates the mass fraction of the batch coming from that particular state. Outgoing arcs indicate the disposition of the batch to product states. The outgoing are labels indicate the fraction of the batch assigned to each product state, and the time necessary to produce that product. \n",
    "\n",
    "Not shown in the diagram is the process equipment used to execute the tasks. A separate list of process units is available, each characterized by a capacity and list of tasks which can be performed in that unit."
   ]
  },
  {
   "cell_type": "markdown",
   "metadata": {
    "pycharm": {}
   },
   "source": [
    "### Exercise\n",
    "\n",
    "1. Read this reciped for Hollandaise Sauce: http://www.foodnetwork.com/recipes/tyler-florence/hollandaise-sauce-recipe-1910043. Assume the available equipment consists of one sauce pan and a double-boiler on a stove. Draw a state-task network outlining the basic steps in the recipe.\n",
    "\n",
    "2. A few months ago you were given process development responsibilities for a start-up company that is attempting to commercialize a novel fermentation technology.  The fermentation produces high-value medicinal products based on an engineered micro-organism. During you short time on the job, you have already developed and commissioned a pilot plant comprised of the following basic operations:\n",
    "\n",
    "* Enzymatic digestion of the fermentation substrate.  This operation requires a feed of 20\\% substrate (S), 79\\% water (W), and 1\\% enzyme (E). The digestion requires 1 working day to complete all steps. Assume the substrate costs \\\\$2/kg, the enzyme is \\\\$20/kg, and water is essentially free.  You acquired a mixer/blender unit for this purpose that can operate on any quantity up to 100 kg.  The product of the digestion operation is called the “wort”. To avoid contamination of the process, wort cannot be stored before use.  \n",
    "\n",
    "* Digestion is followed by fermentation. The fermentation requires four working day for completion upon which the substrate is entirely consumed.  For this operation, you purchased a 100 liter (kg) fermentor that is working quite well. The product is a turbid suspension that is 20\\% solids.\n",
    "\n",
    "* A batch filtration operation separates the turbid suspension into a clarified intermediate product called “beer” (80\\%)  and a solid by-product (20\\%)  that can be sold for \\\\$2/kg.  The filtration device you purchased can handle 100 kg/batch. But the operation has turned out to be messy with frequent equipment breakdown. For planning purposes, you can plan on both products to be ready in 1 working day, but need to plan for additional working day for cleanup and maintenance of the equipment.\n",
    "\n",
    "* Following coarse filtration, a novel selective membrane separator is used to separate the beer into a product (P) valued at \\\\$200/kg and a contaminated waste-water stream that costs \\\\$2/kg to dispose. The product recovery is 5 mass \\% of the incoming liquid. The membrane separator was designed to handle 100 kg/day.\n",
    "\n",
    "Create a State-Task Network describing the pilot plant operation as it exists today."
   ]
  },
  {
   "cell_type": "markdown",
   "metadata": {
    "pycharm": {}
   },
   "source": [
    "## Encoding STN data\n",
    "\n",
    "The basic data structure specifies the states, tasks, and units comprising a state-task network. The intention is for all relevant problem data to be contained in a single JSON-like structure."
   ]
  },
  {
   "cell_type": "code",
   "execution_count": 44,
   "metadata": {
    "pycharm": {},
    "tags": []
   },
   "outputs": [],
   "source": [
    "# planning horizon\n",
    "H = 10\n",
    "\n",
    "# STN Data Structure\n",
    "Kondili = {\n",
    "    # time grid\n",
    "    'TIME':  list(range(0, H+1)),\n",
    "    \n",
    "    # states\n",
    "    'STATES': {\n",
    "        'Feed_A'   : {'capacity': 500, 'initial': 500, 'price':   0},\n",
    "        'Feed_B'   : {'capacity': 500, 'initial': 500, 'price':   0},\n",
    "        'Feed_C'   : {'capacity': 500, 'initial': 500, 'price':   0},\n",
    "        'Hot_A'    : {'capacity': 100, 'initial':   0, 'price': -10},\n",
    "        'Int_AB'   : {'capacity': 200, 'initial':   0, 'price': -10},\n",
    "        'Int_BC'   : {'capacity': 150, 'initial':   0, 'price': -10},\n",
    "        'Impure_E' : {'capacity': 100, 'initial':   0, 'price': -10},\n",
    "        'Product_1': {'capacity': 500, 'initial':   0, 'price':  10},\n",
    "        'Product_2': {'capacity': 500, 'initial':   0, 'price':  1000},\n",
    "    },\n",
    "    \n",
    "    # state to task arcs indexed by (state, task)\n",
    "    'ST_ARCS': {\n",
    "        ('Feed_A',   'Heating')   : {'rho': 1.0},\n",
    "        ('Feed_B',   'Reaction_1'): {'rho': 0.5},\n",
    "        ('Feed_C',   'Reaction_1'): {'rho': 0.5},\n",
    "        ('Feed_C',   'Reaction_3'): {'rho': 0.2},\n",
    "        ('Hot_A',    'Reaction_2'): {'rho': 0.4},\n",
    "        ('Int_AB',   'Reaction_3'): {'rho': 0.8},\n",
    "        ('Int_BC',   'Reaction_2'): {'rho': 0.6},\n",
    "        ('Impure_E', 'Separation'): {'rho': 1.0},\n",
    "    },\n",
    "    \n",
    "    # task to state arcs indexed by (task, state)\n",
    "    'TS_ARCS': {\n",
    "        ('Heating',    'Hot_A')    : {'dur': 1, 'rho': 1.0},\n",
    "        ('Reaction_2', 'Product_1'): {'dur': 2, 'rho': 0.4},\n",
    "        ('Reaction_2', 'Int_AB')   : {'dur': 2, 'rho': 0.6},\n",
    "        ('Reaction_1', 'Int_BC')   : {'dur': 2, 'rho': 1.0},\n",
    "        ('Reaction_3', 'Impure_E') : {'dur': 1, 'rho': 1.0},\n",
    "        ('Separation', 'Int_AB')   : {'dur': 2, 'rho': 0.1},\n",
    "        ('Separation', 'Product_2'): {'dur': 1, 'rho': 0.9},\n",
    "    },\n",
    "    \n",
    "    # unit data indexed by (unit, task)\n",
    "    'UNIT_TASKS': {\n",
    "        ('Heater',    'Heating')   : {'Bmin': 0, 'Bmax': 100, 'Cost': 1, 'vCost': 0, 'Tclean': 0},\n",
    "        ('Reactor_1', 'Reaction_1'): {'Bmin': 0, 'Bmax':  80, 'Cost': 1, 'vCost': 0, 'Tclean': 0},\n",
    "        ('Reactor_1', 'Reaction_2'): {'Bmin': 0, 'Bmax':  80, 'Cost': 1, 'vCost': 0, 'Tclean': 0},\n",
    "        ('Reactor_1', 'Reaction_3'): {'Bmin': 0, 'Bmax':  80, 'Cost': 1, 'vCost': 0, 'Tclean': 0},\n",
    "        ('Reactor_2', 'Reaction_1'): {'Bmin': 0, 'Bmax':  80, 'Cost': 1, 'vCost': 0, 'Tclean': 0},\n",
    "        ('Reactor_2', 'Reaction_2'): {'Bmin': 0, 'Bmax':  80, 'Cost': 1, 'vCost': 0, 'Tclean': 0},\n",
    "        ('Reactor_2', 'Reaction_3'): {'Bmin': 0, 'Bmax':  80, 'Cost': 1, 'vCost': 0, 'Tclean': 0},\n",
    "        ('Still',     'Separation'): {'Bmin': 0, 'Bmax': 200, 'Cost': 1, 'vCost': 0, 'Tclean': 0},\n",
    "    },\n",
    "}"
   ]
  },
  {
   "cell_type": "markdown",
   "metadata": {
    "pycharm": {}
   },
   "source": [
    "### Setting a Time Grid\n",
    "\n",
    "The following computations can be done on any time grid, including real-valued time points. TIME is a list of time points commencing at 0."
   ]
  },
  {
   "cell_type": "markdown",
   "metadata": {
    "pycharm": {}
   },
   "source": [
    "## Mathematical Model\n",
    "\n",
    "The following Pyomo model closely follows the development in Kondili, et al. (1993). In particular, the first step in the model is to process the STN data to create sets as given in Kondili.  \n",
    "\n",
    "One important difference from Kondili is the adoption of a more natural time scale that starts at $t = 0$ and extends to $t = H$ (rather than from 1 to H+1).\n",
    "\n",
    "A second difference is the introduction of an additional decision variable denoted by $Q_{j,t}$ indicating the amount of material in unit $j$ at time $t$. A material balance then reads\n",
    "\n",
    "\\begin{align*}\n",
    "Q_{jt} & = Q_{j(t-1)} + \\sum_{i\\in I_j}B_{ijt} - \\sum_{i\\in I_j}\\sum_{\\substack{s \\in \\bar{S}_i\\\\s\\ni t-P_{is} \\geq 0}}\\bar{\\rho}_{is}B_{ij(t-P_{is})} \\qquad \\forall j,t\n",
    "\\end{align*}\n",
    "\n",
    "Following Kondili's notation, $I_j$ is the set of tasks that can be performed in unit $j$, and $\\bar{S}_i$ is the set of states fed by task $j$. We assume the units are empty at the beginning and end of production period, i.e.,\n",
    "\n",
    "\\begin{align*}\n",
    "Q_{j(-1)} & = 0 \\qquad \\forall j \\\\\n",
    "Q_{j,H} & = 0 \\qquad \\forall j\n",
    "\\end{align*}\n",
    "\n",
    "The unit allocation constraints are written the full backward aggregation method described by Shah (1993).  The allocation constraint reads\n",
    "\n",
    "\\begin{align*}\n",
    "\\sum_{i \\in I_j} \\sum_{t'=t}^{t-p_i+1} W_{ijt'} & \\leq 1 \\qquad \\forall j,t\n",
    "\\end{align*}\n",
    "\n",
    "Each processing unit $j$ is tagged with a minimum and maximum capacity, $B_{ij}^{min}$ and $B_{ij}^{max}$, respectively, denoting the minimum and maximum batch sizes for each task $i$. A minimum capacity may be needed to cover heat exchange coils in a reactor or mixing blades in a blender, for example. The capacity may depend on the nature of the task being performed.  These constraints are written\n",
    "\n",
    "\\begin{align*}\n",
    "B_{ij}^{min}W_{ijt} & \\leq B_{ijt} \\leq  B_{ij}^{max}W_{ijt} \\qquad \\forall j, \\forall i\\in I_j, \\forall t\n",
    "\\end{align*}"
   ]
  },
  {
   "cell_type": "markdown",
   "metadata": {},
   "source": [
    "## Organizing Problem Data Structures"
   ]
  },
  {
   "cell_type": "code",
   "execution_count": 45,
   "metadata": {
    "pycharm": {},
    "tags": []
   },
   "outputs": [],
   "source": [
    "STN = Kondili\n",
    "\n",
    "STATES = STN['STATES']\n",
    "ST_ARCS = STN['ST_ARCS']\n",
    "TS_ARCS = STN['TS_ARCS']\n",
    "UNIT_TASKS = STN['UNIT_TASKS']\n",
    "TIME = STN['TIME']"
   ]
  },
  {
   "cell_type": "markdown",
   "metadata": {},
   "source": [
    "### Characterizing Time"
   ]
  },
  {
   "cell_type": "code",
   "execution_count": 46,
   "metadata": {},
   "outputs": [
    {
     "name": "stdout",
     "output_type": "stream",
     "text": [
      "[0, 1, 2, 3, 4, 5, 6, 7, 8, 9, 10]\n"
     ]
    }
   ],
   "source": [
    "H = max(TIME)\n",
    "print(TIME)"
   ]
  },
  {
   "cell_type": "markdown",
   "metadata": {
    "pycharm": {}
   },
   "source": [
    "### Characterizing Tasks"
   ]
  },
  {
   "cell_type": "code",
   "execution_count": 47,
   "metadata": {
    "pycharm": {},
    "tags": []
   },
   "outputs": [
    {
     "name": "stdout",
     "output_type": "stream",
     "text": [
      "TASK Separation   duration =  2.0\n",
      "     Input State Impure_E      rho =   1.0\n",
      "    Output State Int_AB        rho =   0.1   dur =   2.0\n",
      "    Output State Product_2     rho =   0.9   dur =   1.0\n",
      "            Unit Still        {'Bmin': 0, 'Bmax': 200, 'Cost': 1, 'vCost': 0, 'Tclean': 0}\n",
      "\n",
      "TASK Reaction_2   duration =  2.0\n",
      "     Input State Int_BC        rho =   0.6\n",
      "     Input State Hot_A         rho =   0.4\n",
      "    Output State Int_AB        rho =   0.6   dur =   2.0\n",
      "    Output State Product_1     rho =   0.4   dur =   2.0\n",
      "            Unit Reactor_2    {'Bmin': 0, 'Bmax': 80, 'Cost': 1, 'vCost': 0, 'Tclean': 0}\n",
      "            Unit Reactor_1    {'Bmin': 0, 'Bmax': 80, 'Cost': 1, 'vCost': 0, 'Tclean': 0}\n",
      "\n",
      "TASK Reaction_1   duration =  2.0\n",
      "     Input State Feed_C        rho =   0.5\n",
      "     Input State Feed_B        rho =   0.5\n",
      "    Output State Int_BC        rho =   1.0   dur =   2.0\n",
      "            Unit Reactor_2    {'Bmin': 0, 'Bmax': 80, 'Cost': 1, 'vCost': 0, 'Tclean': 0}\n",
      "            Unit Reactor_1    {'Bmin': 0, 'Bmax': 80, 'Cost': 1, 'vCost': 0, 'Tclean': 0}\n",
      "\n",
      "TASK Reaction_3   duration =  1.0\n",
      "     Input State Int_AB        rho =   0.8\n",
      "     Input State Feed_C        rho =   0.2\n",
      "    Output State Impure_E      rho =   1.0   dur =   1.0\n",
      "            Unit Reactor_2    {'Bmin': 0, 'Bmax': 80, 'Cost': 1, 'vCost': 0, 'Tclean': 0}\n",
      "            Unit Reactor_1    {'Bmin': 0, 'Bmax': 80, 'Cost': 1, 'vCost': 0, 'Tclean': 0}\n",
      "\n",
      "TASK Heating      duration =  1.0\n",
      "     Input State Feed_A        rho =   1.0\n",
      "    Output State Hot_A         rho =   1.0   dur =   1.0\n",
      "            Unit Heater       {'Bmin': 0, 'Bmax': 100, 'Cost': 1, 'vCost': 0, 'Tclean': 0}\n",
      "\n"
     ]
    }
   ],
   "source": [
    "# set of all tasks \n",
    "TASKS = set([i for (_, i) in UNIT_TASKS])\n",
    "\n",
    "# S[i] set of states which feed task i\n",
    "S = {i: set() for i in TASKS}\n",
    "for s, i in ST_ARCS:\n",
    "    S[i].add(s)\n",
    "\n",
    "# S_[i] set of states fed by task i\n",
    "S_ = {i: set() for i in TASKS}\n",
    "for i, s in TS_ARCS:\n",
    "    S_[i].add(s)\n",
    "\n",
    "# rho[(i, s)] input fraction of task i from state s\n",
    "rho = {(i, s): ST_ARCS[(s, i)]['rho'] for (s, i) in ST_ARCS}\n",
    "\n",
    "# rho_[(i,s)] output fraction of task i to state s\n",
    "rho_ = {(i, s): TS_ARCS[(i, s)]['rho'] for (i, s) in TS_ARCS}\n",
    "\n",
    "# P[(i,s)] time for task i output to state s \n",
    "P = {(i, s): TS_ARCS[(i, s)]['dur'] for (i, s) in TS_ARCS}  \n",
    "\n",
    "# p[i] completion time for task i\n",
    "p = {i: max([P[(i, s)] for s in S_[i]]) for i in TASKS}\n",
    "\n",
    "# K[i] set of units capable of task i\n",
    "K = {i: set() for i in TASKS}\n",
    "for (j, i) in UNIT_TASKS:\n",
    "    K[i].add(j) \n",
    "\n",
    "# verify\n",
    "for i in TASKS:\n",
    "    print(f\"TASK {i:10s}   duration = {p[i]:4.1f}\")\n",
    "    for s in S[i]:\n",
    "        print(f\"     Input State {s:10s}    rho = {rho[i, s]:5.1f}\")\n",
    "    for s in S_[i]:\n",
    "        print(f\"    Output State {s:10s}    rho = {rho_[i, s]:5.1f}   dur = {P[i, s]:5.1f}\")\n",
    "    for j in K[i]:\n",
    "        print(f\"            Unit {j:10s}   {UNIT_TASKS[(j, i)]}\")\n",
    "    print()"
   ]
  },
  {
   "cell_type": "markdown",
   "metadata": {
    "pycharm": {}
   },
   "source": [
    "### Characterizing States"
   ]
  },
  {
   "cell_type": "code",
   "execution_count": 48,
   "metadata": {
    "pycharm": {},
    "tags": []
   },
   "outputs": [
    {
     "name": "stdout",
     "output_type": "stream",
     "text": [
      "\n",
      "STATE Feed_A      capacity = 500.0  ic = 500.0  price =  0.00\n",
      "     Output to task Heating   \n",
      "\n",
      "STATE Feed_B      capacity = 500.0  ic = 500.0  price =  0.00\n",
      "     Output to task Reaction_1\n",
      "\n",
      "STATE Feed_C      capacity = 500.0  ic = 500.0  price =  0.00\n",
      "     Output to task Reaction_3\n",
      "     Output to task Reaction_1\n",
      "\n",
      "STATE Hot_A       capacity = 100.0  ic =   0.0  price = -10.00\n",
      "    Input from task Heating   \n",
      "     Output to task Reaction_2\n",
      "\n",
      "STATE Int_AB      capacity = 200.0  ic =   0.0  price = -10.00\n",
      "    Input from task Separation\n",
      "    Input from task Reaction_2\n",
      "     Output to task Reaction_3\n",
      "\n",
      "STATE Int_BC      capacity = 150.0  ic =   0.0  price = -10.00\n",
      "    Input from task Reaction_1\n",
      "     Output to task Reaction_2\n",
      "\n",
      "STATE Impure_E    capacity = 100.0  ic =   0.0  price = -10.00\n",
      "    Input from task Reaction_3\n",
      "     Output to task Separation\n",
      "\n",
      "STATE Product_1   capacity = 500.0  ic =   0.0  price = 10.00\n",
      "    Input from task Reaction_2\n",
      "\n",
      "STATE Product_2   capacity = 500.0  ic =   0.0  price = 1000.00\n",
      "    Input from task Separation\n"
     ]
    }
   ],
   "source": [
    "# T[s] set of tasks receiving material from state s \n",
    "T = {s: set() for s in STATES}\n",
    "for (s, i) in ST_ARCS:\n",
    "    T[s].add(i)\n",
    "\n",
    "# set of tasks producing material for state s\n",
    "T_ = {s: set() for s in STATES}\n",
    "for (i, s) in TS_ARCS:\n",
    "    T_[s].add(i)\n",
    "\n",
    "# C[s] storage capacity for state s\n",
    "C = {s: STATES[s]['capacity'] for s in STATES}\n",
    "\n",
    "# verify\n",
    "for s in STATES:\n",
    "    print(f\"\\nSTATE {s:10s}  capacity = {C[s]:5.1f}  ic = {STATES[s]['initial']:5.1f}  price = {STATES[s]['price']:5.2f}\")\n",
    "    for i in T_[s]:\n",
    "        print(f\"    Input from task {i:10s}\")\n",
    "    for i in T[s]:\n",
    "        print(f\"     Output to task {i:10s}\")\n"
   ]
  },
  {
   "cell_type": "markdown",
   "metadata": {
    "pycharm": {}
   },
   "source": [
    "### Characterizing the Processing Units"
   ]
  },
  {
   "cell_type": "code",
   "execution_count": 49,
   "metadata": {
    "pycharm": {},
    "tags": []
   },
   "outputs": [
    {
     "name": "stdout",
     "output_type": "stream",
     "text": [
      "\n",
      "UNIT Reactor_2 \n",
      "   TASK Reaction_3   Bmin =  0.00    Bmax =  80.0\n",
      "   TASK Reaction_2   Bmin =  0.00    Bmax =  80.0\n",
      "   TASK Reaction_1   Bmin =  0.00    Bmax =  80.0\n",
      "\n",
      "UNIT Reactor_1 \n",
      "   TASK Reaction_3   Bmin =  0.00    Bmax =  80.0\n",
      "   TASK Reaction_2   Bmin =  0.00    Bmax =  80.0\n",
      "   TASK Reaction_1   Bmin =  0.00    Bmax =  80.0\n",
      "\n",
      "UNIT Heater    \n",
      "   TASK Heating      Bmin =  0.00    Bmax = 100.0\n",
      "\n",
      "UNIT Still     \n",
      "   TASK Separation   Bmin =  0.00    Bmax = 200.0\n"
     ]
    }
   ],
   "source": [
    "# set of all units\n",
    "UNITS = set([j for (j, _) in UNIT_TASKS])\n",
    "\n",
    "# create indexed set where I[j] is the set of tasks performed with unit j\n",
    "I = {j: set() for j in UNITS}\n",
    "for (j, i) in UNIT_TASKS:\n",
    "    I[j].add(i)\n",
    "\n",
    "# Bmin[(i, j)] minimum capacity of unit j for task i\n",
    "Bmin = {(i, j): UNIT_TASKS[j, i]['Bmin'] for j, i in UNIT_TASKS}\n",
    "\n",
    "# Bmax[(i, j)] maximum capacity of unit j for task i\n",
    "Bmax = {(i, j): UNIT_TASKS[j, i]['Bmax'] for j, i in UNIT_TASKS}\n",
    "\n",
    "\n",
    "# verify\n",
    "for j in UNITS:\n",
    "    print(f\"\\nUNIT {j:10s}\")\n",
    "    for i in I[j]:\n",
    "        print(f\"   TASK {i:10s}   Bmin = {Bmin[i, j]:5.2f}    Bmax = {Bmax[i, j]:5.1f}\") \n",
    "        "
   ]
  },
  {
   "cell_type": "markdown",
   "metadata": {
    "pycharm": {}
   },
   "source": [
    "### Pyomo Model"
   ]
  },
  {
   "cell_type": "code",
   "execution_count": 50,
   "metadata": {
    "pycharm": {}
   },
   "outputs": [
    {
     "name": "stdout",
     "output_type": "stream",
     "text": [
      "# ==========================================================\n",
      "# = Solver Results                                         =\n",
      "# ==========================================================\n",
      "# ----------------------------------------------------------\n",
      "#   Problem Information\n",
      "# ----------------------------------------------------------\n",
      "Problem: \n",
      "- Name: unknown\n",
      "  Lower bound: 194457.66666667\n",
      "  Upper bound: 194457.66666667\n",
      "  Number of objectives: 1\n",
      "  Number of constraints: 123\n",
      "  Number of variables: 175\n",
      "  Number of binary variables: 88\n",
      "  Number of integer variables: 88\n",
      "  Number of nonzeros: 93\n",
      "  Sense: maximize\n",
      "# ----------------------------------------------------------\n",
      "#   Solver Information\n",
      "# ----------------------------------------------------------\n",
      "Solver: \n",
      "- Status: ok\n",
      "  User time: -1.0\n",
      "  System time: 0.26\n",
      "  Wallclock time: 0.33\n",
      "  Termination condition: optimal\n",
      "  Termination message: Model was solved to optimality (subject to tolerances), and an optimal solution is available.\n",
      "  Statistics: \n",
      "    Branch and bound: \n",
      "      Number of bounded subproblems: 0\n",
      "      Number of created subproblems: 0\n",
      "    Black box: \n",
      "      Number of iterations: 82\n",
      "  Error rc: 0\n",
      "  Time: 0.39389705657958984\n",
      "# ----------------------------------------------------------\n",
      "#   Solution Information\n",
      "# ----------------------------------------------------------\n",
      "Solution: \n",
      "- number of solutions: 0\n",
      "  number of solutions displayed: 0\n"
     ]
    }
   ],
   "source": [
    "m = ConcreteModel()\n",
    "\n",
    "# W[i, j, t] logical variable to start task i starts on unit j at time t\n",
    "m.W = Var(TASKS, UNITS, TIME, domain=Boolean)\n",
    "\n",
    "# B[i, j, t,] size of batch assigned to task i on unit j at time t\n",
    "m.B = Var(TASKS, UNITS, TIME, domain=NonNegativeReals)\n",
    "\n",
    "# S[s, t] inventory of state s from t to t+1\n",
    "m.S = Var(STATES.keys(), TIME, domain=NonNegativeReals)\n",
    "\n",
    "# Q[j,t] inventory of unit j from time t to t+1\n",
    "m.Q = Var(UNITS, TIME, domain=NonNegativeReals)           \n",
    "\n",
    "# Objective is to maximize the value of the final state (see Kondili, Sec. 5)\n",
    "\n",
    "@m.Expression()\n",
    "def value_of_states(m):\n",
    "    return sum([STATES[s]['price'] * m.S[s, H] for s in STATES])\n",
    "\n",
    "@m.Expression()\n",
    "def cost_of_operation(m):\n",
    "    return sum([UNIT_TASKS[j, i]['Cost'] * m.W[i, j, t] for i in TASKS for j in K[i] for t in TIME]) + \\\n",
    "           sum([UNIT_TASKS[j, i]['vCost'] * m.B[i, j, t] for i in TASKS for j in K[i] for t in TIME])\n",
    "\n",
    "@m.Objective(sense=maximize)\n",
    "def profit(m):\n",
    "    return m.value_of_states - m.cost_of_operation\n",
    "\n",
    "# state capacity constraint\n",
    "@m.Constraint(STATES, TIME)\n",
    "def state_capacity(m, s, t):\n",
    "    return m.S[s, t] <= C[s]\n",
    "\n",
    "# unit capacity constraints\n",
    "@m.Constraint(TASKS, UNITS, TIME)\n",
    "def unit_capacity_min(m, i, j, t):\n",
    "    if i in I[j]:\n",
    "        return m.B[i, j, t] >= m.W[i , j, t] * Bmin[i,j]\n",
    "    return Constraint.Skip\n",
    "\n",
    "@m.Constraint(TASKS, UNITS, TIME)\n",
    "def unit_capacity_max(m, i, j, t):\n",
    "    if i in I[j]:\n",
    "        return m.B[i, j, t] <= m.W[i,j,t] * Bmax[i,j]\n",
    "    return Constraint.Skip\n",
    "\n",
    "# constraint to avoid assigning j to more than one task at time t\n",
    "@m.Constraint(UNITS, TIME)\n",
    "def assignment(m, j, t):\n",
    "    return 1 >= sum(m.W[i, j, tp] for i in I[j] for tp in TIME if tp >= (t - p[i] + 1 - UNIT_TASKS[j, i]['Tclean']) and tp <= t)\n",
    "\n",
    "# mass balances on each state\n",
    "@m.Constraint(STATES, TIME)\n",
    "def state_balance(m, s, t):\n",
    "    mass_in = sum(rho_[i, s] * m.B[i, j, t - P[i, s]] for i in T_[s] for j in K[i] if t >= P[i, s])\n",
    "    mass_out = sum(rho[i, s] * m.B[i, j, t] for i in T[s] for j in K[i])\n",
    "    if t == TIME[0]:\n",
    "        return m.S[s, t] == STATES[s]['initial'] + mass_in - mass_out\n",
    "    return m.S[s, t] == m.S[s, t-1] + mass_in - mass_out\n",
    "\n",
    "# mass balance on each unit\n",
    "@m.Constraint(UNITS, TIME)\n",
    "def unit_balance(m, j, t):\n",
    "    mass_in = sum(m.B[i, j, t] for i in I[j])\n",
    "    mass_out = sum(rho_[i,s] * m.B[i, j, t - P[i,s]] for i in I[j] for s in S_[i] if t >= P[i,s])\n",
    "    if t == TIME[0]:\n",
    "        return m.Q[j, t] == mass_in - mass_out\n",
    "    return m.Q[j, t] == m.Q[j, t-1] + mass_in - mass_out\n",
    "\n",
    "@m.Constraint(UNITS)\n",
    "def terminal(m, j):\n",
    "    return m.Q[j, H] == 0\n",
    "\n",
    "SolverFactory('cbc').solve(m).write()\n"
   ]
  },
  {
   "cell_type": "code",
   "execution_count": 51,
   "metadata": {},
   "outputs": [
    {
     "name": "stdout",
     "output_type": "stream",
     "text": [
      "\n",
      "UNIT Heater     Start  Finish     Batch\n",
      "    Heating         1       2      64.0\n",
      "    Heating         4       5      42.7\n",
      "\n",
      "UNIT Reactor_1  Start  Finish     Batch\n",
      "    Reaction_1      0       2      80.0\n",
      "    Reaction_2      2       4      80.0\n",
      "    Reaction_3      4       5      40.0\n",
      "    Reaction_2      5       7      26.7\n",
      "    Reaction_3      7       8      15.0\n",
      "\n",
      "UNIT Reactor_2  Start  Finish     Batch\n",
      "    Reaction_1      0       2      80.0\n",
      "    Reaction_2      2       4      80.0\n",
      "    Reaction_3      4       5      80.0\n",
      "    Reaction_2      5       7      80.0\n",
      "    Reaction_3      7       8      80.0\n",
      "\n",
      "UNIT Still      Start  Finish     Batch\n",
      "    Separation      5       7     120.0\n",
      "    Separation      8      10      95.0\n"
     ]
    }
   ],
   "source": [
    "# Unit Schedules\n",
    "for j in sorted(UNITS):\n",
    "    print(f\"\\nUNIT {j:10s} Start  Finish     Batch\")\n",
    "    for t in TIME:\n",
    "        for i in TASKS:\n",
    "            if m.W[i, j, t]() is not None:\n",
    "                if m.W[i, j, t]() > 0.5: \n",
    "                    print(f\"    {i:10s}    {t:3d}     {t + p[i]:3d}     {m.B[i, j, t]():5.1f}\")"
   ]
  },
  {
   "cell_type": "code",
   "execution_count": 52,
   "metadata": {},
   "outputs": [
    {
     "name": "stdout",
     "output_type": "stream",
     "text": [
      "   Time       Heater  Reactor_1  Reactor_2     Still\n",
      "      0        0.0       80.0       80.0        0.0\n",
      "      1       64.0       80.0       80.0        0.0\n",
      "      2        0.0       80.0       80.0        0.0\n",
      "      3        0.0       80.0       80.0        0.0\n",
      "      4       42.7       40.0       80.0        0.0\n",
      "      5        0.0       26.7       80.0      120.0\n",
      "      6        0.0       26.7       80.0       12.0\n",
      "      7        0.0       15.0       80.0        0.0\n",
      "      8        0.0        0.0        0.0       95.0\n",
      "      9        0.0        0.0        0.0        9.5\n",
      "     10        0.0        0.0        0.0        0.0"
     ]
    }
   ],
   "source": [
    "print(\"   Time   \", end=\"\")\n",
    "for j in sorted(UNITS):\n",
    "    print(f\"  {j:>8s}\", end=\"\")\n",
    "for t in TIME:\n",
    "    print(f\"\\n    {t:3d}\", end=\"\")\n",
    "    for j in sorted(UNITS):\n",
    "        print(f\"      {m.Q[j, t]():5.1f}\", end=\"\")"
   ]
  },
  {
   "cell_type": "code",
   "execution_count": 53,
   "metadata": {
    "pycharm": {}
   },
   "outputs": [
    {
     "data": {
      "image/png": "[encoded data removed]",
      "text/plain": [
       "<Figure size 864x432 with 1 Axes>"
      ]
     },
     "metadata": {
      "filenames": {
       "image/png": "/Users/jeff/Google Drive/GitHub/cbe60455/_build/jupyter_execute/notebooks/03/07-State-Task-Networks_23_0.png"
      },
      "needs_background": "light"
     },
     "output_type": "display_data"
    }
   ],
   "source": [
    "import matplotlib.pyplot as plt\n",
    "\n",
    "fig, ax = plt.subplots(1, 1, figsize=(12, 6))\n",
    "\n",
    "gap = H/500\n",
    "idx = 1\n",
    "lbls = []\n",
    "ticks = []\n",
    "for j in sorted(UNITS):\n",
    "    idx -= 1\n",
    "    for i in sorted(I[j]):\n",
    "        idx -= 1\n",
    "        ticks.append(idx)\n",
    "        lbls.append(\"{0:s} -> {1:s}\".format(j,i))\n",
    "        ax.plot([0, H],[idx, idx], lw=20, alpha=.3, color='y')\n",
    "        for t in TIME:\n",
    "            if m.W[i, j, t]() > 0:\n",
    "                ax.plot([t + gap, t + p[i] - gap], [idx, idx], 'b', lw=20, solid_capstyle='butt')\n",
    "                txt = \"{0:.2f}\".format(m.B[i,j,t]())\n",
    "                ax.text(t + p[i]/2, idx, txt, color='white', weight='bold', ha='center', va='center')\n",
    "\n",
    "ax.set_xlim(0,H)\n",
    "ax.set_yticks(ticks)\n",
    "ax.set_yticklabels(lbls);"
   ]
  },
  {
   "cell_type": "code",
   "execution_count": 54,
   "metadata": {
    "pycharm": {}
   },
   "outputs": [
    {
     "ename": "AttributeError",
     "evalue": "'DataFrame' object has no attribute 'display'",
     "output_type": "error",
     "traceback": [
      "\u001b[0;31m---------------------------------------------------------------------------\u001b[0m",
      "\u001b[0;31mAttributeError\u001b[0m                            Traceback (most recent call last)",
      "Input \u001b[0;32mIn [54]\u001b[0m, in \u001b[0;36m<cell line: 3>\u001b[0;34m()\u001b[0m\n\u001b[1;32m      1\u001b[0m df \u001b[38;5;241m=\u001b[39m pd\u001b[38;5;241m.\u001b[39mDataFrame([[m\u001b[38;5;241m.\u001b[39mS[s,t]() \u001b[38;5;28;01mfor\u001b[39;00m s \u001b[38;5;129;01min\u001b[39;00m STATES] \u001b[38;5;28;01mfor\u001b[39;00m t \u001b[38;5;129;01min\u001b[39;00m TIME], columns \u001b[38;5;241m=\u001b[39m STATES, index \u001b[38;5;241m=\u001b[39m TIME)\n\u001b[1;32m      2\u001b[0m df \u001b[38;5;241m=\u001b[39m df\u001b[38;5;241m.\u001b[39msort_index()\n\u001b[0;32m----> 3\u001b[0m \u001b[43mdf\u001b[49m\u001b[38;5;241;43m.\u001b[39;49m\u001b[43mdisplay\u001b[49m()\n",
      "File \u001b[0;32m~/opt/anaconda3/lib/python3.9/site-packages/pandas/core/generic.py:5583\u001b[0m, in \u001b[0;36mNDFrame.__getattr__\u001b[0;34m(self, name)\u001b[0m\n\u001b[1;32m   5576\u001b[0m \u001b[38;5;28;01mif\u001b[39;00m (\n\u001b[1;32m   5577\u001b[0m     name \u001b[38;5;129;01mnot\u001b[39;00m \u001b[38;5;129;01min\u001b[39;00m \u001b[38;5;28mself\u001b[39m\u001b[38;5;241m.\u001b[39m_internal_names_set\n\u001b[1;32m   5578\u001b[0m     \u001b[38;5;129;01mand\u001b[39;00m name \u001b[38;5;129;01mnot\u001b[39;00m \u001b[38;5;129;01min\u001b[39;00m \u001b[38;5;28mself\u001b[39m\u001b[38;5;241m.\u001b[39m_metadata\n\u001b[1;32m   5579\u001b[0m     \u001b[38;5;129;01mand\u001b[39;00m name \u001b[38;5;129;01mnot\u001b[39;00m \u001b[38;5;129;01min\u001b[39;00m \u001b[38;5;28mself\u001b[39m\u001b[38;5;241m.\u001b[39m_accessors\n\u001b[1;32m   5580\u001b[0m     \u001b[38;5;129;01mand\u001b[39;00m \u001b[38;5;28mself\u001b[39m\u001b[38;5;241m.\u001b[39m_info_axis\u001b[38;5;241m.\u001b[39m_can_hold_identifiers_and_holds_name(name)\n\u001b[1;32m   5581\u001b[0m ):\n\u001b[1;32m   5582\u001b[0m     \u001b[38;5;28;01mreturn\u001b[39;00m \u001b[38;5;28mself\u001b[39m[name]\n\u001b[0;32m-> 5583\u001b[0m \u001b[38;5;28;01mreturn\u001b[39;00m \u001b[38;5;28;43mobject\u001b[39;49m\u001b[38;5;241;43m.\u001b[39;49m\u001b[38;5;21;43m__getattribute__\u001b[39;49m\u001b[43m(\u001b[49m\u001b[38;5;28;43mself\u001b[39;49m\u001b[43m,\u001b[49m\u001b[43m \u001b[49m\u001b[43mname\u001b[49m\u001b[43m)\u001b[49m\n",
      "\u001b[0;31mAttributeError\u001b[0m: 'DataFrame' object has no attribute 'display'"
     ]
    }
   ],
   "source": [
    "df = pd.DataFrame([[m.S[s,t]() for s in STATES] for t in TIME], columns = STATES, index = TIME)\n",
    "df = df.sort_index()\n",
    "df.display()"
   ]
  },
  {
   "cell_type": "markdown",
   "metadata": {
    "pycharm": {}
   },
   "source": [
    "import matplotlib.pyplot as plt\n",
    "import pandas as pd\n",
    "from IPython.display import display, HTML\n",
    "## Analysis"
   ]
  },
  {
   "cell_type": "code",
   "execution_count": 25,
   "metadata": {},
   "outputs": [],
   "source": [
    "import matplotlib.pyplot as plt\n",
    "import pandas as pd\n",
    "from IPython.display import display, HTML"
   ]
  },
  {
   "cell_type": "markdown",
   "metadata": {
    "pycharm": {}
   },
   "source": [
    "### Profitability\n",
    "\n"
   ]
  },
  {
   "cell_type": "code",
   "execution_count": 33,
   "metadata": {
    "pycharm": {}
   },
   "outputs": [
    {
     "name": "stdout",
     "output_type": "stream",
     "text": [
      "Value of State Inventories =      2906.67\n",
      "  Cost of Unit Assignments =        14.00\n",
      "             Net Objective =      2892.67\n"
     ]
    }
   ],
   "source": [
    "print(f\"Value of State Inventories = {m.value_of_states():12.2f}\")\n",
    "print(f\"  Cost of Unit Assignments = {m.cost_of_operation():12.2f}\")\n",
    "print(f\"             Net Objective = {m.value_of_states() - m.cost_of_operation():12.2f}\")"
   ]
  },
  {
   "cell_type": "markdown",
   "metadata": {
    "pycharm": {}
   },
   "source": [
    "### State Inventories"
   ]
  },
  {
   "cell_type": "code",
   "execution_count": 34,
   "metadata": {
    "pycharm": {}
   },
   "outputs": [
    {
     "data": {
      "text/html": [
       "<div>\n",
       "<style scoped>\n",
       "    .dataframe tbody tr th:only-of-type {\n",
       "        vertical-align: middle;\n",
       "    }\n",
       "\n",
       "    .dataframe tbody tr th {\n",
       "        vertical-align: top;\n",
       "    }\n",
       "\n",
       "    .dataframe thead th {\n",
       "        text-align: right;\n",
       "    }\n",
       "</style>\n",
       "<table border=\"1\" class=\"dataframe\">\n",
       "  <thead>\n",
       "    <tr style=\"text-align: right;\">\n",
       "      <th></th>\n",
       "      <th>Feed_A</th>\n",
       "      <th>Feed_B</th>\n",
       "      <th>Feed_C</th>\n",
       "      <th>Hot_A</th>\n",
       "      <th>Int_AB</th>\n",
       "      <th>Int_BC</th>\n",
       "      <th>Impure_E</th>\n",
       "      <th>Product_1</th>\n",
       "      <th>Product_2</th>\n",
       "    </tr>\n",
       "  </thead>\n",
       "  <tbody>\n",
       "    <tr>\n",
       "      <th>0</th>\n",
       "      <td>500.00000</td>\n",
       "      <td>420.0</td>\n",
       "      <td>420.0</td>\n",
       "      <td>0.0</td>\n",
       "      <td>0.0</td>\n",
       "      <td>0.0</td>\n",
       "      <td>0.0</td>\n",
       "      <td>0.00000</td>\n",
       "      <td>0.0</td>\n",
       "    </tr>\n",
       "    <tr>\n",
       "      <th>1</th>\n",
       "      <td>436.00000</td>\n",
       "      <td>420.0</td>\n",
       "      <td>420.0</td>\n",
       "      <td>0.0</td>\n",
       "      <td>0.0</td>\n",
       "      <td>0.0</td>\n",
       "      <td>0.0</td>\n",
       "      <td>0.00000</td>\n",
       "      <td>0.0</td>\n",
       "    </tr>\n",
       "    <tr>\n",
       "      <th>2</th>\n",
       "      <td>436.00000</td>\n",
       "      <td>420.0</td>\n",
       "      <td>420.0</td>\n",
       "      <td>0.0</td>\n",
       "      <td>0.0</td>\n",
       "      <td>64.0</td>\n",
       "      <td>0.0</td>\n",
       "      <td>0.00000</td>\n",
       "      <td>0.0</td>\n",
       "    </tr>\n",
       "    <tr>\n",
       "      <th>3</th>\n",
       "      <td>436.00000</td>\n",
       "      <td>420.0</td>\n",
       "      <td>420.0</td>\n",
       "      <td>0.0</td>\n",
       "      <td>0.0</td>\n",
       "      <td>64.0</td>\n",
       "      <td>0.0</td>\n",
       "      <td>0.00000</td>\n",
       "      <td>0.0</td>\n",
       "    </tr>\n",
       "    <tr>\n",
       "      <th>4</th>\n",
       "      <td>393.33333</td>\n",
       "      <td>420.0</td>\n",
       "      <td>396.0</td>\n",
       "      <td>0.0</td>\n",
       "      <td>0.0</td>\n",
       "      <td>64.0</td>\n",
       "      <td>0.0</td>\n",
       "      <td>64.00000</td>\n",
       "      <td>0.0</td>\n",
       "    </tr>\n",
       "    <tr>\n",
       "      <th>5</th>\n",
       "      <td>393.33333</td>\n",
       "      <td>420.0</td>\n",
       "      <td>396.0</td>\n",
       "      <td>0.0</td>\n",
       "      <td>0.0</td>\n",
       "      <td>0.0</td>\n",
       "      <td>0.0</td>\n",
       "      <td>64.00000</td>\n",
       "      <td>0.0</td>\n",
       "    </tr>\n",
       "    <tr>\n",
       "      <th>6</th>\n",
       "      <td>393.33333</td>\n",
       "      <td>420.0</td>\n",
       "      <td>396.0</td>\n",
       "      <td>0.0</td>\n",
       "      <td>0.0</td>\n",
       "      <td>0.0</td>\n",
       "      <td>0.0</td>\n",
       "      <td>64.00000</td>\n",
       "      <td>108.0</td>\n",
       "    </tr>\n",
       "    <tr>\n",
       "      <th>7</th>\n",
       "      <td>393.33333</td>\n",
       "      <td>420.0</td>\n",
       "      <td>377.0</td>\n",
       "      <td>0.0</td>\n",
       "      <td>0.0</td>\n",
       "      <td>0.0</td>\n",
       "      <td>0.0</td>\n",
       "      <td>106.66667</td>\n",
       "      <td>108.0</td>\n",
       "    </tr>\n",
       "    <tr>\n",
       "      <th>8</th>\n",
       "      <td>393.33333</td>\n",
       "      <td>420.0</td>\n",
       "      <td>377.0</td>\n",
       "      <td>0.0</td>\n",
       "      <td>0.0</td>\n",
       "      <td>0.0</td>\n",
       "      <td>0.0</td>\n",
       "      <td>106.66667</td>\n",
       "      <td>108.0</td>\n",
       "    </tr>\n",
       "    <tr>\n",
       "      <th>9</th>\n",
       "      <td>393.33333</td>\n",
       "      <td>420.0</td>\n",
       "      <td>377.0</td>\n",
       "      <td>0.0</td>\n",
       "      <td>0.0</td>\n",
       "      <td>0.0</td>\n",
       "      <td>0.0</td>\n",
       "      <td>106.66667</td>\n",
       "      <td>193.5</td>\n",
       "    </tr>\n",
       "    <tr>\n",
       "      <th>10</th>\n",
       "      <td>393.33333</td>\n",
       "      <td>420.0</td>\n",
       "      <td>377.0</td>\n",
       "      <td>0.0</td>\n",
       "      <td>9.5</td>\n",
       "      <td>0.0</td>\n",
       "      <td>0.0</td>\n",
       "      <td>106.66667</td>\n",
       "      <td>193.5</td>\n",
       "    </tr>\n",
       "  </tbody>\n",
       "</table>\n",
       "</div>"
      ],
      "text/plain": [
       "       Feed_A  Feed_B  Feed_C  Hot_A  Int_AB  Int_BC  Impure_E  Product_1  \\\n",
       "0   500.00000   420.0   420.0    0.0     0.0     0.0       0.0    0.00000   \n",
       "1   436.00000   420.0   420.0    0.0     0.0     0.0       0.0    0.00000   \n",
       "2   436.00000   420.0   420.0    0.0     0.0    64.0       0.0    0.00000   \n",
       "3   436.00000   420.0   420.0    0.0     0.0    64.0       0.0    0.00000   \n",
       "4   393.33333   420.0   396.0    0.0     0.0    64.0       0.0   64.00000   \n",
       "5   393.33333   420.0   396.0    0.0     0.0     0.0       0.0   64.00000   \n",
       "6   393.33333   420.0   396.0    0.0     0.0     0.0       0.0   64.00000   \n",
       "7   393.33333   420.0   377.0    0.0     0.0     0.0       0.0  106.66667   \n",
       "8   393.33333   420.0   377.0    0.0     0.0     0.0       0.0  106.66667   \n",
       "9   393.33333   420.0   377.0    0.0     0.0     0.0       0.0  106.66667   \n",
       "10  393.33333   420.0   377.0    0.0     9.5     0.0       0.0  106.66667   \n",
       "\n",
       "    Product_2  \n",
       "0         0.0  \n",
       "1         0.0  \n",
       "2         0.0  \n",
       "3         0.0  \n",
       "4         0.0  \n",
       "5         0.0  \n",
       "6       108.0  \n",
       "7       108.0  \n",
       "8       108.0  \n",
       "9       193.5  \n",
       "10      193.5  "
      ]
     },
     "execution_count": 34,
     "metadata": {},
     "output_type": "execute_result"
    }
   ],
   "source": [
    "df = pd.DataFrame([[m.S[s,t]() for s in STATES] for t in TIME], columns = STATES, index = TIME)\n",
    "df = df.sort_index()\n",
    "df"
   ]
  },
  {
   "cell_type": "code",
   "execution_count": 35,
   "metadata": {
    "pycharm": {}
   },
   "outputs": [
    {
     "data": {
      "image/png": "[encoded data removed]",
      "text/plain": [
       "<Figure size 720x432 with 9 Axes>"
      ]
     },
     "metadata": {
      "filenames": {
       "image/png": "/Users/jeff/Google Drive/GitHub/cbe60455/_build/jupyter_execute/notebooks/03/07-State-Task-Networks_31_0.png"
      },
      "needs_background": "light"
     },
     "output_type": "display_data"
    }
   ],
   "source": [
    "plt.figure(figsize=(10,6))\n",
    "for (s, idx) in zip(STATES, range(0, len(STATES))):\n",
    "    plt.subplot(ceil(len(STATES)/3), 3, idx+1)\n",
    "    tlast, ylast = 0, STATES[s]['initial']\n",
    "    for (t, y) in zip(list(TIME), [m.S[s,t]() for t in TIME]):\n",
    "        plt.plot([tlast, t, t], [ylast, ylast, y],'b')\n",
    "        tlast, ylast = t, y\n",
    "    plt.ylim(0, 1.1*C[s])\n",
    "    plt.plot([0, H], [C[s], C[s]],'r--')\n",
    "    plt.title(s)\n",
    "plt.tight_layout()"
   ]
  },
  {
   "cell_type": "markdown",
   "metadata": {
    "pycharm": {}
   },
   "source": [
    "### Unit Assignment"
   ]
  },
  {
   "cell_type": "code",
   "execution_count": 38,
   "metadata": {
    "pycharm": {}
   },
   "outputs": [
    {
     "data": {
      "text/html": [
       "<div>\n",
       "<style scoped>\n",
       "    .dataframe tbody tr th:only-of-type {\n",
       "        vertical-align: middle;\n",
       "    }\n",
       "\n",
       "    .dataframe tbody tr th {\n",
       "        vertical-align: top;\n",
       "    }\n",
       "\n",
       "    .dataframe thead th {\n",
       "        text-align: right;\n",
       "    }\n",
       "</style>\n",
       "<table border=\"1\" class=\"dataframe\">\n",
       "  <thead>\n",
       "    <tr style=\"text-align: right;\">\n",
       "      <th></th>\n",
       "      <th>Still</th>\n",
       "      <th>Reactor_1</th>\n",
       "      <th>Reactor_2</th>\n",
       "      <th>Heater</th>\n",
       "    </tr>\n",
       "  </thead>\n",
       "  <tbody>\n",
       "    <tr>\n",
       "      <th>0</th>\n",
       "      <td>None</td>\n",
       "      <td>(Reaction_1, 80.0)</td>\n",
       "      <td>(Reaction_1, 80.0)</td>\n",
       "      <td>None</td>\n",
       "    </tr>\n",
       "    <tr>\n",
       "      <th>1</th>\n",
       "      <td>None</td>\n",
       "      <td>None</td>\n",
       "      <td>None</td>\n",
       "      <td>(Heating, 64.0)</td>\n",
       "    </tr>\n",
       "    <tr>\n",
       "      <th>2</th>\n",
       "      <td>None</td>\n",
       "      <td>(Reaction_2, 80.0)</td>\n",
       "      <td>(Reaction_2, 80.0)</td>\n",
       "      <td>None</td>\n",
       "    </tr>\n",
       "    <tr>\n",
       "      <th>3</th>\n",
       "      <td>None</td>\n",
       "      <td>None</td>\n",
       "      <td>None</td>\n",
       "      <td>None</td>\n",
       "    </tr>\n",
       "    <tr>\n",
       "      <th>4</th>\n",
       "      <td>None</td>\n",
       "      <td>(Reaction_3, 40.0)</td>\n",
       "      <td>(Reaction_3, 80.0)</td>\n",
       "      <td>(Heating, 42.666667)</td>\n",
       "    </tr>\n",
       "    <tr>\n",
       "      <th>5</th>\n",
       "      <td>(Separation, 120.0)</td>\n",
       "      <td>(Reaction_2, 26.666667)</td>\n",
       "      <td>(Reaction_2, 80.0)</td>\n",
       "      <td>None</td>\n",
       "    </tr>\n",
       "    <tr>\n",
       "      <th>6</th>\n",
       "      <td>None</td>\n",
       "      <td>None</td>\n",
       "      <td>None</td>\n",
       "      <td>None</td>\n",
       "    </tr>\n",
       "    <tr>\n",
       "      <th>7</th>\n",
       "      <td>None</td>\n",
       "      <td>(Reaction_3, 15.0)</td>\n",
       "      <td>(Reaction_3, 80.0)</td>\n",
       "      <td>None</td>\n",
       "    </tr>\n",
       "    <tr>\n",
       "      <th>8</th>\n",
       "      <td>(Separation, 95.0)</td>\n",
       "      <td>None</td>\n",
       "      <td>None</td>\n",
       "      <td>None</td>\n",
       "    </tr>\n",
       "    <tr>\n",
       "      <th>9</th>\n",
       "      <td>None</td>\n",
       "      <td>None</td>\n",
       "      <td>None</td>\n",
       "      <td>None</td>\n",
       "    </tr>\n",
       "    <tr>\n",
       "      <th>10</th>\n",
       "      <td>None</td>\n",
       "      <td>None</td>\n",
       "      <td>None</td>\n",
       "      <td>None</td>\n",
       "    </tr>\n",
       "  </tbody>\n",
       "</table>\n",
       "</div>"
      ],
      "text/plain": [
       "                  Still                Reactor_1           Reactor_2  \\\n",
       "0                  None       (Reaction_1, 80.0)  (Reaction_1, 80.0)   \n",
       "1                  None                     None                None   \n",
       "2                  None       (Reaction_2, 80.0)  (Reaction_2, 80.0)   \n",
       "3                  None                     None                None   \n",
       "4                  None       (Reaction_3, 40.0)  (Reaction_3, 80.0)   \n",
       "5   (Separation, 120.0)  (Reaction_2, 26.666667)  (Reaction_2, 80.0)   \n",
       "6                  None                     None                None   \n",
       "7                  None       (Reaction_3, 15.0)  (Reaction_3, 80.0)   \n",
       "8    (Separation, 95.0)                     None                None   \n",
       "9                  None                     None                None   \n",
       "10                 None                     None                None   \n",
       "\n",
       "                  Heater  \n",
       "0                   None  \n",
       "1        (Heating, 64.0)  \n",
       "2                   None  \n",
       "3                   None  \n",
       "4   (Heating, 42.666667)  \n",
       "5                   None  \n",
       "6                   None  \n",
       "7                   None  \n",
       "8                   None  \n",
       "9                   None  \n",
       "10                  None  "
      ]
     },
     "execution_count": 38,
     "metadata": {},
     "output_type": "execute_result"
    }
   ],
   "source": [
    "UnitAssignment = pd.DataFrame({j:[None for t in TIME] for j in UNITS},index=TIME)\n",
    "\n",
    "for t in TIME:\n",
    "    for j in UNITS:\n",
    "        for i in I[j]:\n",
    "            for s in S_[i]:\n",
    "                if t-p[i] >= 0:\n",
    "                    if m.W[i, j, max(np.array(TIME)[np.array(TIME) <= t-p[i]])]() > 0:\n",
    "                        UnitAssignment.loc[t,j] = None               \n",
    "        for i in I[j]:\n",
    "            if m.W[i,j,t]() > 0:\n",
    "                UnitAssignment.loc[t,j] = (i, m.B[i,j,t]())\n",
    "\n",
    "UnitAssignment"
   ]
  },
  {
   "cell_type": "markdown",
   "metadata": {
    "pycharm": {}
   },
   "source": [
    "### Unit Batch Inventories"
   ]
  },
  {
   "cell_type": "code",
   "execution_count": 364,
   "metadata": {
    "pycharm": {}
   },
   "outputs": [
    {
     "data": {
      "text/html": [
       "<div>\n",
       "<style scoped>\n",
       "    .dataframe tbody tr th:only-of-type {\n",
       "        vertical-align: middle;\n",
       "    }\n",
       "\n",
       "    .dataframe tbody tr th {\n",
       "        vertical-align: top;\n",
       "    }\n",
       "\n",
       "    .dataframe thead th {\n",
       "        text-align: right;\n",
       "    }\n",
       "</style>\n",
       "<table border=\"1\" class=\"dataframe\">\n",
       "  <thead>\n",
       "    <tr style=\"text-align: right;\">\n",
       "      <th></th>\n",
       "      <th>Still</th>\n",
       "      <th>Heater</th>\n",
       "      <th>Reactor_2</th>\n",
       "      <th>Reactor_1</th>\n",
       "    </tr>\n",
       "  </thead>\n",
       "  <tbody>\n",
       "    <tr>\n",
       "      <th>0</th>\n",
       "      <td>0.0</td>\n",
       "      <td>96.0</td>\n",
       "      <td>80.0</td>\n",
       "      <td>80.0</td>\n",
       "    </tr>\n",
       "    <tr>\n",
       "      <th>1</th>\n",
       "      <td>0.0</td>\n",
       "      <td>0.0</td>\n",
       "      <td>80.0</td>\n",
       "      <td>80.0</td>\n",
       "    </tr>\n",
       "    <tr>\n",
       "      <th>2</th>\n",
       "      <td>0.0</td>\n",
       "      <td>0.0</td>\n",
       "      <td>80.0</td>\n",
       "      <td>80.0</td>\n",
       "    </tr>\n",
       "    <tr>\n",
       "      <th>3</th>\n",
       "      <td>0.0</td>\n",
       "      <td>64.0</td>\n",
       "      <td>160.0</td>\n",
       "      <td>160.0</td>\n",
       "    </tr>\n",
       "    <tr>\n",
       "      <th>4</th>\n",
       "      <td>0.0</td>\n",
       "      <td>0.0</td>\n",
       "      <td>160.0</td>\n",
       "      <td>80.0</td>\n",
       "    </tr>\n",
       "    <tr>\n",
       "      <th>5</th>\n",
       "      <td>80.0</td>\n",
       "      <td>0.0</td>\n",
       "      <td>80.0</td>\n",
       "      <td>80.0</td>\n",
       "    </tr>\n",
       "    <tr>\n",
       "      <th>6</th>\n",
       "      <td>8.0</td>\n",
       "      <td>0.0</td>\n",
       "      <td>80.0</td>\n",
       "      <td>160.0</td>\n",
       "    </tr>\n",
       "    <tr>\n",
       "      <th>7</th>\n",
       "      <td>0.0</td>\n",
       "      <td>0.0</td>\n",
       "      <td>80.0</td>\n",
       "      <td>40.0</td>\n",
       "    </tr>\n",
       "    <tr>\n",
       "      <th>8</th>\n",
       "      <td>200.0</td>\n",
       "      <td>0.0</td>\n",
       "      <td>0.0</td>\n",
       "      <td>0.0</td>\n",
       "    </tr>\n",
       "    <tr>\n",
       "      <th>9</th>\n",
       "      <td>20.0</td>\n",
       "      <td>0.0</td>\n",
       "      <td>0.0</td>\n",
       "      <td>0.0</td>\n",
       "    </tr>\n",
       "    <tr>\n",
       "      <th>10</th>\n",
       "      <td>0.0</td>\n",
       "      <td>0.0</td>\n",
       "      <td>0.0</td>\n",
       "      <td>0.0</td>\n",
       "    </tr>\n",
       "  </tbody>\n",
       "</table>\n",
       "</div>"
      ],
      "text/plain": [
       "    Still  Heater  Reactor_2  Reactor_1\n",
       "0     0.0    96.0       80.0       80.0\n",
       "1     0.0     0.0       80.0       80.0\n",
       "2     0.0     0.0       80.0       80.0\n",
       "3     0.0    64.0      160.0      160.0\n",
       "4     0.0     0.0      160.0       80.0\n",
       "5    80.0     0.0       80.0       80.0\n",
       "6     8.0     0.0       80.0      160.0\n",
       "7     0.0     0.0       80.0       40.0\n",
       "8   200.0     0.0        0.0        0.0\n",
       "9    20.0     0.0        0.0        0.0\n",
       "10    0.0     0.0        0.0        0.0"
      ]
     },
     "execution_count": 364,
     "metadata": {},
     "output_type": "execute_result"
    }
   ],
   "source": [
    "pd.DataFrame([[model.Q[j,t]() for j in UNITS] for t in TIME], columns = UNITS, index = TIME)"
   ]
  },
  {
   "cell_type": "markdown",
   "metadata": {
    "pycharm": {}
   },
   "source": [
    "### Gannt Chart"
   ]
  },
  {
   "cell_type": "code",
   "execution_count": 365,
   "metadata": {
    "pycharm": {}
   },
   "outputs": [
    {
     "data": {
      "image/png": "[encoded data removed]",
      "text/plain": [
       "<Figure size 864x432 with 1 Axes>"
      ]
     },
     "metadata": {
      "filenames": {
       "image/png": "/Users/jeff/Google Drive/GitHub/cbe60455/_build/jupyter_execute/notebooks/03/07-State-Task-Networks_37_0.png"
      },
      "needs_background": "light"
     },
     "output_type": "display_data"
    }
   ],
   "source": [
    "import matplotlib.pyplot as plt\n",
    "\n",
    "plt.figure(figsize=(12,6))\n",
    "\n",
    "gap = H/500\n",
    "idx = 1\n",
    "lbls = []\n",
    "ticks = []\n",
    "for j in sorted(UNITS):\n",
    "    idx -= 1\n",
    "    for i in sorted(I[j]):\n",
    "        idx -= 1\n",
    "        ticks.append(idx)\n",
    "        lbls.append(\"{0:s} -> {1:s}\".format(j,i))\n",
    "        plt.plot([0,H],[idx,idx],lw=20,alpha=.3,color='y')\n",
    "        for t in TIME:\n",
    "            if m.W[i,j,t]() > 0:\n",
    "                plt.plot([t+gap,t+p[i]-gap], [idx,idx],'b', lw=20, solid_capstyle='butt')\n",
    "                txt = \"{0:.2f}\".format(m.B[i,j,t]())\n",
    "                plt.text(t+p[i]/2, idx, txt, color='white', weight='bold', ha='center', va='center')\n",
    "plt.xlim(0,H)\n",
    "plt.gca().set_yticks(ticks)\n",
    "plt.gca().set_yticklabels(lbls);"
   ]
  },
  {
   "cell_type": "markdown",
   "metadata": {
    "pycharm": {}
   },
   "source": [
    "## Trace of Events and States"
   ]
  },
  {
   "cell_type": "code",
   "execution_count": 366,
   "metadata": {
    "pycharm": {}
   },
   "outputs": [
    {
     "name": "stdout",
     "output_type": "stream",
     "text": [
      "\n",
      "--------------------------------------------------------------------------------------------\n",
      "\n",
      "Starting Conditions\n",
      "    Initial Inventories:\n",
      "        Feed_A       500.0 kg\n",
      "        Feed_B       500.0 kg\n",
      "        Feed_C       500.0 kg\n",
      "        Hot_A          0.0 kg\n",
      "        Int_AB         0.0 kg\n",
      "        Int_BC         0.0 kg\n",
      "        Impure_E       0.0 kg\n",
      "        Product_1      0.0 kg\n",
      "        Product_2      0.0 kg\n",
      "\n",
      "--------------------------------------------------------------------------------------------\n",
      "\n",
      "Time = 0 hr\n",
      "    Instructions:\n",
      "        Assign Heater with capacity 100 kg to task Heating for 1 hours\n",
      "        Transfer 96.0 kg from Feed_A to Heater\n",
      "        Assign Reactor_2 with capacity 80 kg to task Reaction_1 for 2 hours\n",
      "        Transfer 40.0 kg from Feed_C to Reactor_2\n",
      "        Transfer 40.0 kg from Feed_B to Reactor_2\n",
      "        Assign Reactor_1 with capacity 80 kg to task Reaction_1 for 2 hours\n",
      "        Transfer 40.0 kg from Feed_C to Reactor_1\n",
      "        Transfer 40.0 kg from Feed_B to Reactor_1\n",
      "\n",
      "    Inventories are now:\n",
      "        Feed_A       404.0 kg\n",
      "        Feed_B       420.0 kg\n",
      "        Feed_C       420.0 kg\n",
      "        Hot_A          0.0 kg\n",
      "        Int_AB         0.0 kg\n",
      "        Int_BC         0.0 kg\n",
      "        Impure_E       0.0 kg\n",
      "        Product_1      0.0 kg\n",
      "        Product_2      0.0 kg\n",
      "\n",
      "    Unit Assignments are now:\n",
      "        Heater performs the Heating task with a 96.00 kg batch for hour 1.000000 of 1.000000\n",
      "        Reactor_2 performs the Reaction_1 task with a 80.00 kg batch for hour 1.000000 of 2.000000\n",
      "        Reactor_1 performs the Reaction_1 task with a 80.00 kg batch for hour 1.000000 of 2.000000\n",
      "\n",
      "--------------------------------------------------------------------------------------------\n",
      "\n",
      "Time = 1 hr\n",
      "    Instructions:\n"
     ]
    },
    {
     "ename": "TypeError",
     "evalue": "'<=' not supported between instances of 'list' and 'int'",
     "output_type": "error",
     "traceback": [
      "\u001b[0;31m---------------------------------------------------------------------------\u001b[0m",
      "\u001b[0;31mTypeError\u001b[0m                                 Traceback (most recent call last)",
      "Input \u001b[0;32mIn [366]\u001b[0m, in \u001b[0;36m<cell line: 10>\u001b[0;34m()\u001b[0m\n\u001b[1;32m     18\u001b[0m \u001b[38;5;28;01mfor\u001b[39;00m s \u001b[38;5;129;01min\u001b[39;00m S_[i]:\n\u001b[1;32m     19\u001b[0m     \u001b[38;5;28;01mif\u001b[39;00m t\u001b[38;5;241m-\u001b[39mP[(i,s)] \u001b[38;5;241m>\u001b[39m\u001b[38;5;241m=\u001b[39m \u001b[38;5;241m0\u001b[39m:\n\u001b[0;32m---> 20\u001b[0m         amt \u001b[38;5;241m=\u001b[39m rho_[(i,s)]\u001b[38;5;241m*\u001b[39mmodel\u001b[38;5;241m.\u001b[39mB[i,j,\u001b[38;5;28mmax\u001b[39m(TIME[\u001b[43mTIME\u001b[49m\u001b[43m \u001b[49m\u001b[38;5;241;43m<\u001b[39;49m\u001b[38;5;241;43m=\u001b[39;49m\u001b[43m \u001b[49m\u001b[43mt\u001b[49m\u001b[43m \u001b[49m\u001b[38;5;241;43m-\u001b[39;49m\u001b[43m \u001b[49m\u001b[43mP\u001b[49m\u001b[43m[\u001b[49m\u001b[43m(\u001b[49m\u001b[43mi\u001b[49m\u001b[43m,\u001b[49m\u001b[43ms\u001b[49m\u001b[43m)\u001b[49m\u001b[43m]\u001b[49m])]()\n\u001b[1;32m     21\u001b[0m         \u001b[38;5;28;01mif\u001b[39;00m amt \u001b[38;5;241m>\u001b[39m \u001b[38;5;241m0\u001b[39m:\n\u001b[1;32m     22\u001b[0m             \u001b[38;5;28mprint\u001b[39m(\u001b[38;5;124m\"\u001b[39m\u001b[38;5;124m        Transfer\u001b[39m\u001b[38;5;124m\"\u001b[39m, amt, \u001b[38;5;124m\"\u001b[39m\u001b[38;5;124mkg from\u001b[39m\u001b[38;5;124m\"\u001b[39m, j, \u001b[38;5;124m\"\u001b[39m\u001b[38;5;124mto\u001b[39m\u001b[38;5;124m\"\u001b[39m, s)\n",
      "\u001b[0;31mTypeError\u001b[0m: '<=' not supported between instances of 'list' and 'int'"
     ]
    }
   ],
   "source": [
    "sep = '\\n--------------------------------------------------------------------------------------------\\n'\n",
    "print(sep)\n",
    "print(\"Starting Conditions\")\n",
    "print(\"    Initial Inventories:\")            \n",
    "for s in STATES.keys():\n",
    "        print(\"        {0:10s}  {1:6.1f} kg\".format(s,STATES[s]['initial']))\n",
    "        \n",
    "units = {j:{'assignment':'None', 't':0} for j in UNITS}\n",
    "\n",
    "for t in TIME:\n",
    "    print(sep)\n",
    "    print(\"Time =\",t,\"hr\")\n",
    "    print(\"    Instructions:\")\n",
    "    for j in UNITS:\n",
    "        units[j]['t'] += 1\n",
    "        # transfer from unit to states\n",
    "        for i in I[j]:  \n",
    "            for s in S_[i]:\n",
    "                if t-P[(i,s)] >= 0:\n",
    "                    amt = rho_[(i,s)]*model.B[i,j,max(TIME[TIME <= t - P[(i,s)]])]()\n",
    "                    if amt > 0:\n",
    "                        print(\"        Transfer\", amt, \"kg from\", j, \"to\", s)\n",
    "    for j in UNITS:\n",
    "        # release units from tasks\n",
    "        for i in I[j]:\n",
    "            if t-p[i] >= 0:\n",
    "                if model.W[i,j,max(TIME[TIME <= t-p[i]])]() > 0:\n",
    "                    print(\"        Release\", j, \"from\", i)\n",
    "                    units[j]['assignment'] = 'None'\n",
    "                    units[j]['t'] = 0\n",
    "        # assign units to tasks             \n",
    "        for i in I[j]:\n",
    "            if model.W[i,j,t]() > 0:\n",
    "                print(\"        Assign\", j, \"with capacity\", Bmax[(i,j)], \"kg to task\",i,\"for\",p[i],\"hours\")\n",
    "                units[j]['assignment'] = i\n",
    "                units[j]['t'] = 1\n",
    "        # transfer from states to starting tasks\n",
    "        for i in I[j]:\n",
    "            for s in S[i]:\n",
    "                amt = rho[(i,s)]*model.B[i,j,t]()\n",
    "                if amt > 0:\n",
    "                    print(\"        Transfer\", amt,\"kg from\", s, \"to\", j)\n",
    "    print(\"\\n    Inventories are now:\")            \n",
    "    for s in STATES.keys():\n",
    "        print(\"        {0:10s}  {1:6.1f} kg\".format(s,model.S[s,t]()))\n",
    "    print(\"\\n    Unit Assignments are now:\")\n",
    "    for j in UNITS:\n",
    "        if units[j]['assignment'] != 'None':\n",
    "            fmt = \"        {0:s} performs the {1:s} task with a {2:.2f} kg batch for hour {3:f} of {4:f}\"\n",
    "            i = units[j]['assignment']\n",
    "            print(fmt.format(j,i,model.Q[j,t](),units[j]['t'],p[i]))\n",
    "            \n",
    "print(sep)\n",
    "print('Final Conditions')\n",
    "print(\"    Final Inventories:\")            \n",
    "for s in STATES.keys():\n",
    "        print(\"        {0:10s}  {1:6.1f} kg\".format(s,model.S[s,H]()))\n"
   ]
  },
  {
   "cell_type": "code",
   "execution_count": null,
   "metadata": {
    "collapsed": true,
    "jupyter": {
     "outputs_hidden": true
    },
    "pycharm": {}
   },
   "outputs": [],
   "source": []
  },
  {
   "cell_type": "code",
   "execution_count": null,
   "metadata": {},
   "outputs": [],
   "source": []
  }
 ],
 "metadata": {
  "kernelspec": {
   "display_name": "Python 3 (ipykernel)",
   "language": "python",
   "name": "python3"
  },
  "language_info": {
   "codemirror_mode": {
    "name": "ipython",
    "version": 3
   },
   "file_extension": ".py",
   "mimetype": "text/x-python",
   "name": "python",
   "nbconvert_exporter": "python",
   "pygments_lexer": "ipython3",
   "version": "3.9.7"
  }
 },
 "nbformat": 4,
 "nbformat_minor": 4
}