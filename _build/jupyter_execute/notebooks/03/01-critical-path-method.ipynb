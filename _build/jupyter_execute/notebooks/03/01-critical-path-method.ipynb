{
 "cells": [
  {
   "cell_type": "markdown",
   "metadata": {
    "pycharm": {}
   },
   "source": [
    "# Critical Path Method"
   ]
  },
  {
   "cell_type": "markdown",
   "metadata": {
    "pycharm": {}
   },
   "source": [
    "This notebook demonstrates the Critical Path Method."
   ]
  },
  {
   "cell_type": "markdown",
   "metadata": {
    "pycharm": {}
   },
   "source": [
    "## Background"
   ]
  },
  {
   "cell_type": "markdown",
   "metadata": {
    "pycharm": {}
   },
   "source": [
    "The Critical Path Method is a technique for calculating the shortest time span needed to complete a series of tasks. The tasks are represented by nodes, each labelled with the duration. The precedence order of the task is given by a set of arcs.\n",
    "\n",
    "Here we demonstrate the representation and calculation of the critical path. Decision variables are introduced for\n",
    "\n",
    "* Earliest Start\n",
    "* Earliest Finish\n",
    "* Latest Start\n",
    "* Latest Finish\n",
    "* Slack = Earliest Finish - Earliest Start = Latest Finish - Earliest Finish\n",
    "\n",
    "Tasks on the Critical Path have zero slack."
   ]
  },
  {
   "cell_type": "markdown",
   "metadata": {
    "pycharm": {}
   },
   "source": [
    "## Example: Stadium Construction"
   ]
  },
  {
   "cell_type": "markdown",
   "metadata": {
    "pycharm": {}
   },
   "source": [
    "Stadium Construction, [Example 7.1.1](http://www.maximalsoftware.com/modellib/modXpressMP.html) from [Christelle Gueret, Christian Prins, Marc Sevaux, \"Applications of Optimization with Xpress-MP,\" Chapter 7, Dash Optimization, 2000](http://citeseerx.ist.psu.edu/viewdoc/download?doi=10.1.1.69.9634&rep=rep1&type=pdf)."
   ]
  },
  {
   "cell_type": "code",
   "execution_count": 13,
   "metadata": {},
   "outputs": [],
   "source": [
    "tasks = {\n",
    "    \"T01\": {\"dur\":  2.0, \"desc\": \"Installing the contruction site\"},\n",
    "    \"T02\": {\"dur\": 16.0, \"desc\": \"Terracing\"},\n",
    "    \"T03\": {\"dur\":  9.0, \"desc\": \"Constructing the foundations\"},\n",
    "    \"T04\": {\"dur\":  8.0, \"desc\": \"Access roads and other networks\"},\n",
    "    \"T05\": {\"dur\": 10.0, \"desc\": \"Erecting the basement\"},\n",
    "    \"T06\": {\"dur\":  6.0, \"desc\": \"Main floor\"},\n",
    "    \"T07\": {\"dur\":  2.0, \"desc\": \"Dividing up the changing rooms\"},\n",
    "    \"T08\": {\"dur\":  2.0, \"desc\": \"Electrifying the terraces\"},\n",
    "    \"T09\": {\"dur\":  9.0, \"desc\": \"Constructing the roof\"},\n",
    "    \"T10\": {\"dur\":  5.0, \"desc\": \"Lighting the stadium\"},\n",
    "    \"T11\": {\"dur\":  3.0, \"desc\": \"Installing the terraces\"},\n",
    "    \"T12\": {\"dur\":  2.0, \"desc\": \"Sealing the roof\"},\n",
    "    \"T13\": {\"dur\":  1.0, \"desc\": \"Finishing the changing rooms\"},\n",
    "    \"T14\": {\"dur\":  7.0, \"desc\": \"Constructing the ticket office\"},\n",
    "    \"T15\": {\"dur\":  4.0, \"desc\": \"Secondary access roads\"},\n",
    "    \"T16\": {\"dur\":  3.0, \"desc\": \"Means of signaling\"},\n",
    "    \"T17\": {\"dur\":  9.0, \"desc\": \"Lawn and sports accessories\"},\n",
    "    \"T18\": {\"dur\":  1.0, \"desc\": \"Handing over the building\"}\n",
    "}\n",
    "\n",
    "pred = [\n",
    "    (\"T01\", \"T02\"),\n",
    "    (\"T02\", \"T03\"),\n",
    "    (\"T02\", \"T04\"),\n",
    "    (\"T02\", \"T14\"),\n",
    "    (\"T03\", \"T05\"),\n",
    "    (\"T04\", \"T07\"),\n",
    "    (\"T04\", \"T10\"),\n",
    "    (\"T04\", \"T09\"),\n",
    "    (\"T04\", \"T06\"),\n",
    "    (\"T04\", \"T15\"),\n",
    "    (\"T05\", \"T06\"),\n",
    "    (\"T06\", \"T09\"),\n",
    "    (\"T06\", \"T11\"),\n",
    "    (\"T06\", \"T08\"),\n",
    "    (\"T07\", \"T13\"),\n",
    "    (\"T08\", \"T16\"),\n",
    "    (\"T09\", \"T12\"),\n",
    "    (\"T11\", \"T16\"),\n",
    "    (\"T12\", \"T17\"),\n",
    "    (\"T14\", \"T16\"),\n",
    "    (\"T14\", \"T15\"),\n",
    "    (\"T17\", \"T18\")\n",
    "]"
   ]
  },
  {
   "cell_type": "code",
   "execution_count": 12,
   "metadata": {},
   "outputs": [
    {
     "name": "stdout",
     "output_type": "stream",
     "text": [
      "T01 T02\n",
      "T02 T03\n",
      "T02 T04\n",
      "T02 T14\n",
      "T03 T05\n",
      "T04 T07\n",
      "T04 T10\n",
      "T04 T09\n",
      "T04 T06\n",
      "T04 T15\n",
      "T05 T06\n",
      "T06 T09\n",
      "T06 T11\n",
      "T06 T08\n",
      "T07 T13\n",
      "T08 T16\n",
      "T09 T12\n",
      "T11 T16\n",
      "T12 T17\n",
      "T14 T16\n",
      "T14 T15\n",
      "T17 T18\n",
      "TASKS : Size=1, Index=None, Ordered=Insertion\n",
      "    Key  : Dimen : Domain : Size : Members\n",
      "    None :     1 :    Any :   18 : {'T01', 'T02', 'T03', 'T04', 'T05', 'T06', 'T07', 'T08', 'T09', 'T10', 'T11', 'T12', 'T13', 'T14', 'T15', 'T16', 'T17', 'T18'}\n",
      "ARCS : Size=1, Index=None, Ordered=Insertion\n",
      "    Key  : Dimen : Domain : Size : Members\n",
      "    None :     2 :    Any :   22 : {('T01', 'T02'), ('T02', 'T03'), ('T02', 'T04'), ('T02', 'T14'), ('T03', 'T05'), ('T04', 'T07'), ('T04', 'T10'), ('T04', 'T09'), ('T04', 'T06'), ('T04', 'T15'), ('T05', 'T06'), ('T06', 'T09'), ('T06', 'T11'), ('T06', 'T08'), ('T07', 'T13'), ('T08', 'T16'), ('T09', 'T12'), ('T11', 'T16'), ('T12', 'T17'), ('T14', 'T16'), ('T14', 'T15'), ('T17', 'T18')}\n"
     ]
    }
   ],
   "source": [
    "import pyomo.environ as pyo\n",
    "\n",
    "m = pyo.ConcreteModel()\n",
    "\n",
    "m.TASKS = pyo.Set(initialize=tasks.keys())\n",
    "m.ARCS = pyo.Set(initialize=pred)\n",
    "\n",
    "m.earliest_start = pyo.Var(m.TASKS, domain=pyo.NonNegaiveReals)\n",
    "m.latest_start = pyo.Var(m.TASKS, domain=pyo.NonNegaiveReals)\n",
    "m.earliest_finish = pyo.Var(m.TASKS, domain=pyo.NonNegaiveReals)\n",
    "m.latest_finish = pyo.Var(m.TASKS, domain=pyo.NonNegaiveReals)\n",
    "\n",
    "@m.Constraint(m.ARCS)\n",
    "def order(m, a, b):\n",
    "    print(a, b)\n",
    "    return m.earliest_start[b] >= m.earliest_finish[a]\n",
    "    \n",
    "\n",
    "\n",
    "m.TASKS.display()\n",
    "m.ARCS.display()"
   ]
  },
  {
   "cell_type": "code",
   "execution_count": 2,
   "metadata": {
    "collapsed": false,
    "jupyter": {
     "outputs_hidden": false
    },
    "pycharm": {}
   },
   "outputs": [],
   "source": [
    "%%script glpsol -m ProjectCPM.mod -d /dev/stdin -y ProjectCPM.txt --out output\n",
    "\n",
    "param : TASKS : dur desc :=\n",
    "   T01   2.0  'Installing the contruction site'\n",
    "   T02  16.0  'Terracing'\n",
    "   T03   9.0  'Constructing the foundations'\n",
    "   T04   8.0  'Access roads and other networks'\n",
    "   T05  10.0  'Erecting the basement'\n",
    "   T06   6.0  'Main floor'\n",
    "   T07   2.0  'Dividing up the changing rooms'\n",
    "   T08   2.0  'Electrifying the terraces'\n",
    "   T09   9.0  'Constructing the roof'\n",
    "   T10   5.0  'Lighting the stadium'\n",
    "   T11   3.0  'Installing the terraces'\n",
    "   T12   2.0  'Sealing the roof'\n",
    "   T13   1.0  'Finishing the changing rooms'\n",
    "   T14   7.0  'Constructing the ticket office'\n",
    "   T15   4.0  'Secondary access roads'\n",
    "   T16   3.0  'Means of signaling'\n",
    "   T17   9.0  'Lawn and sports accessories'\n",
    "   T18   1.0  'Handing over the building' ;\n",
    "\n",
    "set ARCS := \n",
    "   T01  T02\n",
    "   T02  T03\n",
    "   T02  T04\n",
    "   T02  T14\n",
    "   T03  T05\n",
    "   T04  T07\n",
    "   T04  T10\n",
    "   T04  T09\n",
    "   T04  T06\n",
    "   T04  T15\n",
    "   T05  T06\n",
    "   T06  T09\n",
    "   T06  T11\n",
    "   T06  T08\n",
    "   T07  T13\n",
    "   T08  T16\n",
    "   T09  T12\n",
    "   T11  T16\n",
    "   T12  T17\n",
    "   T14  T16\n",
    "   T14  T15\n",
    "   T17  T18 ;\n",
    "\n",
    "end;\n"
   ]
  },
  {
   "cell_type": "code",
   "execution_count": null,
   "metadata": {},
   "outputs": [],
   "source": []
  },
  {
   "cell_type": "code",
   "execution_count": 1,
   "metadata": {
    "collapsed": false,
    "jupyter": {
     "outputs_hidden": false
    },
    "pycharm": {}
   },
   "outputs": [
    {
     "name": "stdout",
     "output_type": "stream",
     "text": [
      "Overwriting ProjectCPM.mod\n"
     ]
    }
   ],
   "source": [
    "%%writefile ProjectCPM.mod\n",
    "\n",
    "# Example: ProjectCPM.mod\n",
    "\n",
    "set TASKS;\n",
    "set ARCS within {TASKS cross TASKS};\n",
    "\n",
    "/* Parameters are the durations for each task */\n",
    "param dur{TASKS} >= 0;\n",
    "param desc{TASKS} symbolic;\n",
    "\n",
    "/* Decision Variables associated with each task*/\n",
    "var Tes{TASKS} >= 0;     # Earliest Start\n",
    "var Tef{TASKS} >= 0;     # Earliest Finish\n",
    "var Tls{TASKS} >= 0;     # Latest Start\n",
    "var Tlf{TASKS} >= 0;     # Latest Finish\n",
    "var Tsl{TASKS} >= 0;     # Slacks\n",
    "\n",
    "/* Global finish time */\n",
    "var Tf >= 0;\n",
    "\n",
    "/* Minimize the global finish time and, secondarily, maximize slacks */\n",
    "minimize ProjectFinish : card(TASKS)*Tf - sum {j in TASKS} Tsl[j];\n",
    "\n",
    "/* Finish is the least upper bound on the finish time for all tasks */\n",
    "s.t. Efnsh {j in TASKS} : Tef[j] <= Tf;\n",
    "s.t. Lfnsh {j in TASKS} : Tlf[j] <= Tf;\n",
    "\n",
    "/* Relationship between start and finish times for each task */\n",
    "s.t. Estrt {j in TASKS} : Tef[j] = Tes[j] + dur[j];\n",
    "s.t. Lstrt {j in TASKS} : Tlf[j] = Tls[j] + dur[j];\n",
    "\n",
    "/* Slacks */\n",
    "s.t. Slack {j in TASKS} : Tsl[j] = Tls[j] - Tes[j];\n",
    "\n",
    "/* Task ordering */\n",
    "s.t. Eordr {(i,j) in ARCS} : Tef[i] <= Tes[j];\n",
    "s.t. Lordr {(j,k) in ARCS} : Tlf[j] <= Tls[k];\n",
    "\n",
    "/* Compute Solution  */\n",
    "solve;\n",
    "\n",
    "/* Print Report */\n",
    "printf 'PROJECT LENGTH = %8g\\n',Tf;\n",
    "\n",
    "/* Critical Tasks are those with zero slack */\n",
    "\n",
    "/* Rank-order tasks on the critical path by earliest start time */\n",
    "param r{j in TASKS : Tsl[j] = 0} := sum{k in TASKS : Tsl[k] = 0}\n",
    "   if (Tes[k] <= Tes[j]) then 1;\n",
    "\n",
    "printf '\\nCRITICAL PATH\\n';\n",
    "printf '  TASK  DUR    Start   Finish  Description\\n';\n",
    "printf {k in 1..card(TASKS), j in TASKS : Tsl[j]=0 && k==r[j]}\n",
    "   '%6s %4g %8g %8g  %-25s\\n', j, dur[j], Tes[j], Tef[j], desc[j];\n",
    "\n",
    "/* Noncritical Tasks have positive slack */\n",
    "\n",
    "/* Rank-order tasks not on the critical path by earliest start time */\n",
    "param s{j in TASKS : Tsl[j] > 0} := sum{k in TASKS : Tsl[k] = 0}\n",
    "   if (Tes[k] <= Tes[j]) then 1;\n",
    "\n",
    "printf '\\nNON-CRITICAL TASKS\\n';\n",
    "printf '            Earliest Earliest   Latest   Latest \\n';\n",
    "printf '  TASK  DUR    Start   Finish    Start   Finish    Slack  Description\\n';\n",
    "printf {k in 1..card(TASKS), j in TASKS : Tsl[j] > 0 && k==s[j]}\n",
    "   '%6s %4g %8g %8g %8g %8g %8g  %-25s\\n', \n",
    "   j,dur[j],Tes[j],Tef[j],Tls[j],Tlf[j],Tsl[j],desc[j];\n",
    "printf '\\n';\n",
    "\n",
    "end;\n"
   ]
  },
  {
   "cell_type": "code",
   "execution_count": 3,
   "metadata": {
    "collapsed": false,
    "jupyter": {
     "outputs_hidden": false
    },
    "pycharm": {}
   },
   "outputs": [
    {
     "name": "stdout",
     "output_type": "stream",
     "text": [
      "PROJECT LENGTH =       64\n",
      "\n",
      "CRITICAL PATH\n",
      "  TASK  DUR    Start   Finish  Description\n",
      "   T01    2        0        2  Installing the contruction site\n",
      "   T02   16        2       18  Terracing                \n",
      "   T03    9       18       27  Constructing the foundations\n",
      "   T05   10       27       37  Erecting the basement    \n",
      "   T06    6       37       43  Main floor               \n",
      "   T09    9       43       52  Constructing the roof    \n",
      "   T12    2       52       54  Sealing the roof         \n",
      "   T17    9       54       63  Lawn and sports accessories\n",
      "   T18    1       63       64  Handing over the building\n",
      "\n",
      "NON-CRITICAL TASKS\n",
      "            Earliest Earliest   Latest   Latest \n",
      "  TASK  DUR    Start   Finish    Start   Finish    Slack  Description\n",
      "   T04    8       18       26       29       37       11  Access roads and other networks\n",
      "   T07    2       26       28       61       63       35  Dividing up the changing rooms\n",
      "   T10    5       26       31       59       64       33  Lighting the stadium     \n",
      "   T14    7       18       25       53       60       35  Constructing the ticket office\n",
      "   T15    4       26       30       60       64       34  Secondary access roads   \n",
      "   T13    1       28       29       63       64       35  Finishing the changing rooms\n",
      "   T08    2       43       45       59       61       16  Electrifying the terraces\n",
      "   T11    3       43       46       58       61       15  Installing the terraces  \n",
      "   T16    3       46       49       61       64       15  Means of signaling       \n",
      "\n",
      "\n"
     ]
    }
   ],
   "source": [
    "f = open('ProjectCPM.txt')\n",
    "print f.read()\n",
    "f.close()"
   ]
  },
  {
   "cell_type": "markdown",
   "metadata": {
    "pycharm": {}
   },
   "source": [
    "## Visualization"
   ]
  },
  {
   "cell_type": "code",
   "execution_count": 5,
   "metadata": {
    "collapsed": false,
    "jupyter": {
     "outputs_hidden": false
    },
    "pycharm": {}
   },
   "outputs": [
    {
     "name": "stderr",
     "output_type": "stream",
     "text": [
      "/Users/jeff/anaconda/lib/python2.7/site-packages/matplotlib/collections.py:650: FutureWarning: elementwise comparison failed; returning scalar instead, but in the future will perform elementwise comparison\n",
      "  if self._edgecolors_original != str('face'):\n",
      "/Users/jeff/anaconda/lib/python2.7/site-packages/matplotlib/collections.py:590: FutureWarning: elementwise comparison failed; returning scalar instead, but in the future will perform elementwise comparison\n",
      "  if self._edgecolors == str('face'):\n"
     ]
    },
    {
     "data": {
      "image/png": "[encoded data removed]",
      "text/plain": [
       "<matplotlib.figure.Figure at 0x108cd9550>"
      ]
     },
     "metadata": {
      "filenames": {
       "image/png": "/Users/jeff/Google Drive/GitHub/cbe60455/_build/jupyter_execute/notebooks/03/01-critical-path-method_13_1.png"
      }
     },
     "output_type": "display_data"
    }
   ],
   "source": [
    "import networkx as nx\n",
    "import matplotlib.pyplot as plt\n",
    "%matplotlib inline\n",
    "\n",
    "G=nx.Graph()\n",
    "G.add_nodes_from(['T01','T02','T03','T04','T05','T06','T07','T08',\\\n",
    "    'T09','T10','T11','T12','T13','T14','T15','T16','T18'])\n",
    "\n",
    "G.add_edge('T01','T02')\n",
    "G.add_edge('T02','T03')\n",
    "G.add_edge('T02','T04')\n",
    "G.add_edge('T02','T14')\n",
    "G.add_edge('T03','T05')\n",
    "G.add_edge('T04','T07')\n",
    "G.add_edge('T04','T10')\n",
    "G.add_edge('T04','T09')\n",
    "G.add_edge('T04','T06')\n",
    "G.add_edge('T04','T15')\n",
    "G.add_edge('T05','T06')\n",
    "G.add_edge('T06','T09')\n",
    "G.add_edge('T06','T11')\n",
    "G.add_edge('T06','T08')\n",
    "G.add_edge('T07','T13')\n",
    "G.add_edge('T08','T16')\n",
    "G.add_edge('T09','T12')\n",
    "G.add_edge('T11','T16')\n",
    "G.add_edge('T12','T17')\n",
    "G.add_edge('T14','T16')\n",
    "G.add_edge('T14','T15')\n",
    "G.add_edge('T17','T18') ;\n",
    "\n",
    "nx.draw(G)\n",
    "plt.show()"
   ]
  },
  {
   "cell_type": "code",
   "execution_count": null,
   "metadata": {
    "collapsed": false,
    "jupyter": {
     "outputs_hidden": false
    },
    "pycharm": {}
   },
   "outputs": [],
   "source": []
  },
  {
   "cell_type": "code",
   "execution_count": null,
   "metadata": {
    "collapsed": true,
    "jupyter": {
     "outputs_hidden": true
    },
    "pycharm": {}
   },
   "outputs": [],
   "source": []
  },
  {
   "cell_type": "markdown",
   "metadata": {
    "pycharm": {}
   },
   "source": [
    "<!--NAVIGATION-->\n",
    "< [Scheduling](http://nbviewer.jupyter.org/github/jckantor/CBE40455/blob/master/notebooks/04.00-Scheduling.ipynb) | [Contents](toc.ipynb) | [Machine Bottleneck](http://nbviewer.jupyter.org/github/jckantor/CBE40455/blob/master/notebooks/04.02-Machine-Bottleneck.ipynb) ><p><a href=\"https://colab.research.google.com/github/jckantor/CBE40455/blob/master/notebooks/04.01-Critical-Path-Method.ipynb\"><img align=\"left\" src=\"https://colab.research.google.com/assets/colab-badge.svg\" alt=\"Open in Colab\" title=\"Open in Google Colaboratory\"></a><p><a href=\"https://raw.githubusercontent.com/jckantor/CBE40455/master/notebooks/04.01-Critical-Path-Method.ipynb\"><img align=\"left\" src=\"https://img.shields.io/badge/Github-Download-blue.svg\" alt=\"Download\" title=\"Download Notebook\"></a>"
   ]
  }
 ],
 "metadata": {
  "kernelspec": {
   "display_name": "Python 3 (ipykernel)",
   "language": "python",
   "name": "python3"
  },
  "language_info": {
   "codemirror_mode": {
    "name": "ipython",
    "version": 3
   },
   "file_extension": ".py",
   "mimetype": "text/x-python",
   "name": "python",
   "nbconvert_exporter": "python",
   "pygments_lexer": "ipython3",
   "version": "3.9.7"
  }
 },
 "nbformat": 4,
 "nbformat_minor": 4
}