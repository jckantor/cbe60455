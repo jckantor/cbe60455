{
 "cells": [
  {
   "cell_type": "markdown",
   "metadata": {
    "pycharm": {}
   },
   "source": [
    "# The Vendor Problem"
   ]
  },
  {
   "cell_type": "markdown",
   "metadata": {
    "pycharm": {}
   },
   "source": [
    "## Background\n",
    "\n",
    "We use the generic title \"Vendor Problem\" to refer to the classic [newsvendor problem or newsvendor model](https://en.wikipedia.org/wiki/Newsvendor_model). Vendor problems are straightforward examples of two stage decision problems where a decision must be made \"here and now\" to purchase a perishable items that will be resold later in a market with uncertain demand. If the vendor buys too much then there will be leftover goods sold for salvage value. But buy too little and the vendor leaves \"money on the table.\" The problem is to determine an order size that balances the vendor's economic risk and reward.\n",
    "\n",
    "The vendor problem appears in a wide range of applications including in media at [Time Magazine](https://pubsonline.informs.org/doi/abs/10.1287/inte.33.3.72.16010?journalCode=inte) and the [Yedioth Group](https://pubsonline.informs.org/doi/abs/10.1287/inte.2014.0759?journalCode=inte), manufacturing at [Intel](https://pubsonline.informs.org/doi/abs/10.1287/inte.1070.0339?journalCode=inte) and [Hitachi](https://pubsonline.informs.org/doi/abs/10.1287/inte.1070.0299?journalCode=inte), [supply chain optimization in online fashion e-commerce](https://arxiv.org/pdf/2007.02510.pdf), and [recycling/remanufacturing operations](https://econpapers.repec.org/bookchap/sprisochp/978-1-4614-3600-3_5f10.htm).\n",
    "\n",
    "Recent reviews of the vendor problem can be found in the following publications.\n",
    "\n",
    "* Petruzzi, N. C., & Dada, M. (1999). Pricing and the newsvendor problem: A review with extensions. Operations research, 47(2), 183-194. [doi](https://pubsonline.informs.org/doi/10.1287/opre.47.2.183)\n",
    "\n",
    "* Qin, Y., Wang, R., Vakharia, A. J., Chen, Y., & Seref, M. M. (2011). The newsvendor problem: Review and directions for future research. European Journal of Operational Research, 213(2), 361-374. [doi](https://doi.org/10.1016/j.ejor.2010.11.024)\n",
    "\n",
    "* Choi, T. M. (Ed.). (2012). Handbook of Newsvendor problems: Models, extensions and applications (Vol. 176). Springer Science & Business Media. [Springer](https://link.springer.com/book/10.1007/978-1-4614-3600-3)\n",
    "\n",
    "Daily life is replete with examples of the vendor problem. Stop a moment and think of a few before moving on."
   ]
  },
  {
   "cell_type": "markdown",
   "metadata": {
    "pycharm": {},
    "tags": []
   },
   "source": [
    "## Problem Data"
   ]
  },
  {
   "cell_type": "markdown",
   "metadata": {
    "pycharm": {}
   },
   "source": [
    "The vendor needs to decide how much inventory to order here and now to fulfill an uncertain future demand. The data includes the vendor's purchase cost $c$, the vendor's selling price $r$, and salvage/waste value $w$. The problem has meaning when these prices satisfy relationships\n",
    "\n",
    "$$ r \\geq c \\geq w$$\n",
    "\n",
    "The difference $(r - c)$ is the net profit earned per unit when there is sufficient customer demand, $(c - w)$ is the loss per unit for goods sold as waste or salvage. \n",
    "\n",
    "Consider, for example, a food truck that sells a single menu item at a price of 5&euro; for which the cost is 2&euro; per item sold, and could be sold out at discounted price of 1.25&euro; if demand is not sufficient at the original price. \n",
    "\n",
    "| | Symbol | Value |\n",
    "| :-- | :--: | :--: |\n",
    "| Retail price | $r$ | 5.00 | \n",
    "| Purchase cost | $c$ | 2.00 |\n",
    "| Waste/Salvage value | $w$ | 1.25 |"
   ]
  },
  {
   "cell_type": "code",
   "execution_count": 5,
   "metadata": {},
   "outputs": [],
   "source": [
    "# vendor parameter values\n",
    "r = 5\n",
    "c = 2\n",
    "w = 1.25"
   ]
  },
  {
   "cell_type": "markdown",
   "metadata": {
    "pycharm": {}
   },
   "source": [
    "## Demand Scenarios\n",
    "\n",
    "The first case we consider is a probabilistic demand forecast specified as a short list of scenarios.\n",
    "\n",
    "| Scenario <br> $s$ | Probability <br> $p_s$ | Demand <br> $D_s$ |\n",
    "| :--: | :--: | :--: |\n",
    "| A | 0.6 | 200 |\n",
    "| B | 0.3 | 100 |\n",
    "| C | 0.1 | 250 |"
   ]
  },
  {
   "cell_type": "code",
   "execution_count": 6,
   "metadata": {},
   "outputs": [
    {
     "data": {
      "text/html": [
       "<div>\n",
       "<style scoped>\n",
       "    .dataframe tbody tr th:only-of-type {\n",
       "        vertical-align: middle;\n",
       "    }\n",
       "\n",
       "    .dataframe tbody tr th {\n",
       "        vertical-align: top;\n",
       "    }\n",
       "\n",
       "    .dataframe thead th {\n",
       "        text-align: right;\n",
       "    }\n",
       "</style>\n",
       "<table border=\"1\" class=\"dataframe\">\n",
       "  <thead>\n",
       "    <tr style=\"text-align: right;\">\n",
       "      <th></th>\n",
       "      <th>probability</th>\n",
       "      <th>demand</th>\n",
       "    </tr>\n",
       "  </thead>\n",
       "  <tbody>\n",
       "    <tr>\n",
       "      <th>A</th>\n",
       "      <td>0.6</td>\n",
       "      <td>200.0</td>\n",
       "    </tr>\n",
       "    <tr>\n",
       "      <th>B</th>\n",
       "      <td>0.3</td>\n",
       "      <td>100.0</td>\n",
       "    </tr>\n",
       "    <tr>\n",
       "      <th>C</th>\n",
       "      <td>0.1</td>\n",
       "      <td>250.0</td>\n",
       "    </tr>\n",
       "  </tbody>\n",
       "</table>\n",
       "</div>"
      ],
      "text/plain": [
       "   probability  demand\n",
       "A          0.6   200.0\n",
       "B          0.3   100.0\n",
       "C          0.1   250.0"
      ]
     },
     "metadata": {},
     "output_type": "display_data"
    }
   ],
   "source": [
    "import numpy as np\n",
    "import pandas as pd\n",
    "\n",
    "scenarios = pd.DataFrame({\n",
    "    \"A\": {\"probability\": 0.6, \"demand\": 200},\n",
    "    \"B\": {\"probability\": 0.3, \"demand\": 100},\n",
    "    \"C\": {\"probability\": 0.1, \"demand\": 250},\n",
    "}).T\n",
    "\n",
    "display(scenarios)"
   ]
  },
  {
   "cell_type": "markdown",
   "metadata": {},
   "source": [
    "## Preliminary Calculations"
   ]
  },
  {
   "cell_type": "markdown",
   "metadata": {},
   "source": [
    "### Expected Value with Perfect Information (EV|PI)\n",
    "\n",
    "Imagine a situation where one could forecast future demand perfectly. Then for each scenario $s \\in S$, the order size would match demand $D_s$ producing a net profit $(r - c)D_s$ with probability $p_s$. The computing expected value then gives the **expected value of perfect information (EV|PI)**\n",
    "\n",
    "$$\n",
    "\\begin{align*}\n",
    "\\mathbb{E}[P|PI] & = \\sum_{s\\in S} p_s (r-c) D_s \\\\\n",
    "& = (r - c) \\sum_{s\\in S} p_s D_s \\\\\n",
    "\\\\\n",
    "\\implies \\mathbb{E}[P|PI] & = (r - c) \\mathbb{E}[D] \\\\\n",
    "\\end{align*}\n",
    "$$\n",
    "\n",
    "EVPI establishes an upper bound on the expected return."
   ]
  },
  {
   "cell_type": "code",
   "execution_count": 7,
   "metadata": {},
   "outputs": [
    {
     "name": "stdout",
     "output_type": "stream",
     "text": [
      "Expected Value of Perfect Information = 525.00\n"
     ]
    }
   ],
   "source": [
    "evpi = (r - c) * sum(scenarios[\"probability\"] * scenarios[\"demand\"])\n",
    "print(f\"Expected Value of Perfect Information = {evpi:0.2f}\")"
   ]
  },
  {
   "cell_type": "markdown",
   "metadata": {},
   "source": [
    "### Computing the Expected Value for fixed Order Size\n",
    "\n",
    "The key characteristic of the newsvendor problem is that one determines the order size $x$ without advance knowledge of which scenario will transpire. For scenarios $s\\in S$, the number of units sold at retail value is given by the smaller of the order size and demand.\n",
    "\n",
    "$$\n",
    "\\begin{align*}\n",
    "y_s & = \\min(x, D_s)\\\\\n",
    "\\end{align*}\n",
    "$$\n",
    "\n",
    "The salvage is the left over amount $x - y_s$ which be non-negative. The expected profit is then\n",
    "\n",
    "$$\n",
    "\\begin{align*}\n",
    "\\mathbb{E}[P|x] & = \\sum_{s\\in S} p_s \\left[ (r-c) y_s - (c - w) (x - y_s) \\right] \\\\\n",
    "& = \\sum_{s\\in S} p_s \\left[ (r-c) y_s + (c - w) y_s - (c - w) x \\right] \\\\\n",
    "& = \\sum_{s\\in S} p_s \\left[ (r-w) y_s - (c - w) x \\right] \\\\\n",
    "& = (r - w) \\sum_{s\\in S} p_s y_s  - (c - w) x \\\\\n",
    "\\\\\n",
    "\\implies \\mathbb{E}[P|x] & = (r - w) \\mathbb{E}[y] - (c - w) x \\\\\n",
    "\\\\\n",
    "\\implies \\mathbb{E}[P|x] & = (r - w) \\mathbb{E}[\\min(x, D)] - (c - w) x \\\\\n",
    "\\end{align*}\n",
    "$$"
   ]
  },
  {
   "cell_type": "code",
   "execution_count": 8,
   "metadata": {},
   "outputs": [],
   "source": [
    "def expected_profit(x, scenarios):\n",
    "    D = scenarios[\"demand\"]\n",
    "    p = scenarios[\"probability\"]\n",
    "    y = np.minimum(x, D)    \n",
    "    return  (r - w)*sum(p*y) - (c - w)*x"
   ]
  },
  {
   "cell_type": "markdown",
   "metadata": {},
   "source": [
    "### Expected Value of the Mean Demand\n",
    "\n",
    "A common answer to the question of how much to order is to order the expected demand. \n",
    "\n",
    "$$\\bar{D} = \\mathbb{E}[D] = \\sum_{s\\in S} p_s D_s$$\n",
    "\n",
    "The is call the **expected value for the mean demand (EV|MD)** which\n",
    "\n",
    "$$\\mathbb{E}[P|x = \\bar{D}] = (r - w) \\mathbb{E}[\\min(\\bar{D}, D)] - (c - w) \\bar{D} $$"
   ]
  },
  {
   "cell_type": "code",
   "execution_count": 9,
   "metadata": {},
   "outputs": [
    {
     "name": "stdout",
     "output_type": "stream",
     "text": [
      "mean demand = 175.0\n",
      "expected profit for the mean demand = 440.625\n"
     ]
    }
   ],
   "source": [
    "D = sum(scenarios[\"probability\"] * scenarios[\"demand\"])\n",
    "print(f\"mean demand = {D}\")\n",
    "\n",
    "evmd = expected_profit(D, scenarios)\n",
    "print(f\"expected profit for the mean demand = {evmd}\")"
   ]
  },
  {
   "cell_type": "markdown",
   "metadata": {},
   "source": [
    "## Maximizing the Expected Value\n",
    "\n",
    "The objective is to maximize expected profit. Let's plot the expected value as a function of the decision variable $x$."
   ]
  },
  {
   "cell_type": "code",
   "execution_count": 37,
   "metadata": {},
   "outputs": [
    {
     "data": {
      "text/plain": [
       "<matplotlib.legend.Legend at 0x7fc8c6860ca0>"
      ]
     },
     "execution_count": 37,
     "metadata": {},
     "output_type": "execute_result"
    },
    {
     "data": {
      "image/png": "[encoded data removed]",
      "text/plain": [
       "<Figure size 864x360 with 1 Axes>"
      ]
     },
     "metadata": {
      "filenames": {
       "image/png": "/Users/jeff/Google Drive/GitHub/cbe60455/_build/jupyter_execute/notebooks/04/vendor-problem_15_1.png"
      },
      "needs_background": "light"
     },
     "output_type": "display_data"
    }
   ],
   "source": [
    "import matplotlib.pyplot as plt\n",
    "\n",
    "def vendor_plot(r, c, w, scenarios):\n",
    "    x = np.linspace(0, 1.2 * scenarios[\"demand\"].max(), 1000)\n",
    "    ev = [expected_profit(x, scenarios) for x in x]\n",
    "\n",
    "    fig, ax = plt.subplots(1, 1, figsize=(12, 5))\n",
    "    ax.plot(x, ev, lw=3, label=\"expected value\")\n",
    "    ax.plot([0, 300], [evpi, evpi], 'k--', label=\"evpi: perfect information\")\n",
    "    ax.plot([0, 300], [evmd, evmd], 'g--', label=\"evmd: mean demand\")\n",
    "    ax.plot([D, D], [0, 600], 'g--', label=\"mean demand\")\n",
    "    ax.set_xlabel(\"Order Size\")\n",
    "    ax.set_ylabel(\"Expected Profit\")\n",
    "    ax.grid(True)\n",
    "    ax.legend()\n",
    "    return ax\n",
    "\n",
    "ax = vendor_plot(r, c, w, scenarios);\n",
    "ax.plot(D, evmd, 'b.', ms=20, label=\"evdm\")\n",
    "ax.legend()"
   ]
  },
  {
   "cell_type": "markdown",
   "metadata": {
    "tags": []
   },
   "source": [
    "## Pyomo Model for the Stochastic Solution\n",
    "\n",
    "An optimization model to find the maximum expected value can be constructed from the following formulation.\n",
    "\n",
    "$$\n",
    "\\begin{align*}\n",
    "\\max_{x \\geq 0, y_s\\geq 0}\\; & \\mathbb{E}[P] = \\sum_{s\\in S} p_s P_s \\\\\n",
    "\\\\\n",
    "\\text{s.t.}\\quad & P_s = \\left[ (r-w) y_s - (c - w) x \\right] & \\forall s\\in S \\\\\n",
    "& y_s \\leq x & \\forall s\\in S\\\\\n",
    "& y_s \\leq D_s & \\forall s\\in S\\\\\n",
    "\\end{align*}\n",
    "$$\n",
    "\n",
    "We include the profit for each scenario, $P_s$,  in the model formulation to investigate the economic risk associated with solutions to this model."
   ]
  },
  {
   "cell_type": "code",
   "execution_count": 13,
   "metadata": {},
   "outputs": [
    {
     "name": "stdout",
     "output_type": "stream",
     "text": [
      "expected_profit_obj : Size=1, Index=None, Active=True\n",
      "    Key  : Active : Value\n",
      "    None :   True : 487.5\n",
      "x : Size=1, Index=None\n",
      "    Key  : Lower : Value : Upper : Fixed : Stale : Domain\n",
      "    None :     0 : 200.0 :  None : False : False : NonNegativeReals\n",
      "y : Size=3, Index=S\n",
      "    Key : Lower : Value : Upper : Fixed : Stale : Domain\n",
      "      A :     0 : 200.0 :  None : False : False : NonNegativeReals\n",
      "      B :     0 : 100.0 :  None : False : False : NonNegativeReals\n",
      "      C :     0 : 200.0 :  None : False : False : NonNegativeReals\n"
     ]
    }
   ],
   "source": [
    "import pyomo.environ as pyo\n",
    "\n",
    "def vendor_model(r, c, w, scenarios):\n",
    "    \n",
    "    m = pyo.ConcreteModel()\n",
    "\n",
    "    # price parameters\n",
    "    m.r = pyo.Param(domain=pyo.NonNegativeReals, initialize=r)\n",
    "    m.c = pyo.Param(domain=pyo.NonNegativeReals, initialize=c)\n",
    "    m.w = pyo.Param(domain=pyo.NonNegativeReals, initialize=w)\n",
    "\n",
    "    assert m.c <= m.r\n",
    "    assert m.w <= m.c\n",
    "\n",
    "    # scenario information\n",
    "    m.S = pyo.Set(initialize=scenarios.index)\n",
    "    m.d = pyo.Param(m.S, initialize=scenarios[\"demand\"])\n",
    "    m.p = pyo.Param(m.S, initialize=scenarios[\"probability\"])\n",
    "\n",
    "    assert abs(sum(m.p[s] for s in m.S) - 1) <= 0.0001\n",
    "\n",
    "    # decision variables\n",
    "    m.x = pyo.Var(domain=pyo.NonNegativeReals)\n",
    "    m.y = pyo.Var(m.S, domain=pyo.NonNegativeReals)\n",
    "\n",
    "    # Expression for profit\n",
    "    @m.Expression(m.S)\n",
    "    def profit(m, s):\n",
    "        return (m.r - m.w)*m.y[s] - (m.c - m.w)*m.x\n",
    "\n",
    "    # Objective\n",
    "    @m.Objective(sense=pyo.maximize)\n",
    "    def expected_profit_obj(m):\n",
    "        return sum(m.p[s] * m.profit[s] for s in m.S)\n",
    "\n",
    "    @m.Constraint(m.S)\n",
    "    def demand_bound(m, s):\n",
    "        return m.y[s] <= m.d[s]\n",
    "\n",
    "    @m.Constraint(m.S)\n",
    "    def sales_bound(m, s):\n",
    "        return m.y[s] <= m.x\n",
    "\n",
    "    pyo.SolverFactory('cbc').solve(m)\n",
    "    \n",
    "    return m\n",
    "\n",
    "m = vendor_model(r, c, w, scenarios)\n",
    "m.expected_profit_obj.display()\n",
    "m.x.display()\n",
    "m.y.display()\n"
   ]
  },
  {
   "cell_type": "code",
   "execution_count": 14,
   "metadata": {},
   "outputs": [
    {
     "data": {
      "text/plain": [
       "<matplotlib.legend.Legend at 0x7fc8c4cf6f10>"
      ]
     },
     "execution_count": 14,
     "metadata": {},
     "output_type": "execute_result"
    },
    {
     "data": {
      "image/png": "[encoded data removed]",
      "text/plain": [
       "<Figure size 864x360 with 1 Axes>"
      ]
     },
     "metadata": {
      "filenames": {
       "image/png": "/Users/jeff/Google Drive/GitHub/cbe60455/_build/jupyter_execute/notebooks/04/vendor-problem_18_1.png"
      },
      "needs_background": "light"
     },
     "output_type": "display_data"
    }
   ],
   "source": [
    "ax = vendor_plot(r, c, w, scenarios)\n",
    "ax.plot(m.x(), m.expected_profit_obj(), 'r.', ms=20, label=\"stochastic solution\")\n",
    "ax.legend()"
   ]
  },
  {
   "cell_type": "markdown",
   "metadata": {},
   "source": [
    "## Analytical Solution\n",
    "\n",
    "Virtually every two-stage stochastic programs will require a numerical solution using an optimization code. The newsvendor problem, however, is amenable to analytical solution which is included here for the great insight that it gives into the relationship between economic return, risk, and demand forecasting."
   ]
  },
  {
   "cell_type": "markdown",
   "metadata": {},
   "source": [
    "### Maximum Expected Value for Continuous Distributions\n",
    "\n",
    "The case of continuous distributions can be handled analytically with basic calculus. Let $p(D)$ be the continuous probability density function for demand.\n",
    "\n",
    "$$\n",
    "\\begin{align*}\n",
    "\\mathbb{E}[P|x] & = (r - w) \\mathbb{E}[\\min(x, D)] - (c - w) x \\\\\n",
    "& = (r - w)\\int_0^\\infty p(D) \\min(x, D)\\,dD - (c - w)x \\\\\n",
    "\\end{align*}\n",
    "$$\n",
    "\n",
    "The integral can be broken into two domains $[0, x)$ and $[x, \\infty)$\n",
    "\n",
    "$$\n",
    "\\begin{align*}\n",
    "\\mathbb{E}[P|x] & = (r - w)\\int_0^x p(D) D\\,dD + (r - w) x \\int_x^\\infty p(D) \\,dD - (c - w)x \n",
    "\\end{align*}\n",
    "$$\n",
    "\n",
    "The unconstrained maximum is found by finding values $x$ for the which the first derivative evaluates to zero.\n",
    "\n",
    "$$\n",
    "\\begin{align*}\n",
    "\\left.\\frac{\\partial \\mathbb{E}[P|x]}{\\partial x}\\right|_{x^{opt}} & = (r - w) p(x) + (r - w)\\int_x^\\infty p(D) \\,dD - (r - w) x p(x) - (c - w) = 0 \\\\\n",
    "\\end{align*}\n",
    "$$\n",
    "\n",
    "which reduces to\n",
    "\n",
    "$$\n",
    "\\begin{align*}\n",
    "(r - w) \\int_{x^{opt}}^\\infty p(D) \\,dD - (c - w) & = 0\n",
    "\\end{align*}\n",
    "$$\n",
    "\n",
    "$F(x) = \\int_0^x p(D)\\,dD$ is the cumulative distribution function. solving for a root\n",
    "\n",
    "$$\n",
    "\\begin{align*}\n",
    "(r - w)(1 - F(x^{opt})) - (c - w) & = 0 \\\\\n",
    "(r - c) & = (r - w) F(x^{opt}) \\\\\n",
    "\\\\\n",
    "\\implies x^{opt} = F^{-1}\\left(\\frac{r-c}{r-w}\\right)\n",
    "\\end{align*}\n",
    "$$\n",
    "\n",
    "where $x = F^{-1}(q)$ is the quantile function that returns the value of a random variable associated with the $q^{th}$ quantile of the cumulative distribution function where $q = F(x)$"
   ]
  },
  {
   "cell_type": "markdown",
   "metadata": {},
   "source": [
    "## Discrete Distribution\n",
    "\n",
    "Let's apply the continuous probability analysis to the discrete case. We first compute the quantile $q = \\frac{r-c}{r-w}$"
   ]
  },
  {
   "cell_type": "code",
   "execution_count": 15,
   "metadata": {},
   "outputs": [
    {
     "name": "stdout",
     "output_type": "stream",
     "text": [
      "quantile = 0.8\n"
     ]
    }
   ],
   "source": [
    "q = (r - c)/(r - w)\n",
    "print(f\"quantile = {q}\")"
   ]
  },
  {
   "cell_type": "markdown",
   "metadata": {},
   "source": [
    "Next we compute the cumulative distribution function."
   ]
  },
  {
   "cell_type": "code",
   "execution_count": 16,
   "metadata": {},
   "outputs": [
    {
     "data": {
      "text/html": [
       "<div>\n",
       "<style scoped>\n",
       "    .dataframe tbody tr th:only-of-type {\n",
       "        vertical-align: middle;\n",
       "    }\n",
       "\n",
       "    .dataframe tbody tr th {\n",
       "        vertical-align: top;\n",
       "    }\n",
       "\n",
       "    .dataframe thead th {\n",
       "        text-align: right;\n",
       "    }\n",
       "</style>\n",
       "<table border=\"1\" class=\"dataframe\">\n",
       "  <thead>\n",
       "    <tr style=\"text-align: right;\">\n",
       "      <th></th>\n",
       "      <th>probability</th>\n",
       "      <th>demand</th>\n",
       "      <th>cdf</th>\n",
       "    </tr>\n",
       "  </thead>\n",
       "  <tbody>\n",
       "    <tr>\n",
       "      <th>B</th>\n",
       "      <td>0.3</td>\n",
       "      <td>100.0</td>\n",
       "      <td>0.3</td>\n",
       "    </tr>\n",
       "    <tr>\n",
       "      <th>A</th>\n",
       "      <td>0.6</td>\n",
       "      <td>200.0</td>\n",
       "      <td>0.9</td>\n",
       "    </tr>\n",
       "    <tr>\n",
       "      <th>C</th>\n",
       "      <td>0.1</td>\n",
       "      <td>250.0</td>\n",
       "      <td>1.0</td>\n",
       "    </tr>\n",
       "  </tbody>\n",
       "</table>\n",
       "</div>"
      ],
      "text/plain": [
       "   probability  demand  cdf\n",
       "B          0.3   100.0  0.3\n",
       "A          0.6   200.0  0.9\n",
       "C          0.1   250.0  1.0"
      ]
     },
     "metadata": {},
     "output_type": "display_data"
    },
    {
     "name": "stdout",
     "output_type": "stream",
     "text": [
      "optimal order = 200.0\n"
     ]
    },
    {
     "data": {
      "image/png": "[encoded data removed]",
      "text/plain": [
       "<Figure size 432x288 with 1 Axes>"
      ]
     },
     "metadata": {
      "filenames": {
       "image/png": "/Users/jeff/Google Drive/GitHub/cbe60455/_build/jupyter_execute/notebooks/04/vendor-problem_24_2.png"
      },
      "needs_background": "light"
     },
     "output_type": "display_data"
    }
   ],
   "source": [
    "# compute the cumulative distribution function\n",
    "scenarios = scenarios.sort_values(\"demand\")\n",
    "scenarios[\"cdf\"] = scenarios[\"probability\"].cumsum()\n",
    "display(scenarios)\n",
    "\n",
    "# plot and look up the optimal order size\n",
    "ax = scenarios.plot(x=\"demand\", y=\"cdf\", drawstyle=\"steps-post\", grid=True)\n",
    "ax.plot(ax.get_xlim(), [q, q])\n",
    "ax.set_ylim(0, 1)\n",
    "\n",
    "from scipy.interpolate import interp1d\n",
    "Finv = interp1d(np.array(scenarios[\"cdf\"]), np.array(scenarios[\"demand\"]), kind=\"next\")\n",
    "ax.plot(Finv(q), q, 'r.', ms=20)\n",
    "print(f\"optimal order = {Finv(q):0.1f}\")"
   ]
  },
  {
   "cell_type": "markdown",
   "metadata": {},
   "source": [
    "## Managing Risk\n",
    "\n",
    "Up to this point the objective has been to maximize expected value without regard to any associated financial risk. This is a suitable objective for a risk neutral vendor. Most private businesses, however, avoid downside risk even at the cost of reducing expected return. \n",
    "\n",
    "The following chart shows the profit earned for each scenario when the objective is to maximize expected profit."
   ]
  },
  {
   "cell_type": "code",
   "execution_count": 42,
   "metadata": {},
   "outputs": [
    {
     "data": {
      "text/html": [
       "<div>\n",
       "<style scoped>\n",
       "    .dataframe tbody tr th:only-of-type {\n",
       "        vertical-align: middle;\n",
       "    }\n",
       "\n",
       "    .dataframe tbody tr th {\n",
       "        vertical-align: top;\n",
       "    }\n",
       "\n",
       "    .dataframe thead th {\n",
       "        text-align: right;\n",
       "    }\n",
       "</style>\n",
       "<table border=\"1\" class=\"dataframe\">\n",
       "  <thead>\n",
       "    <tr style=\"text-align: right;\">\n",
       "      <th></th>\n",
       "      <th>probability</th>\n",
       "      <th>demand</th>\n",
       "      <th>cdf</th>\n",
       "      <th>profit</th>\n",
       "    </tr>\n",
       "  </thead>\n",
       "  <tbody>\n",
       "    <tr>\n",
       "      <th>A</th>\n",
       "      <td>0.6</td>\n",
       "      <td>200.0</td>\n",
       "      <td>0.9</td>\n",
       "      <td>600.0</td>\n",
       "    </tr>\n",
       "    <tr>\n",
       "      <th>B</th>\n",
       "      <td>0.3</td>\n",
       "      <td>100.0</td>\n",
       "      <td>0.3</td>\n",
       "      <td>225.0</td>\n",
       "    </tr>\n",
       "    <tr>\n",
       "      <th>C</th>\n",
       "      <td>0.1</td>\n",
       "      <td>250.0</td>\n",
       "      <td>1.0</td>\n",
       "      <td>600.0</td>\n",
       "    </tr>\n",
       "  </tbody>\n",
       "</table>\n",
       "</div>"
      ],
      "text/plain": [
       "   probability  demand  cdf  profit\n",
       "A          0.6   200.0  0.9   600.0\n",
       "B          0.3   100.0  0.3   225.0\n",
       "C          0.1   250.0  1.0   600.0"
      ]
     },
     "metadata": {},
     "output_type": "display_data"
    },
    {
     "data": {
      "text/plain": [
       "<matplotlib.legend.Legend at 0x7fc8c7012fd0>"
      ]
     },
     "execution_count": 42,
     "metadata": {},
     "output_type": "execute_result"
    },
    {
     "data": {
      "image/png": "[encoded data removed]",
      "text/plain": [
       "<Figure size 432x288 with 1 Axes>"
      ]
     },
     "metadata": {
      "filenames": {
       "image/png": "/Users/jeff/Google Drive/GitHub/cbe60455/_build/jupyter_execute/notebooks/04/vendor-problem_26_2.png"
      },
      "needs_background": "light"
     },
     "output_type": "display_data"
    }
   ],
   "source": [
    "scenarios[\"profit\"] = [m.profit[s].expr() for s in scenarios.index]\n",
    "scenarios.sort_index(inplace=True)\n",
    "display(scenarios)\n",
    "ax = scenarios[\"profit\"].plot(kind=\"bar\", \n",
    "                              ylabel=\"Profit\", \n",
    "                              xlabel=\"Scenario\",\n",
    "                              title=f\"Order size = {m.x()} units\")\n",
    "ax.plot(ax.get_xlim(), [m.expected_profit_obj()]*2, 'r--', label=\"expected profit\")\n",
    "ax.legend()"
   ]
  },
  {
   "cell_type": "markdown",
   "metadata": {},
   "source": [
    "## Maximizing Worst-Case Profit"
   ]
  },
  {
   "cell_type": "code",
   "execution_count": 44,
   "metadata": {},
   "outputs": [
    {
     "name": "stdout",
     "output_type": "stream",
     "text": [
      "worst_case_profit : Size=1, Index=None, Active=True\n",
      "    Key  : Active : Value\n",
      "    None :   True : 300.0\n",
      "x : Size=1, Index=None\n",
      "    Key  : Lower : Value : Upper : Fixed : Stale : Domain\n",
      "    None :     0 : 100.0 :  None : False : False : NonNegativeReals\n",
      "y : Size=3, Index=S\n",
      "    Key : Lower : Value : Upper : Fixed : Stale : Domain\n",
      "      A :     0 : 100.0 :  None : False : False : NonNegativeReals\n",
      "      B :     0 : 100.0 :  None : False : False : NonNegativeReals\n",
      "      C :     0 : 100.0 :  None : False : False : NonNegativeReals\n"
     ]
    }
   ],
   "source": [
    "import pyomo.environ as pyo\n",
    "\n",
    "def vendor_model_worst_case(r, c, w, scenarios):\n",
    "    \n",
    "    m = pyo.ConcreteModel()\n",
    "\n",
    "    # price parameters\n",
    "    m.r = pyo.Param(domain=pyo.NonNegativeReals, initialize=r)\n",
    "    m.c = pyo.Param(domain=pyo.NonNegativeReals, initialize=c)\n",
    "    m.w = pyo.Param(domain=pyo.NonNegativeReals, initialize=w)\n",
    "\n",
    "    assert m.c <= m.r\n",
    "    assert m.w <= m.c\n",
    "\n",
    "    # scenario information\n",
    "    m.S = pyo.Set(initialize=scenarios.index)\n",
    "    m.d = pyo.Param(m.S, initialize=scenarios[\"demand\"])\n",
    "    m.p = pyo.Param(m.S, initialize=scenarios[\"probability\"])\n",
    "\n",
    "    assert abs(sum(m.p[s] for s in m.S) - 1) <= 0.0001\n",
    "\n",
    "    # decision variables\n",
    "    m.x = pyo.Var(domain=pyo.NonNegativeReals)\n",
    "    m.y = pyo.Var(m.S, domain=pyo.NonNegativeReals)\n",
    "    m.wc = pyo.Var()\n",
    "\n",
    "    # Expression for profit\n",
    "    @m.Expression(m.S)\n",
    "    def profit(m, s):\n",
    "        return (m.r - m.w)*m.y[s] - (m.c - m.w)*m.x\n",
    "\n",
    "    @m.Constraint(m.S)\n",
    "    def worst_case(m, s):\n",
    "        return m.wc <= m.profit[s]\n",
    "    \n",
    "    @m.Objective(sense=pyo.maximize)\n",
    "    def worst_case_profit(m):\n",
    "        return m.wc\n",
    "\n",
    "    @m.Constraint(m.S)\n",
    "    def demand_bound(m, s):\n",
    "        return m.y[s] <= m.d[s]\n",
    "\n",
    "    @m.Constraint(m.S)\n",
    "    def sales_bound(m, s):\n",
    "        return m.y[s] <= m.x\n",
    "\n",
    "    pyo.SolverFactory('cbc').solve(m)\n",
    "    \n",
    "    return m\n",
    "\n",
    "m = vendor_model_worst_case(r, c, w, scenarios)\n",
    "m.worst_case_profit.display()\n",
    "m.x.display()\n",
    "m.y.display()\n"
   ]
  },
  {
   "cell_type": "markdown",
   "metadata": {},
   "source": []
  },
  {
   "cell_type": "code",
   "execution_count": 17,
   "metadata": {},
   "outputs": [
    {
     "data": {
      "text/plain": [
       "<AxesSubplot:>"
      ]
     },
     "execution_count": 17,
     "metadata": {},
     "output_type": "execute_result"
    },
    {
     "data": {
      "image/png": "[encoded data removed]",
      "text/plain": [
       "<Figure size 432x288 with 1 Axes>"
      ]
     },
     "metadata": {
      "filenames": {
       "image/png": "/Users/jeff/Google Drive/GitHub/cbe60455/_build/jupyter_execute/notebooks/04/vendor-problem_30_1.png"
      },
      "needs_background": "light"
     },
     "output_type": "display_data"
    }
   ],
   "source": [
    "N = 1000\n",
    "\n",
    "demand_history = pd.DataFrame()\n",
    "demand_history[\"demand\"] = 200*np.random.weibull(5, N)\n",
    "demand_history[\"probability\"] = 1/N\n",
    "demand_history[\"demand\"].hist(bins=10)"
   ]
  },
  {
   "cell_type": "code",
   "execution_count": 56,
   "metadata": {},
   "outputs": [
    {
     "data": {
      "text/plain": [
       "<AxesSubplot:xlabel='Order Size', ylabel='Expected Profit'>"
      ]
     },
     "execution_count": 56,
     "metadata": {},
     "output_type": "execute_result"
    },
    {
     "data": {
      "image/png": "[encoded data removed]",
      "text/plain": [
       "<Figure size 864x360 with 1 Axes>"
      ]
     },
     "metadata": {
      "filenames": {
       "image/png": "/Users/jeff/Google Drive/GitHub/cbe60455/_build/jupyter_execute/notebooks/04/vendor-problem_31_1.png"
      },
      "needs_background": "light"
     },
     "output_type": "display_data"
    }
   ],
   "source": [
    "m = vendor(r, c, w, demand_history)\n",
    "vendor_plot(r, c, w, demand_history)"
   ]
  },
  {
   "cell_type": "markdown",
   "metadata": {},
   "source": [
    "## Distribution of Outcomes"
   ]
  },
  {
   "cell_type": "code",
   "execution_count": 58,
   "metadata": {},
   "outputs": [
    {
     "data": {
      "text/plain": [
       "array([[<AxesSubplot:title={'center':'0'}>]], dtype=object)"
      ]
     },
     "execution_count": 58,
     "metadata": {},
     "output_type": "execute_result"
    },
    {
     "data": {
      "image/png": "[encoded data removed]",
      "text/plain": [
       "<Figure size 432x288 with 1 Axes>"
      ]
     },
     "metadata": {
      "filenames": {
       "image/png": "/Users/jeff/Google Drive/GitHub/cbe60455/_build/jupyter_execute/notebooks/04/vendor-problem_33_1.png"
      },
      "needs_background": "light"
     },
     "output_type": "display_data"
    }
   ],
   "source": [
    "pd.DataFrame([m.profit[s].expr() for s in m.S], index=m.S).hist(bins=30)"
   ]
  },
  {
   "cell_type": "code",
   "execution_count": 63,
   "metadata": {},
   "outputs": [
    {
     "name": "stdout",
     "output_type": "stream",
     "text": [
      "x : Size=1, Index=None\n",
      "    Key  : Lower : Value    : Upper : Fixed : Stale : Domain\n",
      "    None :     0 : 221.6258 :  None : False : False : NonNegativeReals\n"
     ]
    }
   ],
   "source": [
    "import pyomo.environ as pyo\n",
    "\n",
    "def vendor_model_var(r, c, w, scenarios):\n",
    "\n",
    "    \n",
    "    m = pyo.ConcreteModel()\n",
    "\n",
    "    # price parameters\n",
    "    m.r = pyo.Param(domain=pyo.NonNegativeReals, initialize=r)\n",
    "    m.c = pyo.Param(domain=pyo.NonNegativeReals, initialize=c)\n",
    "    m.w = pyo.Param(domain=pyo.NonNegativeReals, initialize=w)\n",
    "\n",
    "    assert m.c <= m.r\n",
    "    assert m.w <= m.c\n",
    "\n",
    "    # scenario information\n",
    "    m.S = pyo.Set(initialize=scenarios.index)\n",
    "    m.d = pyo.Param(m.S, initialize=scenarios[\"demand\"])\n",
    "    m.p = pyo.Param(m.S, initialize=scenarios[\"probability\"])\n",
    "\n",
    "    assert abs(sum(m.p[s] for s in m.S) - 1) <= 0.001\n",
    "\n",
    "    # decision variables\n",
    "    m.x = pyo.Var(domain=pyo.NonNegativeReals)\n",
    "    m.y = pyo.Var(m.S, domain=pyo.NonNegativeReals)\n",
    "\n",
    "    # Expression for profit\n",
    "    @m.Expression(m.S)\n",
    "    def profit(m, s):\n",
    "        return (m.r - m.w)*m.y[s] - (m.c - m.w)*m.x\n",
    "\n",
    "    # Objective\n",
    "    @m.Objective(sense=pyo.maximize)\n",
    "    def expected_profit_obj(m):\n",
    "        return sum(m.p[s] * m.profit[s] for s in m.S)\n",
    "\n",
    "    @m.Constraint(m.S)\n",
    "    def demand_bound(m, s):\n",
    "        return m.y[s] <= m.d[s]\n",
    "\n",
    "    @m.Constraint(m.S)\n",
    "    def sales_bound(m, s):\n",
    "        return m.y[s] <= m.x\n",
    "\n",
    "    pyo.SolverFactory('cbc').solve(m)\n",
    "    \n",
    "    return m\n",
    "    \n",
    "m = vendor_model_var(r, c, w, demand_history)\n",
    "\n",
    "m.x.display()\n"
   ]
  },
  {
   "cell_type": "code",
   "execution_count": null,
   "metadata": {},
   "outputs": [],
   "source": []
  }
 ],
 "metadata": {
  "kernelspec": {
   "display_name": "Python 3 (ipykernel)",
   "language": "python",
   "name": "python3"
  },
  "language_info": {
   "codemirror_mode": {
    "name": "ipython",
    "version": 3
   },
   "file_extension": ".py",
   "mimetype": "text/x-python",
   "name": "python",
   "nbconvert_exporter": "python",
   "pygments_lexer": "ipython3",
   "version": "3.9.7"
  }
 },
 "nbformat": 4,
 "nbformat_minor": 4
}