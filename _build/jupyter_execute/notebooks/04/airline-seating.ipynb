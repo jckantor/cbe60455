{
 "cells": [
  {
   "cell_type": "markdown",
   "id": "e27d4fbb-db2e-4616-8c43-b6ca3a0bcbf0",
   "metadata": {
    "tags": []
   },
   "source": [
    "# Airline seat allocation problem\n",
    "\n",
    "An airlines is trying to decide how to partition a new plane for the Amsterdam-Buenos Aires route. This plane can seat 200 economy class passengers. A section can be created for first class seats but each of these seats takes the space of 2 economy class seats. A business class section can also be created, but each of these seats takes as much space as 1.5 economy class seats. The profit on a first class ticket is, however, three times the profit of an economy ticket, while a business class ticket has a profit of two times an economy ticket's profit. Once the plane is partitioned into these seating classes, it cannot be changed. The airlines knows, however, that the plane will not always be full in each section. "
   ]
  },
  {
   "cell_type": "markdown",
   "id": "347cbd20-15e4-4634-8a05-e782dc0e0929",
   "metadata": {},
   "source": [
    "## Installation and Imports"
   ]
  },
  {
   "cell_type": "code",
   "execution_count": null,
   "id": "ea71de65",
   "metadata": {
    "ExecuteTime": {
     "end_time": "2022-09-30T21:49:05.660595Z",
     "start_time": "2022-09-30T21:49:05.457825Z"
    }
   },
   "outputs": [
    {
     "name": "stdout",
     "output_type": "stream",
     "text": [
      "pyomo was previously installed\n",
      "cbc was previously installed\n"
     ]
    },
    {
     "data": {
      "text/plain": [
       "True"
      ]
     },
     "execution_count": 205,
     "metadata": {},
     "output_type": "execute_result"
    }
   ],
   "source": [
    "# install Pyomo and solvers\n",
    "import requests\n",
    "import types\n",
    "\n",
    "url = \"https://raw.githubusercontent.com/mobook/MO-book/main/python/helper.py\"\n",
    "helper = types.ModuleType(\"helper\")\n",
    "exec(requests.get(url).content, helper.__dict__)\n",
    "\n",
    "helper.install_pyomo()\n",
    "helper.install_cbc()"
   ]
  },
  {
   "cell_type": "code",
   "execution_count": 206,
   "id": "e91fbe82",
   "metadata": {
    "ExecuteTime": {
     "end_time": "2022-09-30T21:49:07.404490Z",
     "start_time": "2022-09-30T21:49:05.663157Z"
    }
   },
   "outputs": [],
   "source": [
    "import pyomo.environ as pyo\n",
    "import numpy as np\n",
    "import pandas as pd"
   ]
  },
  {
   "cell_type": "markdown",
   "id": "d1e11c9c-1ab7-4f33-938b-ca6b927640cb",
   "metadata": {
    "tags": []
   },
   "source": [
    "## Model 1. Extensive Form of a Stochastic Program\n",
    "\n",
    "The airline has decided that three scenarios will occur with about the same frequency: \n",
    "\n",
    "* (1) weekday morning and evening traffic, \n",
    "* (2) weekend traffic, \n",
    "* (3) weekday midday traffic. \n",
    "\n",
    "Under Scenario 1, they think they can sell as many as 20 first class tickets, 50 business class tickets, and 200 economy tickets. Under Scenario 2, these figures are $10 , 24 $, and $175$, while under Scenario 3, they are $6 , 10$, and $150$. The following table reports the forecast demand in the three scenarios.\n",
    "\n",
    "| Scenario | First class seats | Business class seats | Economy class seats |\n",
    "| :-- | :-: | :-: | :-: |\n",
    "| (1) weekday morning and evening | 20 | 50 | 200 |\n",
    "| (2) weekend | 10 | 24 | 175 |\n",
    "| (3) weekday midday | 6 | 10 | 150 |\n",
    "\n",
    "Despite these estimates, the airline will not sell more tickets than seats in each of the sections (hence no overbooking strategy).\n",
    "\n",
    "Implement and solve the extensive form of the stochastic program for the optimal seat allocation aiming to maximize the airline profit."
   ]
  },
  {
   "cell_type": "markdown",
   "id": "32d6794b-b3bb-4543-8d0e-23d1d3363863",
   "metadata": {},
   "source": [
    "## Price and Scenario Data"
   ]
  },
  {
   "cell_type": "code",
   "execution_count": 282,
   "id": "14318352-5d94-4e8e-a7f3-ac158255302b",
   "metadata": {},
   "outputs": [
    {
     "data": {
      "text/html": [
       "<div>\n",
       "<style scoped>\n",
       "    .dataframe tbody tr th:only-of-type {\n",
       "        vertical-align: middle;\n",
       "    }\n",
       "\n",
       "    .dataframe tbody tr th {\n",
       "        vertical-align: top;\n",
       "    }\n",
       "\n",
       "    .dataframe thead th {\n",
       "        text-align: right;\n",
       "    }\n",
       "</style>\n",
       "<table border=\"1\" class=\"dataframe\">\n",
       "  <thead>\n",
       "    <tr style=\"text-align: right;\">\n",
       "      <th></th>\n",
       "      <th>price factor</th>\n",
       "      <th>seat factor</th>\n",
       "    </tr>\n",
       "  </thead>\n",
       "  <tbody>\n",
       "    <tr>\n",
       "      <th>F</th>\n",
       "      <td>3.0</td>\n",
       "      <td>2.0</td>\n",
       "    </tr>\n",
       "    <tr>\n",
       "      <th>B</th>\n",
       "      <td>2.0</td>\n",
       "      <td>1.5</td>\n",
       "    </tr>\n",
       "    <tr>\n",
       "      <th>E</th>\n",
       "      <td>1.0</td>\n",
       "      <td>1.0</td>\n",
       "    </tr>\n",
       "  </tbody>\n",
       "</table>\n",
       "</div>"
      ],
      "text/plain": [
       "   price factor  seat factor\n",
       "F           3.0          2.0\n",
       "B           2.0          1.5\n",
       "E           1.0          1.0"
      ]
     },
     "metadata": {},
     "output_type": "display_data"
    }
   ],
   "source": [
    "# seat price and size data\n",
    "seat_data = pd.DataFrame({\n",
    "    \"F\": {\"price factor\": 3.0, \"seat factor\": 2.0},\n",
    "    \"B\": {\"price factor\": 2.0, \"seat factor\": 1.5},\n",
    "    \"E\": {\"price factor\": 1.0, \"seat factor\": 1.0},\n",
    "}).T\n",
    "\n",
    "display(seat_data)"
   ]
  },
  {
   "cell_type": "code",
   "execution_count": 285,
   "id": "c5910bc4-3863-407e-ac90-7177ef9afc88",
   "metadata": {},
   "outputs": [
    {
     "data": {
      "text/html": [
       "<div>\n",
       "<style scoped>\n",
       "    .dataframe tbody tr th:only-of-type {\n",
       "        vertical-align: middle;\n",
       "    }\n",
       "\n",
       "    .dataframe tbody tr th {\n",
       "        vertical-align: top;\n",
       "    }\n",
       "\n",
       "    .dataframe thead th {\n",
       "        text-align: right;\n",
       "    }\n",
       "</style>\n",
       "<table border=\"1\" class=\"dataframe\">\n",
       "  <thead>\n",
       "    <tr style=\"text-align: right;\">\n",
       "      <th></th>\n",
       "      <th>F</th>\n",
       "      <th>B</th>\n",
       "      <th>E</th>\n",
       "    </tr>\n",
       "  </thead>\n",
       "  <tbody>\n",
       "    <tr>\n",
       "      <th>morning and evening</th>\n",
       "      <td>20</td>\n",
       "      <td>50</td>\n",
       "      <td>200</td>\n",
       "    </tr>\n",
       "    <tr>\n",
       "      <th>weekend</th>\n",
       "      <td>10</td>\n",
       "      <td>24</td>\n",
       "      <td>175</td>\n",
       "    </tr>\n",
       "    <tr>\n",
       "      <th>midday</th>\n",
       "      <td>6</td>\n",
       "      <td>10</td>\n",
       "      <td>150</td>\n",
       "    </tr>\n",
       "  </tbody>\n",
       "</table>\n",
       "</div>"
      ],
      "text/plain": [
       "                      F   B    E\n",
       "morning and evening  20  50  200\n",
       "weekend              10  24  175\n",
       "midday                6  10  150"
      ]
     },
     "metadata": {},
     "output_type": "display_data"
    }
   ],
   "source": [
    "# scenario data\n",
    "scenario_data = pd.DataFrame({\n",
    "    \"morning and evening\": {'F': 20, 'B': 50, 'E': 200},\n",
    "    \"weekend\": {'F': 10, 'B': 24, 'E': 175},\n",
    "    \"midday\": {'F':  6, 'B': 10, 'E': 150}\n",
    "}).T\n",
    "\n",
    "display(scenario_data)"
   ]
  },
  {
   "cell_type": "code",
   "execution_count": 286,
   "id": "ea1e24dc-bcbf-464f-a2f2-73f59bdcd2b3",
   "metadata": {},
   "outputs": [
    {
     "data": {
      "text/plain": [
       "<AxesSubplot:title={'center':'Demand Scenarios'}>"
      ]
     },
     "execution_count": 286,
     "metadata": {},
     "output_type": "execute_result"
    },
    {
     "data": {
      "image/png": "[encoded data removed]",
      "text/plain": [
       "<Figure size 432x288 with 1 Axes>"
      ]
     },
     "metadata": {
      "filenames": {
       "image/png": "/Users/jeff/Google Drive/GitHub/cbe60455/_build/jupyter_execute/notebooks/04/airline-seating_8_1.png"
      },
      "needs_background": "light"
     },
     "output_type": "display_data"
    }
   ],
   "source": [
    "scenario_data[[\"E\", \"B\", \"F\"]].plot(kind=\"barh\", rot=0, stacked=False, title=\"Demand Scenarios\", grid=True)"
   ]
  },
  {
   "cell_type": "markdown",
   "id": "0b727f9c-8cb1-4f00-83c7-b97e3a770807",
   "metadata": {},
   "source": [
    "## Pyomo Model"
   ]
  },
  {
   "cell_type": "code",
   "execution_count": 362,
   "id": "e43fe599-b8bd-482b-aab2-093b0243fd72",
   "metadata": {},
   "outputs": [
    {
     "name": "stdout",
     "output_type": "stream",
     "text": [
      "Optimal objective value (in units of economy ticket price): 209\n"
     ]
    },
    {
     "data": {
      "text/html": [
       "<div>\n",
       "<style scoped>\n",
       "    .dataframe tbody tr th:only-of-type {\n",
       "        vertical-align: middle;\n",
       "    }\n",
       "\n",
       "    .dataframe tbody tr th {\n",
       "        vertical-align: top;\n",
       "    }\n",
       "\n",
       "    .dataframe thead th {\n",
       "        text-align: right;\n",
       "    }\n",
       "</style>\n",
       "<table border=\"1\" class=\"dataframe\">\n",
       "  <thead>\n",
       "    <tr style=\"text-align: right;\">\n",
       "      <th></th>\n",
       "      <th>F</th>\n",
       "      <th>B</th>\n",
       "      <th>E</th>\n",
       "    </tr>\n",
       "  </thead>\n",
       "  <tbody>\n",
       "    <tr>\n",
       "      <th>seat allocation</th>\n",
       "      <td>10.0</td>\n",
       "      <td>20.0</td>\n",
       "      <td>150.0</td>\n",
       "    </tr>\n",
       "    <tr>\n",
       "      <th>equivalent seat allocation</th>\n",
       "      <td>20.0</td>\n",
       "      <td>30.0</td>\n",
       "      <td>150.0</td>\n",
       "    </tr>\n",
       "  </tbody>\n",
       "</table>\n",
       "</div>"
      ],
      "text/plain": [
       "                               F     B      E\n",
       "seat allocation             10.0  20.0  150.0\n",
       "equivalent seat allocation  20.0  30.0  150.0"
      ]
     },
     "metadata": {},
     "output_type": "display_data"
    },
    {
     "data": {
      "text/html": [
       "<div>\n",
       "<style scoped>\n",
       "    .dataframe tbody tr th:only-of-type {\n",
       "        vertical-align: middle;\n",
       "    }\n",
       "\n",
       "    .dataframe tbody tr th {\n",
       "        vertical-align: top;\n",
       "    }\n",
       "\n",
       "    .dataframe thead th {\n",
       "        text-align: right;\n",
       "    }\n",
       "</style>\n",
       "<table border=\"1\" class=\"dataframe\">\n",
       "  <thead>\n",
       "    <tr style=\"text-align: right;\">\n",
       "      <th></th>\n",
       "      <th>F</th>\n",
       "      <th>B</th>\n",
       "      <th>E</th>\n",
       "    </tr>\n",
       "  </thead>\n",
       "  <tbody>\n",
       "    <tr>\n",
       "      <th>morning and evening</th>\n",
       "      <td>10.0</td>\n",
       "      <td>20.0</td>\n",
       "      <td>150.0</td>\n",
       "    </tr>\n",
       "    <tr>\n",
       "      <th>weekend</th>\n",
       "      <td>10.0</td>\n",
       "      <td>20.0</td>\n",
       "      <td>150.0</td>\n",
       "    </tr>\n",
       "    <tr>\n",
       "      <th>midday</th>\n",
       "      <td>6.0</td>\n",
       "      <td>10.0</td>\n",
       "      <td>150.0</td>\n",
       "    </tr>\n",
       "  </tbody>\n",
       "</table>\n",
       "</div>"
      ],
      "text/plain": [
       "                        F     B      E\n",
       "morning and evening  10.0  20.0  150.0\n",
       "weekend              10.0  20.0  150.0\n",
       "midday                6.0  10.0  150.0"
      ]
     },
     "metadata": {},
     "output_type": "display_data"
    },
    {
     "data": {
      "text/html": [
       "<div>\n",
       "<style scoped>\n",
       "    .dataframe tbody tr th:only-of-type {\n",
       "        vertical-align: middle;\n",
       "    }\n",
       "\n",
       "    .dataframe tbody tr th {\n",
       "        vertical-align: top;\n",
       "    }\n",
       "\n",
       "    .dataframe thead th {\n",
       "        text-align: right;\n",
       "    }\n",
       "</style>\n",
       "<table border=\"1\" class=\"dataframe\">\n",
       "  <thead>\n",
       "    <tr style=\"text-align: right;\">\n",
       "      <th></th>\n",
       "      <th>F</th>\n",
       "      <th>B</th>\n",
       "      <th>E</th>\n",
       "    </tr>\n",
       "  </thead>\n",
       "  <tbody>\n",
       "    <tr>\n",
       "      <th>morning and evening</th>\n",
       "      <td>0.0</td>\n",
       "      <td>0.0</td>\n",
       "      <td>0.0</td>\n",
       "    </tr>\n",
       "    <tr>\n",
       "      <th>weekend</th>\n",
       "      <td>0.0</td>\n",
       "      <td>0.0</td>\n",
       "      <td>0.0</td>\n",
       "    </tr>\n",
       "    <tr>\n",
       "      <th>midday</th>\n",
       "      <td>4.0</td>\n",
       "      <td>10.0</td>\n",
       "      <td>0.0</td>\n",
       "    </tr>\n",
       "  </tbody>\n",
       "</table>\n",
       "</div>"
      ],
      "text/plain": [
       "                       F     B    E\n",
       "morning and evening  0.0   0.0  0.0\n",
       "weekend              0.0   0.0  0.0\n",
       "midday               4.0  10.0  0.0"
      ]
     },
     "metadata": {},
     "output_type": "display_data"
    },
    {
     "data": {
      "text/html": [
       "<div>\n",
       "<style scoped>\n",
       "    .dataframe tbody tr th:only-of-type {\n",
       "        vertical-align: middle;\n",
       "    }\n",
       "\n",
       "    .dataframe tbody tr th {\n",
       "        vertical-align: top;\n",
       "    }\n",
       "\n",
       "    .dataframe thead th {\n",
       "        text-align: right;\n",
       "    }\n",
       "</style>\n",
       "<table border=\"1\" class=\"dataframe\">\n",
       "  <thead>\n",
       "    <tr style=\"text-align: right;\">\n",
       "      <th></th>\n",
       "      <th>F</th>\n",
       "      <th>B</th>\n",
       "      <th>E</th>\n",
       "    </tr>\n",
       "  </thead>\n",
       "  <tbody>\n",
       "    <tr>\n",
       "      <th>morning and evening</th>\n",
       "      <td>10.0</td>\n",
       "      <td>30.0</td>\n",
       "      <td>50.0</td>\n",
       "    </tr>\n",
       "    <tr>\n",
       "      <th>weekend</th>\n",
       "      <td>0.0</td>\n",
       "      <td>4.0</td>\n",
       "      <td>25.0</td>\n",
       "    </tr>\n",
       "    <tr>\n",
       "      <th>midday</th>\n",
       "      <td>0.0</td>\n",
       "      <td>0.0</td>\n",
       "      <td>0.0</td>\n",
       "    </tr>\n",
       "  </tbody>\n",
       "</table>\n",
       "</div>"
      ],
      "text/plain": [
       "                        F     B     E\n",
       "morning and evening  10.0  30.0  50.0\n",
       "weekend               0.0   4.0  25.0\n",
       "midday                0.0   0.0   0.0"
      ]
     },
     "metadata": {},
     "output_type": "display_data"
    },
    {
     "data": {
      "image/png": "[encoded data removed]",
      "text/plain": [
       "<Figure size 432x288 with 1 Axes>"
      ]
     },
     "metadata": {
      "filenames": {
       "image/png": "/Users/jeff/Google Drive/GitHub/cbe60455/_build/jupyter_execute/notebooks/04/airline-seating_10_5.png"
      },
      "needs_background": "light"
     },
     "output_type": "display_data"
    }
   ],
   "source": [
    "def airline(total_seats, seat_data, scenario_data):\n",
    "\n",
    "    m = pyo.ConcreteModel()\n",
    "    \n",
    "    m.classes = pyo.Set(initialize=seat_data.index)\n",
    "    m.scenarios = pyo.Set(initialize=scenario_data.index)\n",
    "\n",
    "    # first stage variables and constraints\n",
    "    \n",
    "    m.seats = pyo.Var(m.classes, domain=pyo.NonNegativeIntegers) \n",
    "\n",
    "    @m.Expression(m.classes)\n",
    "    def equivalent_seats(m, c):\n",
    "        return m.seats[c] * seat_data.loc[c, \"seat factor\"]\n",
    "\n",
    "    @m.Constraint()\n",
    "    def plane_seats(m):\n",
    "        return sum(m.equivalent_seats[c] for c in m.classes) <= total_seats\n",
    "\n",
    "    # second stage variables and constraints\n",
    "    \n",
    "    m.sell = pyo.Var(m.classes, m.scenarios, domain=pyo.NonNegativeIntegers)\n",
    "\n",
    "    @m.Constraint(m.classes, m.scenarios)\n",
    "    def demand(m, c, s):\n",
    "        return m.sell[c, s] <= scenario_data.loc[s, c]\n",
    "\n",
    "    @m.Constraint(m.classes, m.scenarios)\n",
    "    def sell_limit(m, c, s):\n",
    "        return m.sell[c, s] <= m.seats[c]\n",
    "\n",
    "    # objective\n",
    "    \n",
    "    @m.Expression()\n",
    "    def second_stage_profit(m):\n",
    "        total =  sum(sum(m.sell[c, s] * seat_data.loc[c, \"price factor\"] for s in m.scenarios) for c in m.classes)\n",
    "        return total / len(m.scenarios)\n",
    "\n",
    "    @m.Objective(sense=pyo.maximize)\n",
    "    def total_expected_profit(m):\n",
    "        return m.second_stage_profit\n",
    "    \n",
    "    return m\n",
    "\n",
    "def report(m, seat_data, scenario_data):\n",
    "    # report objective\n",
    "    print(f\"Optimal objective value (in units of economy ticket price): {m.total_expected_profit():.0f}\")\n",
    "    \n",
    "    # report seat allocation\n",
    "    seats = pd.DataFrame({\n",
    "        \"seat allocation\":  {c: m.seats[c]() for c in m.classes},\n",
    "        \"equivalent seat allocation\": {c: m.equivalent_seats[c].expr() for c in m.classes}\n",
    "    }).T\n",
    "    \n",
    "    # report seats sold\n",
    "    sold = pd.DataFrame({c: {s: m.sell[c, s]() for s in m.scenarios} for c in m.classes})\n",
    "    \n",
    "    # report seats unsold\n",
    "    unsold = pd.DataFrame({c: {s: m.seats[c]() - m.sell[c, s]() for s in m.scenarios} for c in m.classes})\n",
    "    #unsold.replace(to_replace=0.0, value=\"-\", inplace=True)\n",
    "    \n",
    "    # report spillage (unsatisfied demand)\n",
    "    spillage = pd.DataFrame({c: {s: scenario_data.loc[s, c] - m.sell[c, s]() for s in m.scenarios} for c in m.classes})\n",
    "    #spillage.replace(to_replace=0.0, value=\"-\", inplace=True)    \n",
    "     \n",
    "    return seats, sold, unsold, spillage\n",
    "\n",
    "    \n",
    "m = airline(200, seat_data, scenario_data)\n",
    "pyo.SolverFactory('cbc').solve(m)\n",
    "seats, sold, unsold, spillage = report(m, seat_data, scenario_data);\n",
    "display(seats)\n",
    "display(sold)\n",
    "display(unsold)\n",
    "display(spillage)\n",
    "\n",
    "ax = sold[m.classes].plot(kind=\"barh\", rot=0, stacked=False, title=\"Demand Scenarios\")\n",
    "scenario_data[m.classes].plot(ax=ax, kind=\"barh\", rot=0, stacked=False, title=\"Demand Scenarios\", alpha=0.2)\n",
    "for c in m.classes:\n",
    "    ax.plot([m.seats[c]()] * 2, ax.get_ylim(), \"--\", lw=1.4)"
   ]
  },
  {
   "cell_type": "markdown",
   "id": "801f475e",
   "metadata": {},
   "source": [
    "## Model 2. Chance Constraints\n",
    "\n",
    "The airline wishes a special guarantee for its clients enrolled in its loyalty program. In particular, it wants $98\\%$ probability to cover the demand of first-class seats and $95\\%$ probability to cover the demand of business class seats (by clients of the loyalty program). First-class passengers are covered if they can purchase a first-class seat. Business class passengers are covered if they purchase a business class seat or upgrade to a first-class seat. \n",
    "\n",
    "Assume weekday demands of loyalty-program passengers are normally distributed as $\\xi_F \\sim \\mathcal N(\\mu_F, \\sigma_F^2)$ and $\\xi_B \\sim \\mathcal N(\\mu_B, \\sigma_B^2)$ for first-class and business, respectively. Assume that the demands for first-class and business class seats are independent.\n",
    "\n",
    "Let $x_F$ be the number of first-class seats and $x_B$ the number of business seats. The probabilistic constraints are\n",
    "\n",
    "$$\n",
    "\\mathbb P(x_F \\geq \\xi_F ) \\geq 0.98, \\qquad \\text{ and } \\qquad \\mathbb P(x_F + x_B \\geq \\xi_F + \\xi_B ) \\geq 0.95.\n",
    "$$\n",
    "\n",
    "These are can be written equivalently as linear constraints, specifically \n",
    "\n",
    "$$\n",
    "\\frac{x_F - \\mu_F}{\\sigma_F} \\geq 2.054 \\qquad \\text{ and } \\qquad \\frac{(x_F + x_B) - (\\mu_F + \\mu_B)}{\\sqrt{\\sigma_F^2 + \\sigma_B^2}} \\geq 1.645.\n",
    "$$\n",
    "\n",
    "| | $\\mu$ | $\\sigma$ |\n",
    "| :--: | :--: | :--: |\n",
    "| F | 12 | 4 |\n",
    "| B | 28 | 8 |\n",
    "| E | 175 | 20 |\n",
    "\n",
    "\n",
    "Add to your implementation of the extensive form the two equivalent deterministic constraints corresponding to the two chance constraints and find the new optimal solution meeting these additional constraints. How is it different from the previous one?"
   ]
  },
  {
   "cell_type": "code",
   "execution_count": 363,
   "id": "84a3c4d4-6c78-4857-85dd-d2d2d189a30d",
   "metadata": {},
   "outputs": [
    {
     "data": {
      "text/html": [
       "<div>\n",
       "<style scoped>\n",
       "    .dataframe tbody tr th:only-of-type {\n",
       "        vertical-align: middle;\n",
       "    }\n",
       "\n",
       "    .dataframe tbody tr th {\n",
       "        vertical-align: top;\n",
       "    }\n",
       "\n",
       "    .dataframe thead th {\n",
       "        text-align: right;\n",
       "    }\n",
       "</style>\n",
       "<table border=\"1\" class=\"dataframe\">\n",
       "  <thead>\n",
       "    <tr style=\"text-align: right;\">\n",
       "      <th></th>\n",
       "      <th>mu</th>\n",
       "      <th>sigma</th>\n",
       "    </tr>\n",
       "  </thead>\n",
       "  <tbody>\n",
       "    <tr>\n",
       "      <th>F</th>\n",
       "      <td>12.0</td>\n",
       "      <td>4</td>\n",
       "    </tr>\n",
       "    <tr>\n",
       "      <th>B</th>\n",
       "      <td>28.0</td>\n",
       "      <td>8</td>\n",
       "    </tr>\n",
       "    <tr>\n",
       "      <th>E</th>\n",
       "      <td>175.0</td>\n",
       "      <td>20</td>\n",
       "    </tr>\n",
       "  </tbody>\n",
       "</table>\n",
       "</div>"
      ],
      "text/plain": [
       "      mu  sigma\n",
       "F   12.0      4\n",
       "B   28.0      8\n",
       "E  175.0     20"
      ]
     },
     "metadata": {},
     "output_type": "display_data"
    }
   ],
   "source": [
    "mu = scenario_data.mean()\n",
    "sigma = {\"F\": 4, \"B\": 8, \"E\": 20}\n",
    "display(pd.DataFrame({\"mu\": mu, \"sigma\": sigma}))"
   ]
  },
  {
   "cell_type": "code",
   "execution_count": 398,
   "id": "500a85f5-1459-4a07-820e-a6c89d13488e",
   "metadata": {},
   "outputs": [
    {
     "name": "stdout",
     "output_type": "stream",
     "text": [
      "Optimal objective value (in units of economy ticket price): 188\n"
     ]
    },
    {
     "data": {
      "image/png": "[encoded data removed]",
      "text/plain": [
       "<Figure size 432x288 with 1 Axes>"
      ]
     },
     "metadata": {
      "filenames": {
       "image/png": "/Users/jeff/Google Drive/GitHub/cbe60455/_build/jupyter_execute/notebooks/04/airline-seating_13_1.png"
      },
      "needs_background": "light"
     },
     "output_type": "display_data"
    }
   ],
   "source": [
    "m = airline(200, seat_data, scenario_data)\n",
    "\n",
    "m.loyaltyF = pyo.Constraint(expr = m.seats['F'] - mu['F'] >= 2.054 * sigma['F'])\n",
    "m.loyaltyFB = pyo.Constraint(expr = m.seats['F'] + m.seats['B'] - (mu['F'] + mu['B']) >= 1.645 * np.sqrt(sigma['F']**2 + sigma['B']**2))\n",
    "\n",
    "pyo.SolverFactory('cbc').solve(m)\n",
    "seats, sold, unsold, spillage = report(m, seat_data, scenario_data)\n",
    "\n",
    "ax = sold[m.classes].plot(kind=\"barh\", rot=0, stacked=False, title=\"Demand Scenarios\")\n",
    "scenario_data[m.classes].plot(ax=ax, kind=\"barh\", rot=0, stacked=False, title=\"Demand Scenarios\", alpha=0.2)\n",
    "for c in m.classes:\n",
    "    ax.plot([m.seats[c]()] * 2, ax.get_ylim(), \"--\", lw=1.4)\n"
   ]
  },
  {
   "cell_type": "markdown",
   "id": "e3e8e43c",
   "metadata": {},
   "source": [
    "## Model 3. Sample Average Approximation\n",
    "\n",
    "Now assume the ticket demand for the three categories is captured by a $3$-dimensional multivariate normal distribution mean $\\mu=(\\mu_F, \\mu_B, \\mu_E)$, variances $(\\sigma_F^2, \\sigma_B^2, \\sigma_E^2)$, and a symmetric correlation matrix \n",
    "\n",
    "$$\n",
    "P = \\left(\n",
    "\\begin{array}{ccc}\n",
    "1 & \\rho_{FB} & \\rho_{FE} \\\\\n",
    "\\rho_{BF} & 1 & \\rho_{BE}\\\\\n",
    "\\rho_{EF} & \\rho_{EB} & 1 \\\\\n",
    "\\end{array}\n",
    "\\right)\n",
    "$$\n",
    "\n",
    "The covariance matrix is given by $\\Sigma = \\text{diag}(\\sigma)\\ P\\ \\text{diag}(\\sigma)$ or\n",
    "\n",
    "$$\n",
    "\\Sigma= \\left(\n",
    "\\begin{array}{ccc}\n",
    " \\sigma_F^2 & \\rho_{FB}\\sigma_F\\sigma_B & \\rho_{FE}\\sigma_F\\sigma_E \\\\\n",
    "\\rho_{BF}\\sigma_B\\sigma_F & \\sigma_B^2 & \\rho_{BE}\\sigma_B\\sigma_E\\\\\n",
    "\\rho_{EF}\\sigma_E\\sigma_F & \\rho_{EB}\\sigma_E\\sigma_B & \\sigma_E^2 \\\\\n",
    "\\end{array}\n",
    "\\right)\n",
    "$$\n",
    "\n",
    "We will assume $\\rho_FB = 0.6$, $\\rho_{BE} = 0.4$ and $\\rho_{FE} = 0.2$.\n",
    "\n",
    "Solve approximately the airline seat allocation problem (with the loyalty constraints) using the Sample Average Approximation method. More specifically, sample $N=1000$ points from the multivariate normal distribution and solve the extensive form for the stochastic LP resulting from those $N=1000$ scenarios."
   ]
  },
  {
   "cell_type": "markdown",
   "id": "535b8d8d-de07-4cd6-b2b2-5ca284edab18",
   "metadata": {},
   "source": [
    "### Scenario Generation"
   ]
  },
  {
   "cell_type": "code",
   "execution_count": 459,
   "id": "38b7f794-dd4e-4e72-bf79-855636e18b6d",
   "metadata": {
    "ExecuteTime": {
     "end_time": "2022-09-30T21:49:08.708126Z",
     "start_time": "2022-09-30T21:49:07.626836Z"
    }
   },
   "outputs": [
    {
     "name": "stdout",
     "output_type": "stream",
     "text": [
      "\n",
      "sample means\n",
      "F     11.917\n",
      "B     27.877\n",
      "E    174.630\n",
      "dtype: float64\n",
      "\n",
      "sample standard deviations\n",
      "F     3.915794\n",
      "B     7.984336\n",
      "E    19.812815\n",
      "dtype: float64\n",
      "\n",
      "sample covariance\n",
      "           F          B           E\n",
      "F  15.333444  18.987779   13.020310\n",
      "B  18.987779  63.749621   55.100591\n",
      "E  13.020310  55.100591  392.547648\n"
     ]
    },
    {
     "data": {
      "image/png": "[encoded data removed]",
      "text/plain": [
       "<Figure size 864x216 with 3 Axes>"
      ]
     },
     "metadata": {
      "filenames": {
       "image/png": "/Users/jeff/Google Drive/GitHub/cbe60455/_build/jupyter_execute/notebooks/04/airline-seating_16_1.png"
      },
      "needs_background": "light"
     },
     "output_type": "display_data"
    }
   ],
   "source": [
    "# create covariance matrix\n",
    "P = np.array([[1, 0.6, 0.2], [0.6, 1, 0.4], [0.2, 0.4, 1]])\n",
    "s = np.array(list(sigma.values()))\n",
    "S = np.diag(s) @ P @ np.diag(s)\n",
    "\n",
    "# create samples\n",
    "N = 1000\n",
    "np.random.seed(1)\n",
    "samples = np.random.multivariate_normal(list(mu), S, N).round()\n",
    "saa_data = pd.DataFrame(samples, columns=seat_data.index)\n",
    "saa_data[saa_data < 0] = 0\n",
    "saa_data.hist(bins=30, layout=(1, 3), figsize=(12, 3))\n",
    "\n",
    "print(\"\\nsample means\")\n",
    "print(saa_data.mean())\n",
    "\n",
    "print(\"\\nsample standard deviations\")\n",
    "print(saa_data.std())\n",
    "\n",
    "print(\"\\nsample covariance\")\n",
    "print(saa_data.cov())"
   ]
  },
  {
   "cell_type": "markdown",
   "id": "659463e3-e7e3-441a-ae88-c2370c60bd45",
   "metadata": {},
   "source": [
    "### Solution"
   ]
  },
  {
   "cell_type": "code",
   "execution_count": 433,
   "id": "e96959bb-100a-4716-9211-62ce09a46794",
   "metadata": {
    "ExecuteTime": {
     "end_time": "2022-09-30T21:49:08.708126Z",
     "start_time": "2022-09-30T21:49:07.626836Z"
    }
   },
   "outputs": [
    {
     "name": "stdout",
     "output_type": "stream",
     "text": [
      "Optimal objective value (in units of economy ticket price): 196\n"
     ]
    },
    {
     "data": {
      "text/html": [
       "<div>\n",
       "<style scoped>\n",
       "    .dataframe tbody tr th:only-of-type {\n",
       "        vertical-align: middle;\n",
       "    }\n",
       "\n",
       "    .dataframe tbody tr th {\n",
       "        vertical-align: top;\n",
       "    }\n",
       "\n",
       "    .dataframe thead th {\n",
       "        text-align: right;\n",
       "    }\n",
       "</style>\n",
       "<table border=\"1\" class=\"dataframe\">\n",
       "  <thead>\n",
       "    <tr style=\"text-align: right;\">\n",
       "      <th></th>\n",
       "      <th>F</th>\n",
       "      <th>B</th>\n",
       "      <th>E</th>\n",
       "    </tr>\n",
       "  </thead>\n",
       "  <tbody>\n",
       "    <tr>\n",
       "      <th>seat allocation</th>\n",
       "      <td>21.0</td>\n",
       "      <td>34.0</td>\n",
       "      <td>107.0</td>\n",
       "    </tr>\n",
       "    <tr>\n",
       "      <th>equivalent seat allocation</th>\n",
       "      <td>42.0</td>\n",
       "      <td>51.0</td>\n",
       "      <td>107.0</td>\n",
       "    </tr>\n",
       "  </tbody>\n",
       "</table>\n",
       "</div>"
      ],
      "text/plain": [
       "                               F     B      E\n",
       "seat allocation             21.0  34.0  107.0\n",
       "equivalent seat allocation  42.0  51.0  107.0"
      ]
     },
     "metadata": {},
     "output_type": "display_data"
    }
   ],
   "source": [
    "m = airline(200, seat_data, saa_data)\n",
    "\n",
    "m.loyaltyF = pyo.Constraint(expr = m.seats['F'] - mu['F'] >= 2.054 * sigma['F'])\n",
    "m.loyaltyFB = pyo.Constraint(expr = m.seats['F'] + m.seats['B'] - (mu['F'] + mu['B']) >= 1.645 * np.sqrt(sigma['F']**2 + sigma['B']**2))\n",
    "\n",
    "pyo.SolverFactory('cbc').solve(m)\n",
    "seats, sold, unsold, spillage = report(m, seat_data, saa_data)\n",
    "\n",
    "display(seats)"
   ]
  },
  {
   "cell_type": "code",
   "execution_count": 434,
   "id": "0a3ea1b7-bb2a-4f1b-b164-0efad835f42f",
   "metadata": {
    "ExecuteTime": {
     "end_time": "2022-09-30T21:49:08.708126Z",
     "start_time": "2022-09-30T21:49:07.626836Z"
    }
   },
   "outputs": [
    {
     "name": "stdout",
     "output_type": "stream",
     "text": [
      "\n",
      "Sold Seats\n"
     ]
    },
    {
     "data": {
      "image/png": "[encoded data removed]",
      "text/plain": [
       "<Figure size 864x216 with 3 Axes>"
      ]
     },
     "metadata": {
      "filenames": {
       "image/png": "/Users/jeff/Google Drive/GitHub/cbe60455/_build/jupyter_execute/notebooks/04/airline-seating_19_1.png"
      },
      "needs_background": "light"
     },
     "output_type": "display_data"
    }
   ],
   "source": [
    "print(\"\\nSold Seats\")\n",
    "sold.hist(layout=(1, 3), figsize=(12, 3), bins=20);"
   ]
  },
  {
   "cell_type": "code",
   "execution_count": 435,
   "id": "71911beb-4824-4ba2-897c-3d3990756737",
   "metadata": {
    "ExecuteTime": {
     "end_time": "2022-09-30T21:49:08.708126Z",
     "start_time": "2022-09-30T21:49:07.626836Z"
    }
   },
   "outputs": [
    {
     "name": "stdout",
     "output_type": "stream",
     "text": [
      "\n",
      "Unsold Seats\n"
     ]
    },
    {
     "data": {
      "image/png": "[encoded data removed]",
      "text/plain": [
       "<Figure size 864x216 with 3 Axes>"
      ]
     },
     "metadata": {
      "filenames": {
       "image/png": "/Users/jeff/Google Drive/GitHub/cbe60455/_build/jupyter_execute/notebooks/04/airline-seating_20_1.png"
      },
      "needs_background": "light"
     },
     "output_type": "display_data"
    }
   ],
   "source": [
    "print(\"\\nUnsold Seats\")\n",
    "unsold.hist(layout=(1, 3), figsize=(12, 3), bins=20);"
   ]
  },
  {
   "cell_type": "code",
   "execution_count": 438,
   "id": "406e8e0e-926b-4efb-ada6-22fa61f6d43d",
   "metadata": {
    "ExecuteTime": {
     "end_time": "2022-09-30T21:49:08.708126Z",
     "start_time": "2022-09-30T21:49:07.626836Z"
    }
   },
   "outputs": [
    {
     "name": "stdout",
     "output_type": "stream",
     "text": [
      "\n",
      "Spillage\n"
     ]
    },
    {
     "data": {
      "image/png": "[encoded data removed]",
      "text/plain": [
       "<Figure size 864x216 with 3 Axes>"
      ]
     },
     "metadata": {
      "filenames": {
       "image/png": "/Users/jeff/Google Drive/GitHub/cbe60455/_build/jupyter_execute/notebooks/04/airline-seating_21_1.png"
      },
      "needs_background": "light"
     },
     "output_type": "display_data"
    }
   ],
   "source": [
    "print(\"\\nSpillage\")\n",
    "spillage.hist(layout=(1, 3), figsize=(12, 3), bins=20);"
   ]
  },
  {
   "cell_type": "markdown",
   "id": "4c863a35-0d55-4efc-8825-64070a6e1f71",
   "metadata": {},
   "source": [
    "## Model 4. Sample Average Approximation with Chance Constraints"
   ]
  },
  {
   "cell_type": "code",
   "execution_count": 452,
   "id": "073b7448-4973-48e2-a952-009a935be3ea",
   "metadata": {},
   "outputs": [
    {
     "name": "stdout",
     "output_type": "stream",
     "text": [
      "Optimal objective value (in units of economy ticket price): 194\n"
     ]
    },
    {
     "data": {
      "text/html": [
       "<div>\n",
       "<style scoped>\n",
       "    .dataframe tbody tr th:only-of-type {\n",
       "        vertical-align: middle;\n",
       "    }\n",
       "\n",
       "    .dataframe tbody tr th {\n",
       "        vertical-align: top;\n",
       "    }\n",
       "\n",
       "    .dataframe thead th {\n",
       "        text-align: right;\n",
       "    }\n",
       "</style>\n",
       "<table border=\"1\" class=\"dataframe\">\n",
       "  <thead>\n",
       "    <tr style=\"text-align: right;\">\n",
       "      <th></th>\n",
       "      <th>F</th>\n",
       "      <th>B</th>\n",
       "      <th>E</th>\n",
       "    </tr>\n",
       "  </thead>\n",
       "  <tbody>\n",
       "    <tr>\n",
       "      <th>seat allocation</th>\n",
       "      <td>20.0</td>\n",
       "      <td>38.0</td>\n",
       "      <td>103.0</td>\n",
       "    </tr>\n",
       "    <tr>\n",
       "      <th>equivalent seat allocation</th>\n",
       "      <td>40.0</td>\n",
       "      <td>57.0</td>\n",
       "      <td>103.0</td>\n",
       "    </tr>\n",
       "  </tbody>\n",
       "</table>\n",
       "</div>"
      ],
      "text/plain": [
       "                               F     B      E\n",
       "seat allocation             20.0  38.0  103.0\n",
       "equivalent seat allocation  40.0  57.0  103.0"
      ]
     },
     "metadata": {},
     "output_type": "display_data"
    }
   ],
   "source": [
    "m = airline(200, seat_data, saa_data)\n",
    "\n",
    "m.yF = pyo.Var(m.scenarios, domain=pyo.Binary)\n",
    "m.yFB = pyo.Var(m.scenarios, domain=pyo.Binary)\n",
    "\n",
    "@m.Constraint(m.scenarios)\n",
    "def loyaltyF(m, s):\n",
    "    return m.seats['F'] >= saa_data.loc[s, 'F'] - 200 * m.yF[s]\n",
    "\n",
    "@m.Constraint()\n",
    "def loyaltyF_disjuct(m):\n",
    "    return pyo.summation(m.yF) <= 0.02 * N\n",
    "\n",
    "@m.Constraint(m.scenarios)\n",
    "def loyaltyFB(m, s):\n",
    "    return m.seats['F'] + m.seats['B'] >= saa_data.loc[s, 'F'] + saa_data.loc[s, 'B'] - 200 * m.yFB[s]\n",
    "\n",
    "@m.Constraint()\n",
    "def loyaltyFB_disjuct(m):\n",
    "    return pyo.summation(m.yFB) <= 0.05 * N\n",
    "\n",
    "pyo.SolverFactory('cbc').solve(m)\n",
    "seats, sold, unsold, spillage = report(m, seat_data, saa_data)\n",
    "\n",
    "display(seats)"
   ]
  },
  {
   "cell_type": "code",
   "execution_count": 453,
   "id": "a04254c1-337d-4580-8100-be70ef7b8b01",
   "metadata": {
    "ExecuteTime": {
     "end_time": "2022-09-30T21:49:08.708126Z",
     "start_time": "2022-09-30T21:49:07.626836Z"
    }
   },
   "outputs": [
    {
     "name": "stdout",
     "output_type": "stream",
     "text": [
      "\n",
      "Sold Seats\n"
     ]
    },
    {
     "data": {
      "image/png": "[encoded data removed]",
      "text/plain": [
       "<Figure size 864x216 with 3 Axes>"
      ]
     },
     "metadata": {
      "filenames": {
       "image/png": "/Users/jeff/Google Drive/GitHub/cbe60455/_build/jupyter_execute/notebooks/04/airline-seating_24_1.png"
      },
      "needs_background": "light"
     },
     "output_type": "display_data"
    }
   ],
   "source": [
    "print(\"\\nSold Seats\")\n",
    "sold.hist(layout=(1, 3), figsize=(12, 3), bins=20);"
   ]
  },
  {
   "cell_type": "code",
   "execution_count": 454,
   "id": "59ae9877-c839-4f20-9cbe-5bdfe28c5876",
   "metadata": {
    "ExecuteTime": {
     "end_time": "2022-09-30T21:49:08.708126Z",
     "start_time": "2022-09-30T21:49:07.626836Z"
    }
   },
   "outputs": [
    {
     "name": "stdout",
     "output_type": "stream",
     "text": [
      "\n",
      "Unsold Seats\n"
     ]
    },
    {
     "data": {
      "image/png": "[encoded data removed]",
      "text/plain": [
       "<Figure size 864x216 with 3 Axes>"
      ]
     },
     "metadata": {
      "filenames": {
       "image/png": "/Users/jeff/Google Drive/GitHub/cbe60455/_build/jupyter_execute/notebooks/04/airline-seating_25_1.png"
      },
      "needs_background": "light"
     },
     "output_type": "display_data"
    }
   ],
   "source": [
    "print(\"\\nUnsold Seats\")\n",
    "unsold.hist(layout=(1, 3), figsize=(12, 3), bins=20);"
   ]
  },
  {
   "cell_type": "code",
   "execution_count": 455,
   "id": "11e6b46e-55d7-43ba-939d-90dcebd5235d",
   "metadata": {
    "ExecuteTime": {
     "end_time": "2022-09-30T21:49:08.708126Z",
     "start_time": "2022-09-30T21:49:07.626836Z"
    }
   },
   "outputs": [
    {
     "name": "stdout",
     "output_type": "stream",
     "text": [
      "\n",
      "Spillage\n"
     ]
    },
    {
     "data": {
      "image/png": "[encoded data removed]",
      "text/plain": [
       "<Figure size 864x216 with 3 Axes>"
      ]
     },
     "metadata": {
      "filenames": {
       "image/png": "/Users/jeff/Google Drive/GitHub/cbe60455/_build/jupyter_execute/notebooks/04/airline-seating_26_1.png"
      },
      "needs_background": "light"
     },
     "output_type": "display_data"
    }
   ],
   "source": [
    "print(\"\\nSpillage\")\n",
    "spillage.hist(layout=(1, 3), figsize=(12, 3), bins=20);"
   ]
  },
  {
   "cell_type": "code",
   "execution_count": null,
   "id": "8f2175bd-b182-43cf-a151-68b6a4128f95",
   "metadata": {},
   "outputs": [],
   "source": []
  }
 ],
 "metadata": {
  "kernelspec": {
   "display_name": "Python 3 (ipykernel)",
   "language": "python",
   "name": "python3"
  },
  "language_info": {
   "codemirror_mode": {
    "name": "ipython",
    "version": 3
   },
   "file_extension": ".py",
   "mimetype": "text/x-python",
   "name": "python",
   "nbconvert_exporter": "python",
   "pygments_lexer": "ipython3",
   "version": "3.9.7"
  },
  "varInspector": {
   "cols": {
    "lenName": 16,
    "lenType": 16,
    "lenVar": 40
   },
   "kernels_config": {
    "python": {
     "delete_cmd_postfix": "",
     "delete_cmd_prefix": "del ",
     "library": "var_list.py",
     "varRefreshCmd": "print(var_dic_list())"
    },
    "r": {
     "delete_cmd_postfix": ") ",
     "delete_cmd_prefix": "rm(",
     "library": "var_list.r",
     "varRefreshCmd": "cat(var_dic_list()) "
    }
   },
   "types_to_exclude": [
    "module",
    "function",
    "builtin_function_or_method",
    "instance",
    "_Feature"
   ],
   "window_display": false
  }
 },
 "nbformat": 4,
 "nbformat_minor": 5
}