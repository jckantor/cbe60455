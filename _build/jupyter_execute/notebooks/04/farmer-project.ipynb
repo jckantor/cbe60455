{
 "cells": [
  {
   "cell_type": "markdown",
   "id": "8a57cf99-9019-4022-9546-4f86b1d9ca88",
   "metadata": {
    "ExecuteTime": {
     "end_time": "2022-09-30T21:49:22.516232Z",
     "start_time": "2022-09-30T21:49:22.430418Z"
    }
   },
   "source": [
    "# Solving the Farmer's problem\n",
    "\n",
    "The [Farmer's Problem](https://www.math.uh.edu/~rohop/Spring_15/Chapter1.pdf) is a teaching example presented in the well-known textbook by John Birge and Francois Louveaux.\n",
    "\n",
    "* Birge, John R., and Francois Louveaux. Introduction to stochastic programming. Springer Science & Business Media, 2011."
   ]
  },
  {
   "cell_type": "code",
   "execution_count": 1,
   "id": "9720e9d1",
   "metadata": {
    "ExecuteTime": {
     "end_time": "2022-09-30T21:49:20.540447Z",
     "start_time": "2022-09-30T21:49:20.292334Z"
    }
   },
   "outputs": [
    {
     "name": "stdout",
     "output_type": "stream",
     "text": [
      "pyomo was previously installed\n",
      "glpk was previously installed\n",
      "cbc was previously installed\n",
      "ipopt was previously installed\n"
     ]
    },
    {
     "data": {
      "text/plain": [
       "True"
      ]
     },
     "execution_count": 1,
     "metadata": {},
     "output_type": "execute_result"
    }
   ],
   "source": [
    "# install Pyomo and solvers\n",
    "import requests\n",
    "import types\n",
    "\n",
    "url = \"https://raw.githubusercontent.com/mobook/MO-book/main/python/helper.py\"\n",
    "helper = types.ModuleType(\"helper\")\n",
    "exec(requests.get(url).content, helper.__dict__)\n",
    "\n",
    "helper.install_pyomo()\n",
    "helper.install_glpk()\n",
    "helper.install_cbc()\n",
    "helper.install_ipopt()"
   ]
  },
  {
   "cell_type": "code",
   "execution_count": 2,
   "id": "330cd1f1",
   "metadata": {
    "ExecuteTime": {
     "end_time": "2022-09-30T21:49:22.291926Z",
     "start_time": "2022-09-30T21:49:20.543823Z"
    }
   },
   "outputs": [],
   "source": [
    "import pyomo.environ as pyo\n",
    "import numpy as np\n",
    "import pandas as pd\n",
    "import matplotlib.pyplot as plt"
   ]
  },
  {
   "cell_type": "markdown",
   "id": "4bdf92e9-c0b8-407e-8db3-817896abeadd",
   "metadata": {
    "ExecuteTime": {
     "end_time": "2022-09-30T21:49:22.516232Z",
     "start_time": "2022-09-30T21:49:22.430418Z"
    }
   },
   "source": [
    "## Problem Statement\n",
    "\n",
    "In the [farmer's problem](https://www.math.uh.edu/~rohop/Spring_15/Chapter1.pdf), a European farmer has to allocate 500 acres of land to three different crops (wheat, corn, and sugar beets) aiming to maximize profit. \n",
    "\n",
    "* Planting one acre of wheat, corn and beet costs \\\\$150, \\\\$230 and \\\\$260, respectively.\n",
    "\n",
    "* The mean yields are 2.5, 3.0, and 20.0 tons per acre for wheat, corn, and sugar beets, respectively. However, the yields can vary up to 25% from nominal conditions depending on weather.\n",
    "\n",
    "* At least 200 tons of wheat and 240 tons of corn are needed for cattle feed. These can be raised on the farm or purchased from a wholesaler. \n",
    "\n",
    "* Over the last decade, mean selling prices have been \\\\$170 and \\\\$150 per ton of wheat and corn, respectively. The purchase prices are 40% more due to wholesaler's margins and transportation costs.\n",
    "\n",
    "* Sugar beets are a profitable crop expected to sell at \\\\$36 per ton, but there is a quota on sugar beet production. Any amount in excess of the quota can be sold at only \\\\$10 per ton. The farmer's  quota for next year is 6,000 tons.\n",
    "\n",
    "After collecting this data, the farmer is unsure how to allocate the land among the three crops. So the farmer has hired you as a consultant to develop a model. After interviewing the farmer, you have determined you need to present three solutions for the farmer to consider:\n",
    "\n",
    "1. The first solution should represent the mean solution. How should the farmer allocate land to maximize profits under mean conditions.\n",
    "\n",
    "2. The second solution should consider the potential impact of weather. How should the farmer allocate land to maximize expected profit if the yields could go up or down by 20% due to weather conditions? What is the profit under each scenario?\n",
    "\n",
    "3. During your interview you learned the farmer needs a minimal profit each year to stay in business. How would you allocate land use to maximize the worst case profit?  \n",
    "\n",
    "4. Determine the tradeoff between risk and return by computing the mean expected profit when the minimum required profit is the worst case found in part 3, and \\\\$58,000, \\\\$56,000, \\\\$54,000, \\\\$52,000, \\\\$50,000, and \\\\$48,000. Compare these solutions to part 2 by plotting the expected loss in profit. \n",
    "\n",
    "5. What would be your advice to the farmer regarding land allocation?"
   ]
  },
  {
   "cell_type": "markdown",
   "id": "a5555bbd-5865-412a-8933-eceab4f29ceb",
   "metadata": {
    "ExecuteTime": {
     "end_time": "2022-09-30T21:49:22.516232Z",
     "start_time": "2022-09-30T21:49:22.430418Z"
    }
   },
   "source": [
    "## Data Summary\n",
    "\n",
    "| Scenario | Yield for wheat <br> (tons/acre)| Yield for corn <br> (tons/acre) | Yield for beets <br> (tons/acre) |\n",
    "| :-- | :-: | :-: | :-: |\n",
    "| Good weather | 3 | 3.6 | 24 |\n",
    "| Average weather | 2.5 | 3 | 20 |\n",
    "| Bad weather | 2 | 2.4 | 16 |\n",
    "\n",
    "We first consider the case in which all the prices are fixed and not weather-dependent. The following table summarizes the data.\n",
    "\n",
    "| Commodity | Sell Price <br> (euro/ton) | Market <br> Demand <br> (tons) | Purchase <br> Price <br> (euro/ton) | Cattle Feed <br> Required <br> (tons) | Planting <br> Cost <br> (euro/acre) |\n",
    "| :-- | :--: | :--: | :--: | :--: | :--: |\n",
    "| Wheat | 170 | - | 238 | 200 | 150 |\n",
    "| Corn | 150 | - | 210 | 240 | 230 |\n",
    "| Beets | 36 | 6000 | - | 0 | 260 | 6000 |\n",
    "| Beets extra | 10 | - | - | 0 | 260 |\n",
    "\n",
    "(a) Implement the extensive form of stochastic LP corresponding to the farmer's problem in Pyomo and solve it."
   ]
  }
 ],
 "metadata": {
  "kernelspec": {
   "display_name": "Python 3 (ipykernel)",
   "language": "python",
   "name": "python3"
  },
  "language_info": {
   "codemirror_mode": {
    "name": "ipython",
    "version": 3
   },
   "file_extension": ".py",
   "mimetype": "text/x-python",
   "name": "python",
   "nbconvert_exporter": "python",
   "pygments_lexer": "ipython3",
   "version": "3.9.7"
  },
  "varInspector": {
   "cols": {
    "lenName": 16,
    "lenType": 16,
    "lenVar": 40
   },
   "kernels_config": {
    "python": {
     "delete_cmd_postfix": "",
     "delete_cmd_prefix": "del ",
     "library": "var_list.py",
     "varRefreshCmd": "print(var_dic_list())"
    },
    "r": {
     "delete_cmd_postfix": ") ",
     "delete_cmd_prefix": "rm(",
     "library": "var_list.r",
     "varRefreshCmd": "cat(var_dic_list()) "
    }
   },
   "types_to_exclude": [
    "module",
    "function",
    "builtin_function_or_method",
    "instance",
    "_Feature"
   ],
   "window_display": false
  }
 },
 "nbformat": 4,
 "nbformat_minor": 5
}