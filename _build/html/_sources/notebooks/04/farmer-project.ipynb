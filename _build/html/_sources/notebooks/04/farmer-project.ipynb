{
 "cells": [
  {
   "cell_type": "markdown",
   "id": "8a57cf99-9019-4022-9546-4f86b1d9ca88",
   "metadata": {
    "ExecuteTime": {
     "end_time": "2022-09-30T21:49:22.516232Z",
     "start_time": "2022-09-30T21:49:22.430418Z"
    }
   },
   "source": [
    "# Solving the Farmer's problem\n",
    "\n",
    "The [Farmer's Problem](https://www.math.uh.edu/~rohop/Spring_15/Chapter1.pdf) is a teaching example presented in the well-known textbook by John Birge and Francois Louveaux.\n",
    "\n",
    "* Birge, John R., and Francois Louveaux. Introduction to stochastic programming. Springer Science & Business Media, 2011."
   ]
  },
  {
   "cell_type": "code",
   "execution_count": 1,
   "id": "9720e9d1",
   "metadata": {
    "ExecuteTime": {
     "end_time": "2022-09-30T21:49:20.540447Z",
     "start_time": "2022-09-30T21:49:20.292334Z"
    }
   },
   "outputs": [
    {
     "name": "stdout",
     "output_type": "stream",
     "text": [
      "pyomo was previously installed\n",
      "cbc was previously installed\n"
     ]
    },
    {
     "data": {
      "text/plain": [
       "True"
      ]
     },
     "execution_count": 1,
     "metadata": {},
     "output_type": "execute_result"
    }
   ],
   "source": [
    "# install Pyomo and solvers\n",
    "import requests\n",
    "import types\n",
    "\n",
    "url = \"https://raw.githubusercontent.com/mobook/MO-book/main/python/helper.py\"\n",
    "helper = types.ModuleType(\"helper\")\n",
    "exec(requests.get(url).content, helper.__dict__)\n",
    "\n",
    "helper.install_pyomo()\n",
    "helper.install_cbc()"
   ]
  },
  {
   "cell_type": "code",
   "execution_count": 3,
   "id": "330cd1f1",
   "metadata": {
    "ExecuteTime": {
     "end_time": "2022-09-30T21:49:22.291926Z",
     "start_time": "2022-09-30T21:49:20.543823Z"
    }
   },
   "outputs": [],
   "source": [
    "import numpy as np\n",
    "import pandas as pd\n",
    "import matplotlib.pyplot as plt\n",
    "import pyomo.environ as pyo"
   ]
  },
  {
   "cell_type": "markdown",
   "id": "4bdf92e9-c0b8-407e-8db3-817896abeadd",
   "metadata": {
    "ExecuteTime": {
     "end_time": "2022-09-30T21:49:22.516232Z",
     "start_time": "2022-09-30T21:49:22.430418Z"
    }
   },
   "source": [
    "## Problem Statement\n",
    "\n",
    "In the [farmer's problem](https://www.math.uh.edu/~rohop/Spring_15/Chapter1.pdf), a European farmer has to allocate 500 acres of land to three different crops (wheat, corn, and sugar beets) aiming to maximize profit. \n",
    "\n",
    "* Planting one acre of wheat, corn and beet costs \\\\$150, \\\\$230 and \\\\$260, respectively.\n",
    "\n",
    "* The mean yields are 2.5, 3.0, and 20.0 tons per acre for wheat, corn, and sugar beets, respectively. However, the yields can vary up to 25% from nominal conditions depending on weather.\n",
    "\n",
    "* At least 200 tons of wheat and 240 tons of corn are needed for cattle feed. These can be raised on the farm or purchased from a wholesaler. \n",
    "\n",
    "* Over the last decade, mean selling prices have been \\\\$170 and \\\\$150 per ton of wheat and corn, respectively. The purchase prices are 40% more due to wholesaler's margins and transportation costs.\n",
    "\n",
    "* Sugar beets are a profitable crop expected to sell at \\\\$36 per ton, but there is a quota on sugar beet production. Any amount in excess of the quota can be sold at only \\\\$10 per ton. The farmer's  quota for next year is 6,000 tons.\n",
    "\n",
    "After collecting this data, the farmer is unsure how to allocate the land among the three crops. So the farmer has hired you as a consultant to develop a model. After interviewing the farmer, you have determined you need to present three solutions for the farmer to consider:\n",
    "\n",
    "1. The first solution should represent the mean solution. How should the farmer allocate land to maximize profits under mean conditions.\n",
    "\n",
    "2. The second solution should consider the potential impact of weather. How should the farmer allocate land to maximize expected profit if the yields could go up or down by 20% due to weather conditions? What is the profit under each scenario?\n",
    "\n",
    "3. During your interview you learned the farmer needs a minimal profit each year to stay in business. How would you allocate land use to maximize the worst case profit?  \n",
    "\n",
    "4. Determine the tradeoff between risk and return by computing the mean expected profit when the minimum required profit is the worst case found in part 3, and \\\\$58,000, \\\\$56,000, \\\\$54,000, \\\\$52,000, \\\\$50,000, and \\\\$48,000. Compare these solutions to part 2 by plotting the expected loss in profit. \n",
    "\n",
    "5. What would be your advice to the farmer regarding land allocation?"
   ]
  },
  {
   "cell_type": "markdown",
   "id": "a5555bbd-5865-412a-8933-eceab4f29ceb",
   "metadata": {
    "ExecuteTime": {
     "end_time": "2022-09-30T21:49:22.516232Z",
     "start_time": "2022-09-30T21:49:22.430418Z"
    }
   },
   "source": [
    "## Data Summary\n",
    "\n",
    "| Scenario | Yield for wheat <br> (tons/acre)| Yield for corn <br> (tons/acre) | Yield for beets <br> (tons/acre) |\n",
    "| :-- | :-: | :-: | :-: |\n",
    "| Good weather | 3 | 3.6 | 24 |\n",
    "| Average weather | 2.5 | 3 | 20 |\n",
    "| Bad weather | 2 | 2.4 | 16 |\n",
    "\n",
    "We first consider the case in which all the prices are fixed and not weather-dependent. The following table summarizes the data.\n",
    "\n",
    "| Commodity | Sell <br> Price <br> (euro/ton) | Market <br> Demand <br> (tons) | Buy <br> Price <br> (euro/ton) | Cattle Feed <br> Required <br> (tons) | Planting <br> Cost <br> (euro/acre) |\n",
    "| :-- | :--: | :--: | :--: | :--: | :--: |\n",
    "| Wheat | 170 | - | 238 | 200 | 150 |\n",
    "| Corn | 150 | - | 210 | 240 | 230 |\n",
    "| Beets | 36 | 6000 | - | 0 | 260 | 6000 |\n",
    "| Beets extra | 10 | - | - | 0 | 260 |\n"
   ]
  },
  {
   "cell_type": "markdown",
   "id": "4b603542-8a50-42dc-8327-412d771d8beb",
   "metadata": {},
   "source": [
    "## Data Modeling"
   ]
  },
  {
   "cell_type": "code",
   "execution_count": 28,
   "id": "b2e950c8-7a4e-41e1-b0a3-940bed3714c2",
   "metadata": {},
   "outputs": [
    {
     "data": {
      "text/html": [
       "<div>\n",
       "<style scoped>\n",
       "    .dataframe tbody tr th:only-of-type {\n",
       "        vertical-align: middle;\n",
       "    }\n",
       "\n",
       "    .dataframe tbody tr th {\n",
       "        vertical-align: top;\n",
       "    }\n",
       "\n",
       "    .dataframe thead th {\n",
       "        text-align: right;\n",
       "    }\n",
       "</style>\n",
       "<table border=\"1\" class=\"dataframe\">\n",
       "  <thead>\n",
       "    <tr style=\"text-align: right;\">\n",
       "      <th></th>\n",
       "      <th>sell</th>\n",
       "      <th>buy</th>\n",
       "      <th>required</th>\n",
       "      <th>cost</th>\n",
       "      <th>demand</th>\n",
       "    </tr>\n",
       "  </thead>\n",
       "  <tbody>\n",
       "    <tr>\n",
       "      <th>wheat</th>\n",
       "      <td>170.0</td>\n",
       "      <td>238.0</td>\n",
       "      <td>200.0</td>\n",
       "      <td>150.0</td>\n",
       "      <td>20000.0</td>\n",
       "    </tr>\n",
       "    <tr>\n",
       "      <th>corn</th>\n",
       "      <td>150.0</td>\n",
       "      <td>210.0</td>\n",
       "      <td>240.0</td>\n",
       "      <td>230.0</td>\n",
       "      <td>20000.0</td>\n",
       "    </tr>\n",
       "    <tr>\n",
       "      <th>beets</th>\n",
       "      <td>36.0</td>\n",
       "      <td>20000.0</td>\n",
       "      <td>0.0</td>\n",
       "      <td>260.0</td>\n",
       "      <td>6000.0</td>\n",
       "    </tr>\n",
       "    <tr>\n",
       "      <th>more beets</th>\n",
       "      <td>10.0</td>\n",
       "      <td>20000.0</td>\n",
       "      <td>0.0</td>\n",
       "      <td>260.0</td>\n",
       "      <td>20000.0</td>\n",
       "    </tr>\n",
       "  </tbody>\n",
       "</table>\n",
       "</div>"
      ],
      "text/plain": [
       "             sell      buy  required   cost   demand\n",
       "wheat       170.0    238.0     200.0  150.0  20000.0\n",
       "corn        150.0    210.0     240.0  230.0  20000.0\n",
       "beets        36.0  20000.0       0.0  260.0   6000.0\n",
       "more beets   10.0  20000.0       0.0  260.0  20000.0"
      ]
     },
     "metadata": {},
     "output_type": "display_data"
    }
   ],
   "source": [
    "commodities = pd.DataFrame({\n",
    "    \"wheat\": {\"sell\": 170, \"buy\": 238, \"required\": 200, \"cost\": 150},\n",
    "    \"corn\": {\"sell\": 150,  \"buy\": 210, \"required\": 240, \"cost\": 230},\n",
    "    \"beets\": {\"sell\": 36, \"demand\": 6000, \"required\": 0, \"cost\": 260},\n",
    "    \"more beets\": {\"sell\": 10, \"required\": 0, \"cost\": 260},\n",
    "}).T\n",
    "\n",
    "# fill NaN with a \"Big M\"\n",
    "M = 20000\n",
    "commodities[\"buy\"].fillna(M, inplace=True)\n",
    "commodities[\"demand\"].fillna(M, inplace=True)\n",
    "\n",
    "display(commodities)"
   ]
  },
  {
   "cell_type": "code",
   "execution_count": 29,
   "id": "d747fa6a-117a-4828-804b-01a0fa7da3ba",
   "metadata": {},
   "outputs": [
    {
     "data": {
      "text/html": [
       "<div>\n",
       "<style scoped>\n",
       "    .dataframe tbody tr th:only-of-type {\n",
       "        vertical-align: middle;\n",
       "    }\n",
       "\n",
       "    .dataframe tbody tr th {\n",
       "        vertical-align: top;\n",
       "    }\n",
       "\n",
       "    .dataframe thead th {\n",
       "        text-align: right;\n",
       "    }\n",
       "</style>\n",
       "<table border=\"1\" class=\"dataframe\">\n",
       "  <thead>\n",
       "    <tr style=\"text-align: right;\">\n",
       "      <th></th>\n",
       "      <th>wheat</th>\n",
       "      <th>corn</th>\n",
       "      <th>beets</th>\n",
       "      <th>more beets</th>\n",
       "    </tr>\n",
       "  </thead>\n",
       "  <tbody>\n",
       "    <tr>\n",
       "      <th>good</th>\n",
       "      <td>3.0</td>\n",
       "      <td>3.6</td>\n",
       "      <td>24.0</td>\n",
       "      <td>24.0</td>\n",
       "    </tr>\n",
       "    <tr>\n",
       "      <th>average</th>\n",
       "      <td>2.5</td>\n",
       "      <td>3.0</td>\n",
       "      <td>20.0</td>\n",
       "      <td>20.0</td>\n",
       "    </tr>\n",
       "    <tr>\n",
       "      <th>poor</th>\n",
       "      <td>2.0</td>\n",
       "      <td>2.4</td>\n",
       "      <td>16.0</td>\n",
       "      <td>16.0</td>\n",
       "    </tr>\n",
       "  </tbody>\n",
       "</table>\n",
       "</div>"
      ],
      "text/plain": [
       "         wheat  corn  beets  more beets\n",
       "good       3.0   3.6   24.0        24.0\n",
       "average    2.5   3.0   20.0        20.0\n",
       "poor       2.0   2.4   16.0        16.0"
      ]
     },
     "metadata": {},
     "output_type": "display_data"
    }
   ],
   "source": [
    "yields = pd.DataFrame({\n",
    "    \"good\":    {\"wheat\": 3.0, \"corn\": 3.6, \"beets\": 24, \"more beets\": 24},\n",
    "    \"average\": {\"wheat\": 2.5, \"corn\": 3.0, \"beets\": 20, \"more beets\": 20},\n",
    "    \"poor\":    {\"wheat\": 2.0, \"corn\": 2.4, \"beets\": 16, \"more beets\": 16},\n",
    "}).T\n",
    "display(yields)"
   ]
  },
  {
   "cell_type": "markdown",
   "id": "305c53e5-7705-46d4-8b0f-86b02195c189",
   "metadata": {},
   "source": [
    "## Farm Simulation"
   ]
  },
  {
   "cell_type": "code",
   "execution_count": 40,
   "id": "f5997110-a8d7-4a62-a1e6-ae9110d40b6d",
   "metadata": {},
   "outputs": [
    {
     "data": {
      "text/plain": [
       "wheat         100\n",
       "corn          200\n",
       "beets         200\n",
       "more beets      0\n",
       "dtype: int64"
      ]
     },
     "metadata": {},
     "output_type": "display_data"
    },
    {
     "name": "stdout",
     "output_type": "stream",
     "text": [
      "\n",
      "Scenario: good\n"
     ]
    },
    {
     "data": {
      "text/html": [
       "<div>\n",
       "<style scoped>\n",
       "    .dataframe tbody tr th:only-of-type {\n",
       "        vertical-align: middle;\n",
       "    }\n",
       "\n",
       "    .dataframe tbody tr th {\n",
       "        vertical-align: top;\n",
       "    }\n",
       "\n",
       "    .dataframe thead th {\n",
       "        text-align: right;\n",
       "    }\n",
       "</style>\n",
       "<table border=\"1\" class=\"dataframe\">\n",
       "  <thead>\n",
       "    <tr style=\"text-align: right;\">\n",
       "      <th></th>\n",
       "      <th>plant</th>\n",
       "    </tr>\n",
       "  </thead>\n",
       "  <tbody>\n",
       "    <tr>\n",
       "      <th>wheat</th>\n",
       "      <td>100</td>\n",
       "    </tr>\n",
       "    <tr>\n",
       "      <th>corn</th>\n",
       "      <td>200</td>\n",
       "    </tr>\n",
       "    <tr>\n",
       "      <th>beets</th>\n",
       "      <td>200</td>\n",
       "    </tr>\n",
       "    <tr>\n",
       "      <th>more beets</th>\n",
       "      <td>0</td>\n",
       "    </tr>\n",
       "  </tbody>\n",
       "</table>\n",
       "</div>"
      ],
      "text/plain": [
       "            plant\n",
       "wheat         100\n",
       "corn          200\n",
       "beets         200\n",
       "more beets      0"
      ]
     },
     "metadata": {},
     "output_type": "display_data"
    },
    {
     "name": "stdout",
     "output_type": "stream",
     "text": [
      "\n",
      "Scenario: average\n"
     ]
    },
    {
     "data": {
      "text/html": [
       "<div>\n",
       "<style scoped>\n",
       "    .dataframe tbody tr th:only-of-type {\n",
       "        vertical-align: middle;\n",
       "    }\n",
       "\n",
       "    .dataframe tbody tr th {\n",
       "        vertical-align: top;\n",
       "    }\n",
       "\n",
       "    .dataframe thead th {\n",
       "        text-align: right;\n",
       "    }\n",
       "</style>\n",
       "<table border=\"1\" class=\"dataframe\">\n",
       "  <thead>\n",
       "    <tr style=\"text-align: right;\">\n",
       "      <th></th>\n",
       "      <th>plant</th>\n",
       "    </tr>\n",
       "  </thead>\n",
       "  <tbody>\n",
       "    <tr>\n",
       "      <th>wheat</th>\n",
       "      <td>100</td>\n",
       "    </tr>\n",
       "    <tr>\n",
       "      <th>corn</th>\n",
       "      <td>200</td>\n",
       "    </tr>\n",
       "    <tr>\n",
       "      <th>beets</th>\n",
       "      <td>200</td>\n",
       "    </tr>\n",
       "    <tr>\n",
       "      <th>more beets</th>\n",
       "      <td>0</td>\n",
       "    </tr>\n",
       "  </tbody>\n",
       "</table>\n",
       "</div>"
      ],
      "text/plain": [
       "            plant\n",
       "wheat         100\n",
       "corn          200\n",
       "beets         200\n",
       "more beets      0"
      ]
     },
     "metadata": {},
     "output_type": "display_data"
    },
    {
     "name": "stdout",
     "output_type": "stream",
     "text": [
      "\n",
      "Scenario: poor\n"
     ]
    },
    {
     "data": {
      "text/html": [
       "<div>\n",
       "<style scoped>\n",
       "    .dataframe tbody tr th:only-of-type {\n",
       "        vertical-align: middle;\n",
       "    }\n",
       "\n",
       "    .dataframe tbody tr th {\n",
       "        vertical-align: top;\n",
       "    }\n",
       "\n",
       "    .dataframe thead th {\n",
       "        text-align: right;\n",
       "    }\n",
       "</style>\n",
       "<table border=\"1\" class=\"dataframe\">\n",
       "  <thead>\n",
       "    <tr style=\"text-align: right;\">\n",
       "      <th></th>\n",
       "      <th>plant</th>\n",
       "    </tr>\n",
       "  </thead>\n",
       "  <tbody>\n",
       "    <tr>\n",
       "      <th>wheat</th>\n",
       "      <td>100</td>\n",
       "    </tr>\n",
       "    <tr>\n",
       "      <th>corn</th>\n",
       "      <td>200</td>\n",
       "    </tr>\n",
       "    <tr>\n",
       "      <th>beets</th>\n",
       "      <td>200</td>\n",
       "    </tr>\n",
       "    <tr>\n",
       "      <th>more beets</th>\n",
       "      <td>0</td>\n",
       "    </tr>\n",
       "  </tbody>\n",
       "</table>\n",
       "</div>"
      ],
      "text/plain": [
       "            plant\n",
       "wheat         100\n",
       "corn          200\n",
       "beets         200\n",
       "more beets      0"
      ]
     },
     "metadata": {},
     "output_type": "display_data"
    }
   ],
   "source": [
    "plant = pd.Series({\"wheat\": 100, \"corn\": 200, \"beets\": 200, \"more beets\": 0})\n",
    "\n",
    "def sim_farm(plant, commodities, yields):\n",
    "    scenarios = yields.index\n",
    "    crops = commodities.index\n",
    "    for s in scenarios:\n",
    "        print(f\"\\nScenario: {s}\")\n",
    "        df = pd.DataFrame()\n",
    "        df[\"plant\"] = pd.Series({c: plant[c] for c in crops})\n",
    "        display(df)\n",
    "    return\n",
    "    \n",
    "\n",
    "display(plant)\n",
    "sim_farm(plant, commodities, yields)"
   ]
  },
  {
   "cell_type": "markdown",
   "id": "bdb1ffea-d504-49aa-b985-2974808b0dad",
   "metadata": {},
   "source": [
    "## Model Building"
   ]
  },
  {
   "cell_type": "markdown",
   "id": "6cb1b583-211f-4a2a-beaf-d3a7d869a97b",
   "metadata": {},
   "source": [
    "## 1. Mean Solution"
   ]
  },
  {
   "cell_type": "code",
   "execution_count": 9,
   "id": "ab97bf99-d50c-4c19-9625-853c50b9c6a0",
   "metadata": {},
   "outputs": [
    {
     "ename": "AttributeError",
     "evalue": "'IndexedVar' object has no attribute 'dislay'",
     "output_type": "error",
     "traceback": [
      "\u001b[0;31m---------------------------------------------------------------------------\u001b[0m",
      "\u001b[0;31mAttributeError\u001b[0m                            Traceback (most recent call last)",
      "Input \u001b[0;32mIn [9]\u001b[0m, in \u001b[0;36m<cell line: 9>\u001b[0;34m()\u001b[0m\n\u001b[1;32m      6\u001b[0m     \u001b[38;5;28;01mreturn\u001b[39;00m m\u001b[38;5;241m.\u001b[39mmean_profit\n\u001b[1;32m      8\u001b[0m pyo\u001b[38;5;241m.\u001b[39mSolverFactory(\u001b[38;5;124m'\u001b[39m\u001b[38;5;124mcbc\u001b[39m\u001b[38;5;124m'\u001b[39m)\u001b[38;5;241m.\u001b[39msolve(m)\n\u001b[0;32m----> 9\u001b[0m \u001b[43mm\u001b[49m\u001b[38;5;241;43m.\u001b[39;49m\u001b[43mplant\u001b[49m\u001b[38;5;241;43m.\u001b[39;49m\u001b[43mdislay\u001b[49m()\n\u001b[1;32m     11\u001b[0m show_farmer(m)\n",
      "\u001b[0;31mAttributeError\u001b[0m: 'IndexedVar' object has no attribute 'dislay'"
     ]
    }
   ],
   "source": [
    "m = farmer(commodities, pd.DataFrame(yields.mean(), columns=[\"mean\"]).T)\n",
    "\n",
    "# maximize mean profit\n",
    "@m.Objective(sense=pyo.maximize)\n",
    "def objective(m):\n",
    "    return m.mean_profit\n",
    "\n",
    "pyo.SolverFactory('cbc').solve(m)\n",
    "m.plant.dislay()\n",
    "\n",
    "show_farmer(m)"
   ]
  },
  {
   "cell_type": "markdown",
   "id": "fd7d91a0-843a-4e9f-8d6c-a38363ab8f32",
   "metadata": {},
   "source": [
    "## 2. Stochastic Solution\n"
   ]
  },
  {
   "cell_type": "markdown",
   "id": "86d44583-34a3-49f5-8c91-511c1501731f",
   "metadata": {},
   "source": [
    "The problem statement asks for a number of different analyses. In a consulting situation, it is possible the client would ask more \"what if\" questions after hearing the initial results. For these reasons, we build a function that returns a Pyomo model the variables and expressions needed to address all parts of the problem. "
   ]
  },
  {
   "cell_type": "code",
   "execution_count": 12,
   "id": "d1fb90b8-d093-4cd0-b69d-5159bb8253b8",
   "metadata": {},
   "outputs": [],
   "source": [
    "import pyomo.environ as pyo\n",
    "\n",
    "def farmer(commodities, yields, total_land=500):\n",
    "    \n",
    "    m = pyo.ConcreteModel(\"Farmer's Problem\")\n",
    "\n",
    "    m.CROPS = pyo.Set(initialize=commodities.index)\n",
    "    m.SCENARIOS = pyo.Set(initialize=yields.index)\n",
    "\n",
    "    # mutable parameters\n",
    "    m.total_land = pyo.Param(initialize=total_land, mutable=True)\n",
    "\n",
    "    # here and now (first stage) decision variables\n",
    "    m.plant = pyo.Var(m.CROPS, domain=pyo.NonNegativeReals, bounds=(0, m.total_land))\n",
    "\n",
    "    # wait and see (recourse, or second stage) decision variables\n",
    "    m.produce = pyo.Var(m.SCENARIOS, m.CROPS, domain=pyo.NonNegativeReals)\n",
    "    m.sell = pyo.Var(m.SCENARIOS, m.CROPS, domain=pyo.NonNegativeReals)\n",
    "    m.buy = pyo.Var(m.SCENARIOS, m.CROPS, domain=pyo.NonNegativeReals)\n",
    "    m.worst_case_profit = pyo.Var()\n",
    "\n",
    "    # first stage\n",
    "    \n",
    "    @m.Constraint()\n",
    "    def limit_on_planted_land(m):\n",
    "        return sum(m.plant[c] for c in m.CROPS) <= m.total_land\n",
    "    \n",
    "    @m.Expression(m.CROPS)\n",
    "    def planting_cost(m, c):\n",
    "        return m.plant[c] * commodities.loc[c, \"cost\"]\n",
    "\n",
    "    # second stage constraints\n",
    "    \n",
    "    @m.Constraint(m.SCENARIOS, m.CROPS)\n",
    "    def crops_produced(m, s, c):\n",
    "        return m.produce[s, c] == yields.loc[s, c] * m.plant[c]\n",
    "\n",
    "    @m.Constraint(m.SCENARIOS, m.CROPS)\n",
    "    def buy_sell(m, s, c):\n",
    "        return m.produce[s, c] + m.buy[s, c] == m.sell[s, c] + commodities.loc[c, \"required\"] \n",
    "\n",
    "    @m.Constraint(m.SCENARIOS, m.CROPS)\n",
    "    def cannot_sell_more_than_demand(m, s, c):\n",
    "        return m.sell[s, c] <= commodities.loc[c, \"demand\"]\n",
    "\n",
    "    @m.Expression(m.SCENARIOS, m.CROPS)\n",
    "    def revenue(m, s, c):\n",
    "        return commodities.loc[c, \"sell\"] * m.sell[s, c]\n",
    "    \n",
    "    @m.Expression(m.SCENARIOS, m.CROPS)\n",
    "    def expense(m, s, c):\n",
    "        return m.planting_cost[c] + commodities.loc[c, \"buy\"] * m.buy[s, c] \n",
    "    \n",
    "    @m.Expression(m.SCENARIOS)\n",
    "    def scenario_profit(m, s):\n",
    "        return sum(m.revenue[s, c] - m.expense[s, c] for c in m.CROPS)\n",
    "    \n",
    "    @m.Constraint(m.SCENARIOS)\n",
    "    def worst_case_profit_definition(m, s):\n",
    "        return m.scenario_profit[s] >= m.worst_case_profit\n",
    "\n",
    "    @m.Expression()\n",
    "    def mean_profit(m):\n",
    "        return sum(m.scenario_profit[s] for s in m.SCENARIOS)/len(m.SCENARIOS)\n",
    "    \n",
    "    return m\n",
    "\n",
    "def sim_farmer(plant, commodities, yields):\n",
    "    retur\n",
    "\n",
    "def show_farmer(m):\n",
    "    m.scenario_profit.display()\n",
    "    m.mean_profit.display()\n",
    "    for s in m.SCENARIOS:\n",
    "        print(f\"\\nScenario: {s}\")\n",
    "        print(f\"    scenario profit = {m.scenario_profit[s]()}\")\n",
    "        df = pd.DataFrame()\n",
    "        df[\"plant\"] = pd.Series({c: m.plant[c]() for c in m.CROPS})\n",
    "        df[\"produce\"] = pd.Series({c: m.produce[s, c]() for c in m.CROPS})\n",
    "        df[\"buy\"] = pd.Series({c: m.buy[s, c]() for c in m.CROPS})\n",
    "        df[\"feed\"] = pd.Series({c: commodities.loc[c, \"required\"] for c in m.CROPS})\n",
    "        df[\"sell\"] = pd.Series({c: m.sell[s, c]() for c in m.CROPS})\n",
    "        df[\"revenue\"] = pd.Series({c: m.revenue[s, c]() for c in m.CROPS})\n",
    "        df[\"expense\"] = pd.Series({c: m.expense[s, c]() for c in m.CROPS})\n",
    "        display(df)\n",
    "\n"
   ]
  },
  {
   "cell_type": "code",
   "execution_count": 11,
   "id": "b7af496a-5ca2-4218-8499-461c26817abd",
   "metadata": {},
   "outputs": [
    {
     "name": "stdout",
     "output_type": "stream",
     "text": [
      "plant : Size=4, Index=CROPS\n",
      "    Key        : Lower : Value : Upper : Fixed : Stale : Domain\n",
      "         beets :     0 : 250.0 :   500 : False : False : NonNegativeReals\n",
      "          corn :     0 :  80.0 :   500 : False : False : NonNegativeReals\n",
      "    more beets :     0 :   0.0 :   500 : False : False : NonNegativeReals\n",
      "         wheat :     0 : 170.0 :   500 : False : False : NonNegativeReals\n",
      "scenario_profit : Size=3\n",
      "    Key     : Value\n",
      "    average : 109350.0\n",
      "       good : 167000.0\n",
      "       poor :  48820.0\n",
      "mean_profit : Size=1\n",
      "    Key  : Value\n",
      "    None : 108390.0\n",
      "\n",
      "Scenario: good\n",
      "    scenario profit = 167000.0\n"
     ]
    },
    {
     "data": {
      "text/html": [
       "<div>\n",
       "<style scoped>\n",
       "    .dataframe tbody tr th:only-of-type {\n",
       "        vertical-align: middle;\n",
       "    }\n",
       "\n",
       "    .dataframe tbody tr th {\n",
       "        vertical-align: top;\n",
       "    }\n",
       "\n",
       "    .dataframe thead th {\n",
       "        text-align: right;\n",
       "    }\n",
       "</style>\n",
       "<table border=\"1\" class=\"dataframe\">\n",
       "  <thead>\n",
       "    <tr style=\"text-align: right;\">\n",
       "      <th></th>\n",
       "      <th>plant</th>\n",
       "      <th>produce</th>\n",
       "      <th>buy</th>\n",
       "      <th>feed</th>\n",
       "      <th>sell</th>\n",
       "      <th>revenue</th>\n",
       "      <th>expense</th>\n",
       "    </tr>\n",
       "  </thead>\n",
       "  <tbody>\n",
       "    <tr>\n",
       "      <th>wheat</th>\n",
       "      <td>170.0</td>\n",
       "      <td>510.0</td>\n",
       "      <td>0.0</td>\n",
       "      <td>200</td>\n",
       "      <td>310.0</td>\n",
       "      <td>52700.0</td>\n",
       "      <td>25500.0</td>\n",
       "    </tr>\n",
       "    <tr>\n",
       "      <th>corn</th>\n",
       "      <td>80.0</td>\n",
       "      <td>288.0</td>\n",
       "      <td>0.0</td>\n",
       "      <td>240</td>\n",
       "      <td>48.0</td>\n",
       "      <td>7200.0</td>\n",
       "      <td>18400.0</td>\n",
       "    </tr>\n",
       "    <tr>\n",
       "      <th>beets</th>\n",
       "      <td>250.0</td>\n",
       "      <td>6000.0</td>\n",
       "      <td>0.0</td>\n",
       "      <td>0</td>\n",
       "      <td>6000.0</td>\n",
       "      <td>216000.0</td>\n",
       "      <td>65000.0</td>\n",
       "    </tr>\n",
       "    <tr>\n",
       "      <th>more beets</th>\n",
       "      <td>0.0</td>\n",
       "      <td>0.0</td>\n",
       "      <td>0.0</td>\n",
       "      <td>0</td>\n",
       "      <td>0.0</td>\n",
       "      <td>0.0</td>\n",
       "      <td>0.0</td>\n",
       "    </tr>\n",
       "  </tbody>\n",
       "</table>\n",
       "</div>"
      ],
      "text/plain": [
       "            plant  produce  buy  feed    sell   revenue  expense\n",
       "wheat       170.0    510.0  0.0   200   310.0   52700.0  25500.0\n",
       "corn         80.0    288.0  0.0   240    48.0    7200.0  18400.0\n",
       "beets       250.0   6000.0  0.0     0  6000.0  216000.0  65000.0\n",
       "more beets    0.0      0.0  0.0     0     0.0       0.0      0.0"
      ]
     },
     "metadata": {},
     "output_type": "display_data"
    },
    {
     "name": "stdout",
     "output_type": "stream",
     "text": [
      "\n",
      "Scenario: average\n",
      "    scenario profit = 109350.0\n"
     ]
    },
    {
     "data": {
      "text/html": [
       "<div>\n",
       "<style scoped>\n",
       "    .dataframe tbody tr th:only-of-type {\n",
       "        vertical-align: middle;\n",
       "    }\n",
       "\n",
       "    .dataframe tbody tr th {\n",
       "        vertical-align: top;\n",
       "    }\n",
       "\n",
       "    .dataframe thead th {\n",
       "        text-align: right;\n",
       "    }\n",
       "</style>\n",
       "<table border=\"1\" class=\"dataframe\">\n",
       "  <thead>\n",
       "    <tr style=\"text-align: right;\">\n",
       "      <th></th>\n",
       "      <th>plant</th>\n",
       "      <th>produce</th>\n",
       "      <th>buy</th>\n",
       "      <th>feed</th>\n",
       "      <th>sell</th>\n",
       "      <th>revenue</th>\n",
       "      <th>expense</th>\n",
       "    </tr>\n",
       "  </thead>\n",
       "  <tbody>\n",
       "    <tr>\n",
       "      <th>wheat</th>\n",
       "      <td>170.0</td>\n",
       "      <td>425.0</td>\n",
       "      <td>0.0</td>\n",
       "      <td>200</td>\n",
       "      <td>225.0</td>\n",
       "      <td>38250.0</td>\n",
       "      <td>25500.0</td>\n",
       "    </tr>\n",
       "    <tr>\n",
       "      <th>corn</th>\n",
       "      <td>80.0</td>\n",
       "      <td>240.0</td>\n",
       "      <td>0.0</td>\n",
       "      <td>240</td>\n",
       "      <td>0.0</td>\n",
       "      <td>0.0</td>\n",
       "      <td>18400.0</td>\n",
       "    </tr>\n",
       "    <tr>\n",
       "      <th>beets</th>\n",
       "      <td>250.0</td>\n",
       "      <td>5000.0</td>\n",
       "      <td>0.0</td>\n",
       "      <td>0</td>\n",
       "      <td>5000.0</td>\n",
       "      <td>180000.0</td>\n",
       "      <td>65000.0</td>\n",
       "    </tr>\n",
       "    <tr>\n",
       "      <th>more beets</th>\n",
       "      <td>0.0</td>\n",
       "      <td>0.0</td>\n",
       "      <td>0.0</td>\n",
       "      <td>0</td>\n",
       "      <td>0.0</td>\n",
       "      <td>0.0</td>\n",
       "      <td>0.0</td>\n",
       "    </tr>\n",
       "  </tbody>\n",
       "</table>\n",
       "</div>"
      ],
      "text/plain": [
       "            plant  produce  buy  feed    sell   revenue  expense\n",
       "wheat       170.0    425.0  0.0   200   225.0   38250.0  25500.0\n",
       "corn         80.0    240.0  0.0   240     0.0       0.0  18400.0\n",
       "beets       250.0   5000.0  0.0     0  5000.0  180000.0  65000.0\n",
       "more beets    0.0      0.0  0.0     0     0.0       0.0      0.0"
      ]
     },
     "metadata": {},
     "output_type": "display_data"
    },
    {
     "name": "stdout",
     "output_type": "stream",
     "text": [
      "\n",
      "Scenario: poor\n",
      "    scenario profit = 48820.0\n"
     ]
    },
    {
     "data": {
      "text/html": [
       "<div>\n",
       "<style scoped>\n",
       "    .dataframe tbody tr th:only-of-type {\n",
       "        vertical-align: middle;\n",
       "    }\n",
       "\n",
       "    .dataframe tbody tr th {\n",
       "        vertical-align: top;\n",
       "    }\n",
       "\n",
       "    .dataframe thead th {\n",
       "        text-align: right;\n",
       "    }\n",
       "</style>\n",
       "<table border=\"1\" class=\"dataframe\">\n",
       "  <thead>\n",
       "    <tr style=\"text-align: right;\">\n",
       "      <th></th>\n",
       "      <th>plant</th>\n",
       "      <th>produce</th>\n",
       "      <th>buy</th>\n",
       "      <th>feed</th>\n",
       "      <th>sell</th>\n",
       "      <th>revenue</th>\n",
       "      <th>expense</th>\n",
       "    </tr>\n",
       "  </thead>\n",
       "  <tbody>\n",
       "    <tr>\n",
       "      <th>wheat</th>\n",
       "      <td>170.0</td>\n",
       "      <td>340.0</td>\n",
       "      <td>0.0</td>\n",
       "      <td>200</td>\n",
       "      <td>140.0</td>\n",
       "      <td>23800.0</td>\n",
       "      <td>25500.0</td>\n",
       "    </tr>\n",
       "    <tr>\n",
       "      <th>corn</th>\n",
       "      <td>80.0</td>\n",
       "      <td>192.0</td>\n",
       "      <td>48.0</td>\n",
       "      <td>240</td>\n",
       "      <td>0.0</td>\n",
       "      <td>0.0</td>\n",
       "      <td>28480.0</td>\n",
       "    </tr>\n",
       "    <tr>\n",
       "      <th>beets</th>\n",
       "      <td>250.0</td>\n",
       "      <td>4000.0</td>\n",
       "      <td>0.0</td>\n",
       "      <td>0</td>\n",
       "      <td>4000.0</td>\n",
       "      <td>144000.0</td>\n",
       "      <td>65000.0</td>\n",
       "    </tr>\n",
       "    <tr>\n",
       "      <th>more beets</th>\n",
       "      <td>0.0</td>\n",
       "      <td>0.0</td>\n",
       "      <td>0.0</td>\n",
       "      <td>0</td>\n",
       "      <td>0.0</td>\n",
       "      <td>0.0</td>\n",
       "      <td>0.0</td>\n",
       "    </tr>\n",
       "  </tbody>\n",
       "</table>\n",
       "</div>"
      ],
      "text/plain": [
       "            plant  produce   buy  feed    sell   revenue  expense\n",
       "wheat       170.0    340.0   0.0   200   140.0   23800.0  25500.0\n",
       "corn         80.0    192.0  48.0   240     0.0       0.0  28480.0\n",
       "beets       250.0   4000.0   0.0     0  4000.0  144000.0  65000.0\n",
       "more beets    0.0      0.0   0.0     0     0.0       0.0      0.0"
      ]
     },
     "metadata": {},
     "output_type": "display_data"
    }
   ],
   "source": [
    "\n",
    "m = farmer(commodities, yields)\n",
    "\n",
    "# maximize mean profit\n",
    "@m.Objective(sense=pyo.maximize)\n",
    "def objective(m):\n",
    "    return m.mean_profit\n",
    "\n",
    "pyo.SolverFactory('cbc').solve(m)\n",
    "m.plant.display()\n",
    "\n",
    "show_farmer(m)"
   ]
  },
  {
   "cell_type": "markdown",
   "id": "9ef01a4a-1da4-4893-bbef-cbab7f31880f",
   "metadata": {},
   "source": [
    "## 3. Worst Case Profit"
   ]
  },
  {
   "cell_type": "code",
   "execution_count": 89,
   "id": "502ca506-2a30-4ebe-8c35-e39d1df06762",
   "metadata": {},
   "outputs": [
    {
     "name": "stdout",
     "output_type": "stream",
     "text": [
      "scenario_profit : Size=3\n",
      "    Key     : Value\n",
      "    average : 108250.0\n",
      "       good : 166000.0\n",
      "       poor :  50500.0\n",
      "mean_profit : Size=1\n",
      "    Key  : Value\n",
      "    None : 108250.0\n",
      "\n",
      "Scenario: good\n",
      "    scenario profit = 166000.0\n"
     ]
    },
    {
     "data": {
      "text/html": [
       "<div>\n",
       "<style scoped>\n",
       "    .dataframe tbody tr th:only-of-type {\n",
       "        vertical-align: middle;\n",
       "    }\n",
       "\n",
       "    .dataframe tbody tr th {\n",
       "        vertical-align: top;\n",
       "    }\n",
       "\n",
       "    .dataframe thead th {\n",
       "        text-align: right;\n",
       "    }\n",
       "</style>\n",
       "<table border=\"1\" class=\"dataframe\">\n",
       "  <thead>\n",
       "    <tr style=\"text-align: right;\">\n",
       "      <th></th>\n",
       "      <th>plant</th>\n",
       "      <th>produce</th>\n",
       "      <th>buy</th>\n",
       "      <th>feed</th>\n",
       "      <th>sell</th>\n",
       "      <th>revenue</th>\n",
       "      <th>expense</th>\n",
       "    </tr>\n",
       "  </thead>\n",
       "  <tbody>\n",
       "    <tr>\n",
       "      <th>wheat</th>\n",
       "      <td>150.0</td>\n",
       "      <td>450.0</td>\n",
       "      <td>0.0</td>\n",
       "      <td>200</td>\n",
       "      <td>250.0</td>\n",
       "      <td>42500.0</td>\n",
       "      <td>22500.0</td>\n",
       "    </tr>\n",
       "    <tr>\n",
       "      <th>corn</th>\n",
       "      <td>100.0</td>\n",
       "      <td>360.0</td>\n",
       "      <td>0.0</td>\n",
       "      <td>240</td>\n",
       "      <td>120.0</td>\n",
       "      <td>18000.0</td>\n",
       "      <td>23000.0</td>\n",
       "    </tr>\n",
       "    <tr>\n",
       "      <th>beets</th>\n",
       "      <td>250.0</td>\n",
       "      <td>6000.0</td>\n",
       "      <td>0.0</td>\n",
       "      <td>0</td>\n",
       "      <td>6000.0</td>\n",
       "      <td>216000.0</td>\n",
       "      <td>65000.0</td>\n",
       "    </tr>\n",
       "    <tr>\n",
       "      <th>more beets</th>\n",
       "      <td>0.0</td>\n",
       "      <td>0.0</td>\n",
       "      <td>0.0</td>\n",
       "      <td>0</td>\n",
       "      <td>0.0</td>\n",
       "      <td>0.0</td>\n",
       "      <td>0.0</td>\n",
       "    </tr>\n",
       "  </tbody>\n",
       "</table>\n",
       "</div>"
      ],
      "text/plain": [
       "            plant  produce  buy  feed    sell   revenue  expense\n",
       "wheat       150.0    450.0  0.0   200   250.0   42500.0  22500.0\n",
       "corn        100.0    360.0  0.0   240   120.0   18000.0  23000.0\n",
       "beets       250.0   6000.0  0.0     0  6000.0  216000.0  65000.0\n",
       "more beets    0.0      0.0  0.0     0     0.0       0.0      0.0"
      ]
     },
     "metadata": {},
     "output_type": "display_data"
    },
    {
     "name": "stdout",
     "output_type": "stream",
     "text": [
      "\n",
      "Scenario: average\n",
      "    scenario profit = 108250.0\n"
     ]
    },
    {
     "data": {
      "text/html": [
       "<div>\n",
       "<style scoped>\n",
       "    .dataframe tbody tr th:only-of-type {\n",
       "        vertical-align: middle;\n",
       "    }\n",
       "\n",
       "    .dataframe tbody tr th {\n",
       "        vertical-align: top;\n",
       "    }\n",
       "\n",
       "    .dataframe thead th {\n",
       "        text-align: right;\n",
       "    }\n",
       "</style>\n",
       "<table border=\"1\" class=\"dataframe\">\n",
       "  <thead>\n",
       "    <tr style=\"text-align: right;\">\n",
       "      <th></th>\n",
       "      <th>plant</th>\n",
       "      <th>produce</th>\n",
       "      <th>buy</th>\n",
       "      <th>feed</th>\n",
       "      <th>sell</th>\n",
       "      <th>revenue</th>\n",
       "      <th>expense</th>\n",
       "    </tr>\n",
       "  </thead>\n",
       "  <tbody>\n",
       "    <tr>\n",
       "      <th>wheat</th>\n",
       "      <td>150.0</td>\n",
       "      <td>375.0</td>\n",
       "      <td>0.0</td>\n",
       "      <td>200</td>\n",
       "      <td>175.0</td>\n",
       "      <td>29750.0</td>\n",
       "      <td>22500.0</td>\n",
       "    </tr>\n",
       "    <tr>\n",
       "      <th>corn</th>\n",
       "      <td>100.0</td>\n",
       "      <td>300.0</td>\n",
       "      <td>0.0</td>\n",
       "      <td>240</td>\n",
       "      <td>60.0</td>\n",
       "      <td>9000.0</td>\n",
       "      <td>23000.0</td>\n",
       "    </tr>\n",
       "    <tr>\n",
       "      <th>beets</th>\n",
       "      <td>250.0</td>\n",
       "      <td>5000.0</td>\n",
       "      <td>0.0</td>\n",
       "      <td>0</td>\n",
       "      <td>5000.0</td>\n",
       "      <td>180000.0</td>\n",
       "      <td>65000.0</td>\n",
       "    </tr>\n",
       "    <tr>\n",
       "      <th>more beets</th>\n",
       "      <td>0.0</td>\n",
       "      <td>0.0</td>\n",
       "      <td>0.0</td>\n",
       "      <td>0</td>\n",
       "      <td>0.0</td>\n",
       "      <td>0.0</td>\n",
       "      <td>0.0</td>\n",
       "    </tr>\n",
       "  </tbody>\n",
       "</table>\n",
       "</div>"
      ],
      "text/plain": [
       "            plant  produce  buy  feed    sell   revenue  expense\n",
       "wheat       150.0    375.0  0.0   200   175.0   29750.0  22500.0\n",
       "corn        100.0    300.0  0.0   240    60.0    9000.0  23000.0\n",
       "beets       250.0   5000.0  0.0     0  5000.0  180000.0  65000.0\n",
       "more beets    0.0      0.0  0.0     0     0.0       0.0      0.0"
      ]
     },
     "metadata": {},
     "output_type": "display_data"
    },
    {
     "name": "stdout",
     "output_type": "stream",
     "text": [
      "\n",
      "Scenario: poor\n",
      "    scenario profit = 50500.0\n"
     ]
    },
    {
     "data": {
      "text/html": [
       "<div>\n",
       "<style scoped>\n",
       "    .dataframe tbody tr th:only-of-type {\n",
       "        vertical-align: middle;\n",
       "    }\n",
       "\n",
       "    .dataframe tbody tr th {\n",
       "        vertical-align: top;\n",
       "    }\n",
       "\n",
       "    .dataframe thead th {\n",
       "        text-align: right;\n",
       "    }\n",
       "</style>\n",
       "<table border=\"1\" class=\"dataframe\">\n",
       "  <thead>\n",
       "    <tr style=\"text-align: right;\">\n",
       "      <th></th>\n",
       "      <th>plant</th>\n",
       "      <th>produce</th>\n",
       "      <th>buy</th>\n",
       "      <th>feed</th>\n",
       "      <th>sell</th>\n",
       "      <th>revenue</th>\n",
       "      <th>expense</th>\n",
       "    </tr>\n",
       "  </thead>\n",
       "  <tbody>\n",
       "    <tr>\n",
       "      <th>wheat</th>\n",
       "      <td>150.0</td>\n",
       "      <td>300.0</td>\n",
       "      <td>0.0</td>\n",
       "      <td>200</td>\n",
       "      <td>100.0</td>\n",
       "      <td>17000.0</td>\n",
       "      <td>22500.0</td>\n",
       "    </tr>\n",
       "    <tr>\n",
       "      <th>corn</th>\n",
       "      <td>100.0</td>\n",
       "      <td>240.0</td>\n",
       "      <td>0.0</td>\n",
       "      <td>240</td>\n",
       "      <td>0.0</td>\n",
       "      <td>0.0</td>\n",
       "      <td>23000.0</td>\n",
       "    </tr>\n",
       "    <tr>\n",
       "      <th>beets</th>\n",
       "      <td>250.0</td>\n",
       "      <td>4000.0</td>\n",
       "      <td>0.0</td>\n",
       "      <td>0</td>\n",
       "      <td>4000.0</td>\n",
       "      <td>144000.0</td>\n",
       "      <td>65000.0</td>\n",
       "    </tr>\n",
       "    <tr>\n",
       "      <th>more beets</th>\n",
       "      <td>0.0</td>\n",
       "      <td>0.0</td>\n",
       "      <td>0.0</td>\n",
       "      <td>0</td>\n",
       "      <td>0.0</td>\n",
       "      <td>0.0</td>\n",
       "      <td>0.0</td>\n",
       "    </tr>\n",
       "  </tbody>\n",
       "</table>\n",
       "</div>"
      ],
      "text/plain": [
       "            plant  produce  buy  feed    sell   revenue  expense\n",
       "wheat       150.0    300.0  0.0   200   100.0   17000.0  22500.0\n",
       "corn        100.0    240.0  0.0   240     0.0       0.0  23000.0\n",
       "beets       250.0   4000.0  0.0     0  4000.0  144000.0  65000.0\n",
       "more beets    0.0      0.0  0.0     0     0.0       0.0      0.0"
      ]
     },
     "metadata": {},
     "output_type": "display_data"
    }
   ],
   "source": [
    "m = farmer(commodities, yields)\n",
    "\n",
    "# maximize mean profit\n",
    "@m.Objective(sense=pyo.maximize)\n",
    "def objective(m):\n",
    "    return m.worst_case_profit\n",
    "\n",
    "pyo.SolverFactory('cbc').solve(m)\n",
    "\n",
    "show_farmer(m)"
   ]
  },
  {
   "cell_type": "markdown",
   "id": "72d58dac-b8f9-44f9-aebc-1853589f6b98",
   "metadata": {},
   "source": [
    "## 4. Risk versus Return"
   ]
  },
  {
   "cell_type": "code",
   "execution_count": 64,
   "id": "f3d2d88c-bc31-448d-9f67-b776f15d2025",
   "metadata": {},
   "outputs": [
    {
     "data": {
      "text/plain": [
       "<AxesSubplot:xlabel='wc'>"
      ]
     },
     "execution_count": 64,
     "metadata": {},
     "output_type": "execute_result"
    },
    {
     "data": {
      "image/png": "[encoded data removed]",
      "text/plain": [
       "<Figure size 432x288 with 1 Axes>"
      ]
     },
     "metadata": {
      "needs_background": "light"
     },
     "output_type": "display_data"
    }
   ],
   "source": [
    "df = pd.DataFrame()\n",
    "\n",
    "for wc in np.linspace(48000, 50500, 11):\n",
    "    m = farmer(commodities, yields)\n",
    "    \n",
    "    @m.Constraint(m.CROPS)\n",
    "    def min_profit(m, c):\n",
    "        return m.scenario_profit[s] >= wc\n",
    "\n",
    "    # maximize mean profit\n",
    "    @m.Objective(sense=pyo.maximize)\n",
    "    def objective(m):\n",
    "        return m.mean_profit\n",
    "\n",
    "    pyo.SolverFactory('cbc').solve(m)\n",
    "    \n",
    "    df.loc[wc, \"return\"] = m.mean_profit()\n",
    "    df.loc[wc, \"wc\"] = wc\n",
    "    \n",
    "df.plot(x=\"wc\", y=\"return\")"
   ]
  },
  {
   "cell_type": "code",
   "execution_count": null,
   "id": "fe026b43-3e02-4de4-9c02-b677fc61a3e5",
   "metadata": {},
   "outputs": [],
   "source": []
  }
 ],
 "metadata": {
  "kernelspec": {
   "display_name": "Python 3 (ipykernel)",
   "language": "python",
   "name": "python3"
  },
  "language_info": {
   "codemirror_mode": {
    "name": "ipython",
    "version": 3
   },
   "file_extension": ".py",
   "mimetype": "text/x-python",
   "name": "python",
   "nbconvert_exporter": "python",
   "pygments_lexer": "ipython3",
   "version": "3.9.7"
  },
  "varInspector": {
   "cols": {
    "lenName": 16,
    "lenType": 16,
    "lenVar": 40
   },
   "kernels_config": {
    "python": {
     "delete_cmd_postfix": "",
     "delete_cmd_prefix": "del ",
     "library": "var_list.py",
     "varRefreshCmd": "print(var_dic_list())"
    },
    "r": {
     "delete_cmd_postfix": ") ",
     "delete_cmd_prefix": "rm(",
     "library": "var_list.r",
     "varRefreshCmd": "cat(var_dic_list()) "
    }
   },
   "types_to_exclude": [
    "module",
    "function",
    "builtin_function_or_method",
    "instance",
    "_Feature"
   ],
   "window_display": false
  }
 },
 "nbformat": 4,
 "nbformat_minor": 5
}
